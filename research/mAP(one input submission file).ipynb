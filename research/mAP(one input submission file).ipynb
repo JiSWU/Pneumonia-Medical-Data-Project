{
  "cells": [
    {
      "metadata": {
        "_uuid": "8466faddaa492e417e80cea07989dceb72017246"
      },
      "cell_type": "markdown",
      "source": "# Objective: Obtain out of fold predictions on the entire training set using cross validation and then using a mean average precision IoU metric, that closely resembles the competition metric, to improve validation"
    },
    {
      "metadata": {
        "trusted": true,
        "_uuid": "eec3fbc59b4528da7fa867dd148c52d6391edb5b"
      },
      "cell_type": "code",
      "source": "import numpy as np\nimport pandas as pd",
      "execution_count": 1,
      "outputs": []
    },
    {
      "metadata": {
        "_uuid": "97a0f040fd76bb2970fb721615570defb6efb949"
      },
      "cell_type": "markdown",
      "source": "# Prepare out of fold training predictions for implementation of MAP IoU matching competition evaluation description"
    },
    {
      "metadata": {
        "_uuid": "351227cc50e0711d25350d1f1bdc1b54bbf3d505"
      },
      "cell_type": "markdown",
      "source": "Load oof predictions from CNN segmentation CV kernel https://www.kaggle.com/cchadha/cnn-segmentation-cv-with-oof-preds-on-train-set/notebook"
    },
    {
      "metadata": {
        "trusted": true,
        "_uuid": "b141987cdeb3559470e514de28492ae28a770733"
      },
      "cell_type": "code",
      "source": "oof_preds0 = pd.read_csv('../input/cnn-segmentation-cv-with-oof-preds-on-train-set/submission0.csv')\n#oof_preds1 = pd.read_csv('../input/cnn-segmentation-cv-with-oof-preds-on-train-set/oof_preds1.csv')\n#oof_preds2 = pd.read_csv('../input/cnn-segmentation-cv-with-oof-preds-on-train-set/oof_preds2.csv')",
      "execution_count": 2,
      "outputs": []
    },
    {
      "metadata": {
        "trusted": true,
        "_uuid": "e0ef41d62accd5165bf381de599419c83cab1a42"
      },
      "cell_type": "code",
      "source": "oof_preds0.head()",
      "execution_count": 3,
      "outputs": [
        {
          "output_type": "execute_result",
          "execution_count": 3,
          "data": {
            "text/plain": "                              patientId                                   PredictionString\n0  0fcd1318-e6ae-4d14-b466-769128285665                                                NaN\n1  053208fa-ac79-46e2-9e78-f219ac122513                                                NaN\n2  c1cf3255-d734-4980-bfe0-967902ad7ed9                  0.5177048731732047 499 283 26 11 \n3  107f84d9-65b3-4a11-9c8d-921a5bed5b2f  0.6215571028343668 180 166 294 627 0.730280537...\n4  c02e993c-7642-4d8a-aace-988c416ec09a  0.567282343561161 422 102 461 677 0.5501232955...",
            "text/html": "<div>\n<style scoped>\n    .dataframe tbody tr th:only-of-type {\n        vertical-align: middle;\n    }\n\n    .dataframe tbody tr th {\n        vertical-align: top;\n    }\n\n    .dataframe thead th {\n        text-align: right;\n    }\n</style>\n<table border=\"1\" class=\"dataframe\">\n  <thead>\n    <tr style=\"text-align: right;\">\n      <th></th>\n      <th>patientId</th>\n      <th>PredictionString</th>\n    </tr>\n  </thead>\n  <tbody>\n    <tr>\n      <th>0</th>\n      <td>0fcd1318-e6ae-4d14-b466-769128285665</td>\n      <td>NaN</td>\n    </tr>\n    <tr>\n      <th>1</th>\n      <td>053208fa-ac79-46e2-9e78-f219ac122513</td>\n      <td>NaN</td>\n    </tr>\n    <tr>\n      <th>2</th>\n      <td>c1cf3255-d734-4980-bfe0-967902ad7ed9</td>\n      <td>0.5177048731732047 499 283 26 11</td>\n    </tr>\n    <tr>\n      <th>3</th>\n      <td>107f84d9-65b3-4a11-9c8d-921a5bed5b2f</td>\n      <td>0.6215571028343668 180 166 294 627 0.730280537...</td>\n    </tr>\n    <tr>\n      <th>4</th>\n      <td>c02e993c-7642-4d8a-aace-988c416ec09a</td>\n      <td>0.567282343561161 422 102 461 677 0.5501232955...</td>\n    </tr>\n  </tbody>\n</table>\n</div>"
          },
          "metadata": {}
        }
      ]
    },
    {
      "metadata": {
        "scrolled": true,
        "trusted": true,
        "_uuid": "e4f9fc9593ded7314463ddbb437fd0ea95f3cd1c"
      },
      "cell_type": "code",
      "source": "#oof_preds1.head()",
      "execution_count": null,
      "outputs": []
    },
    {
      "metadata": {
        "trusted": true,
        "_uuid": "b15e2aaf7ceb8da8d8c2c522f0a2aa1ff4c7125c"
      },
      "cell_type": "code",
      "source": "#oof_preds2.head()",
      "execution_count": null,
      "outputs": []
    },
    {
      "metadata": {
        "_uuid": "debe3e4e95b80f6db124c7e731b4cf529073bc78"
      },
      "cell_type": "markdown",
      "source": "Read in training labels"
    },
    {
      "metadata": {
        "trusted": true,
        "_uuid": "ac96897c3549427881c993eab140ff3bedc2d071"
      },
      "cell_type": "code",
      "source": "df = pd.read_csv('../input/rsna-pneumonia-detection-challenge/stage_2_train_labels.csv')\ndf.head(20)",
      "execution_count": 4,
      "outputs": [
        {
          "output_type": "execute_result",
          "execution_count": 4,
          "data": {
            "text/plain": "                               patientId      x   ...    height  Target\n0   0004cfab-14fd-4e49-80ba-63a80b6bddd6    NaN   ...       NaN       0\n1   00313ee0-9eaa-42f4-b0ab-c148ed3241cd    NaN   ...       NaN       0\n2   00322d4d-1c29-4943-afc9-b6754be640eb    NaN   ...       NaN       0\n3   003d8fa0-6bf1-40ed-b54c-ac657f8495c5    NaN   ...       NaN       0\n4   00436515-870c-4b36-a041-de91049b9ab4  264.0   ...     379.0       1\n5   00436515-870c-4b36-a041-de91049b9ab4  562.0   ...     453.0       1\n6   00569f44-917d-4c86-a842-81832af98c30    NaN   ...       NaN       0\n7   006cec2e-6ce2-4549-bffa-eadfcd1e9970    NaN   ...       NaN       0\n8   00704310-78a8-4b38-8475-49f4573b2dbb  323.0   ...     104.0       1\n9   00704310-78a8-4b38-8475-49f4573b2dbb  695.0   ...     137.0       1\n10  008c19e8-a820-403a-930a-bc74a4053664    NaN   ...       NaN       0\n11  009482dc-3db5-48d4-8580-5c89c4f01334    NaN   ...       NaN       0\n12  009eb222-eabc-4150-8121-d5a6d06b8ebf    NaN   ...       NaN       0\n13  00a85be6-6eb0-421d-8acf-ff2dc0007e8a    NaN   ...       NaN       0\n14  00aecb01-a116-45a2-956c-08d2fa55433f  288.0   ...     135.0       1\n15  00aecb01-a116-45a2-956c-08d2fa55433f  547.0   ...     165.0       1\n16  00c0b293-48e7-4e16-ac76-9269ba535a62  306.0   ...     244.0       1\n17  00c0b293-48e7-4e16-ac76-9269ba535a62  650.0   ...     284.0       1\n18  00d7c36e-3cdf-4df6-ac03-6c30cdc8e85b    NaN   ...       NaN       0\n19  00f08de1-517e-4652-a04f-d1dc9ee48593  181.0   ...     506.0       1\n\n[20 rows x 6 columns]",
            "text/html": "<div>\n<style scoped>\n    .dataframe tbody tr th:only-of-type {\n        vertical-align: middle;\n    }\n\n    .dataframe tbody tr th {\n        vertical-align: top;\n    }\n\n    .dataframe thead th {\n        text-align: right;\n    }\n</style>\n<table border=\"1\" class=\"dataframe\">\n  <thead>\n    <tr style=\"text-align: right;\">\n      <th></th>\n      <th>patientId</th>\n      <th>x</th>\n      <th>y</th>\n      <th>width</th>\n      <th>height</th>\n      <th>Target</th>\n    </tr>\n  </thead>\n  <tbody>\n    <tr>\n      <th>0</th>\n      <td>0004cfab-14fd-4e49-80ba-63a80b6bddd6</td>\n      <td>NaN</td>\n      <td>NaN</td>\n      <td>NaN</td>\n      <td>NaN</td>\n      <td>0</td>\n    </tr>\n    <tr>\n      <th>1</th>\n      <td>00313ee0-9eaa-42f4-b0ab-c148ed3241cd</td>\n      <td>NaN</td>\n      <td>NaN</td>\n      <td>NaN</td>\n      <td>NaN</td>\n      <td>0</td>\n    </tr>\n    <tr>\n      <th>2</th>\n      <td>00322d4d-1c29-4943-afc9-b6754be640eb</td>\n      <td>NaN</td>\n      <td>NaN</td>\n      <td>NaN</td>\n      <td>NaN</td>\n      <td>0</td>\n    </tr>\n    <tr>\n      <th>3</th>\n      <td>003d8fa0-6bf1-40ed-b54c-ac657f8495c5</td>\n      <td>NaN</td>\n      <td>NaN</td>\n      <td>NaN</td>\n      <td>NaN</td>\n      <td>0</td>\n    </tr>\n    <tr>\n      <th>4</th>\n      <td>00436515-870c-4b36-a041-de91049b9ab4</td>\n      <td>264.0</td>\n      <td>152.0</td>\n      <td>213.0</td>\n      <td>379.0</td>\n      <td>1</td>\n    </tr>\n    <tr>\n      <th>5</th>\n      <td>00436515-870c-4b36-a041-de91049b9ab4</td>\n      <td>562.0</td>\n      <td>152.0</td>\n      <td>256.0</td>\n      <td>453.0</td>\n      <td>1</td>\n    </tr>\n    <tr>\n      <th>6</th>\n      <td>00569f44-917d-4c86-a842-81832af98c30</td>\n      <td>NaN</td>\n      <td>NaN</td>\n      <td>NaN</td>\n      <td>NaN</td>\n      <td>0</td>\n    </tr>\n    <tr>\n      <th>7</th>\n      <td>006cec2e-6ce2-4549-bffa-eadfcd1e9970</td>\n      <td>NaN</td>\n      <td>NaN</td>\n      <td>NaN</td>\n      <td>NaN</td>\n      <td>0</td>\n    </tr>\n    <tr>\n      <th>8</th>\n      <td>00704310-78a8-4b38-8475-49f4573b2dbb</td>\n      <td>323.0</td>\n      <td>577.0</td>\n      <td>160.0</td>\n      <td>104.0</td>\n      <td>1</td>\n    </tr>\n    <tr>\n      <th>9</th>\n      <td>00704310-78a8-4b38-8475-49f4573b2dbb</td>\n      <td>695.0</td>\n      <td>575.0</td>\n      <td>162.0</td>\n      <td>137.0</td>\n      <td>1</td>\n    </tr>\n    <tr>\n      <th>10</th>\n      <td>008c19e8-a820-403a-930a-bc74a4053664</td>\n      <td>NaN</td>\n      <td>NaN</td>\n      <td>NaN</td>\n      <td>NaN</td>\n      <td>0</td>\n    </tr>\n    <tr>\n      <th>11</th>\n      <td>009482dc-3db5-48d4-8580-5c89c4f01334</td>\n      <td>NaN</td>\n      <td>NaN</td>\n      <td>NaN</td>\n      <td>NaN</td>\n      <td>0</td>\n    </tr>\n    <tr>\n      <th>12</th>\n      <td>009eb222-eabc-4150-8121-d5a6d06b8ebf</td>\n      <td>NaN</td>\n      <td>NaN</td>\n      <td>NaN</td>\n      <td>NaN</td>\n      <td>0</td>\n    </tr>\n    <tr>\n      <th>13</th>\n      <td>00a85be6-6eb0-421d-8acf-ff2dc0007e8a</td>\n      <td>NaN</td>\n      <td>NaN</td>\n      <td>NaN</td>\n      <td>NaN</td>\n      <td>0</td>\n    </tr>\n    <tr>\n      <th>14</th>\n      <td>00aecb01-a116-45a2-956c-08d2fa55433f</td>\n      <td>288.0</td>\n      <td>322.0</td>\n      <td>94.0</td>\n      <td>135.0</td>\n      <td>1</td>\n    </tr>\n    <tr>\n      <th>15</th>\n      <td>00aecb01-a116-45a2-956c-08d2fa55433f</td>\n      <td>547.0</td>\n      <td>299.0</td>\n      <td>119.0</td>\n      <td>165.0</td>\n      <td>1</td>\n    </tr>\n    <tr>\n      <th>16</th>\n      <td>00c0b293-48e7-4e16-ac76-9269ba535a62</td>\n      <td>306.0</td>\n      <td>544.0</td>\n      <td>168.0</td>\n      <td>244.0</td>\n      <td>1</td>\n    </tr>\n    <tr>\n      <th>17</th>\n      <td>00c0b293-48e7-4e16-ac76-9269ba535a62</td>\n      <td>650.0</td>\n      <td>511.0</td>\n      <td>206.0</td>\n      <td>284.0</td>\n      <td>1</td>\n    </tr>\n    <tr>\n      <th>18</th>\n      <td>00d7c36e-3cdf-4df6-ac03-6c30cdc8e85b</td>\n      <td>NaN</td>\n      <td>NaN</td>\n      <td>NaN</td>\n      <td>NaN</td>\n      <td>0</td>\n    </tr>\n    <tr>\n      <th>19</th>\n      <td>00f08de1-517e-4652-a04f-d1dc9ee48593</td>\n      <td>181.0</td>\n      <td>184.0</td>\n      <td>206.0</td>\n      <td>506.0</td>\n      <td>1</td>\n    </tr>\n  </tbody>\n</table>\n</div>"
          },
          "metadata": {}
        }
      ]
    },
    {
      "metadata": {
        "_uuid": "b92a23ed6f5e57c1bacc1df9cc5ed011d35658d5"
      },
      "cell_type": "markdown",
      "source": "Parse bounding box labels into correct format for Mean Average Precision IoU metric"
    },
    {
      "metadata": {
        "trusted": true,
        "_uuid": "1e4af8e36bb8b661b536772673e7adae4ae0e2c6"
      },
      "cell_type": "code",
      "source": "df['bbox_target'] = (df['x'].astype(str) +\n                    ' ' + \n                    df['y'].astype(str) +\n                    ' ' +\n                    df['width'].astype(str) +\n                    ' ' +\n                    df['height'].astype(str))\n# make a bbox_target column using x, y, width and height.\ndf.head(10)",
      "execution_count": 5,
      "outputs": [
        {
          "output_type": "execute_result",
          "execution_count": 5,
          "data": {
            "text/plain": "                              patientId           ...                         bbox_target\n0  0004cfab-14fd-4e49-80ba-63a80b6bddd6           ...                     nan nan nan nan\n1  00313ee0-9eaa-42f4-b0ab-c148ed3241cd           ...                     nan nan nan nan\n2  00322d4d-1c29-4943-afc9-b6754be640eb           ...                     nan nan nan nan\n3  003d8fa0-6bf1-40ed-b54c-ac657f8495c5           ...                     nan nan nan nan\n4  00436515-870c-4b36-a041-de91049b9ab4           ...             264.0 152.0 213.0 379.0\n5  00436515-870c-4b36-a041-de91049b9ab4           ...             562.0 152.0 256.0 453.0\n6  00569f44-917d-4c86-a842-81832af98c30           ...                     nan nan nan nan\n7  006cec2e-6ce2-4549-bffa-eadfcd1e9970           ...                     nan nan nan nan\n8  00704310-78a8-4b38-8475-49f4573b2dbb           ...             323.0 577.0 160.0 104.0\n9  00704310-78a8-4b38-8475-49f4573b2dbb           ...             695.0 575.0 162.0 137.0\n\n[10 rows x 7 columns]",
            "text/html": "<div>\n<style scoped>\n    .dataframe tbody tr th:only-of-type {\n        vertical-align: middle;\n    }\n\n    .dataframe tbody tr th {\n        vertical-align: top;\n    }\n\n    .dataframe thead th {\n        text-align: right;\n    }\n</style>\n<table border=\"1\" class=\"dataframe\">\n  <thead>\n    <tr style=\"text-align: right;\">\n      <th></th>\n      <th>patientId</th>\n      <th>x</th>\n      <th>y</th>\n      <th>width</th>\n      <th>height</th>\n      <th>Target</th>\n      <th>bbox_target</th>\n    </tr>\n  </thead>\n  <tbody>\n    <tr>\n      <th>0</th>\n      <td>0004cfab-14fd-4e49-80ba-63a80b6bddd6</td>\n      <td>NaN</td>\n      <td>NaN</td>\n      <td>NaN</td>\n      <td>NaN</td>\n      <td>0</td>\n      <td>nan nan nan nan</td>\n    </tr>\n    <tr>\n      <th>1</th>\n      <td>00313ee0-9eaa-42f4-b0ab-c148ed3241cd</td>\n      <td>NaN</td>\n      <td>NaN</td>\n      <td>NaN</td>\n      <td>NaN</td>\n      <td>0</td>\n      <td>nan nan nan nan</td>\n    </tr>\n    <tr>\n      <th>2</th>\n      <td>00322d4d-1c29-4943-afc9-b6754be640eb</td>\n      <td>NaN</td>\n      <td>NaN</td>\n      <td>NaN</td>\n      <td>NaN</td>\n      <td>0</td>\n      <td>nan nan nan nan</td>\n    </tr>\n    <tr>\n      <th>3</th>\n      <td>003d8fa0-6bf1-40ed-b54c-ac657f8495c5</td>\n      <td>NaN</td>\n      <td>NaN</td>\n      <td>NaN</td>\n      <td>NaN</td>\n      <td>0</td>\n      <td>nan nan nan nan</td>\n    </tr>\n    <tr>\n      <th>4</th>\n      <td>00436515-870c-4b36-a041-de91049b9ab4</td>\n      <td>264.0</td>\n      <td>152.0</td>\n      <td>213.0</td>\n      <td>379.0</td>\n      <td>1</td>\n      <td>264.0 152.0 213.0 379.0</td>\n    </tr>\n    <tr>\n      <th>5</th>\n      <td>00436515-870c-4b36-a041-de91049b9ab4</td>\n      <td>562.0</td>\n      <td>152.0</td>\n      <td>256.0</td>\n      <td>453.0</td>\n      <td>1</td>\n      <td>562.0 152.0 256.0 453.0</td>\n    </tr>\n    <tr>\n      <th>6</th>\n      <td>00569f44-917d-4c86-a842-81832af98c30</td>\n      <td>NaN</td>\n      <td>NaN</td>\n      <td>NaN</td>\n      <td>NaN</td>\n      <td>0</td>\n      <td>nan nan nan nan</td>\n    </tr>\n    <tr>\n      <th>7</th>\n      <td>006cec2e-6ce2-4549-bffa-eadfcd1e9970</td>\n      <td>NaN</td>\n      <td>NaN</td>\n      <td>NaN</td>\n      <td>NaN</td>\n      <td>0</td>\n      <td>nan nan nan nan</td>\n    </tr>\n    <tr>\n      <th>8</th>\n      <td>00704310-78a8-4b38-8475-49f4573b2dbb</td>\n      <td>323.0</td>\n      <td>577.0</td>\n      <td>160.0</td>\n      <td>104.0</td>\n      <td>1</td>\n      <td>323.0 577.0 160.0 104.0</td>\n    </tr>\n    <tr>\n      <th>9</th>\n      <td>00704310-78a8-4b38-8475-49f4573b2dbb</td>\n      <td>695.0</td>\n      <td>575.0</td>\n      <td>162.0</td>\n      <td>137.0</td>\n      <td>1</td>\n      <td>695.0 575.0 162.0 137.0</td>\n    </tr>\n  </tbody>\n</table>\n</div>"
          },
          "metadata": {}
        }
      ]
    },
    {
      "metadata": {
        "scrolled": true,
        "trusted": true,
        "_uuid": "3d54c292a627d731491e2bee2cba24a3ecfb48fc"
      },
      "cell_type": "code",
      "source": "# 공백을 기준으로 나눔, ','는 기본으로 찍힘\ndf.loc[:, 'bbox_target'] = df.loc[:, 'bbox_target'].map(lambda x: x.split(' '))\ndf.head(20)",
      "execution_count": 6,
      "outputs": [
        {
          "output_type": "execute_result",
          "execution_count": 6,
          "data": {
            "text/plain": "                               patientId              ...                                bbox_target\n0   0004cfab-14fd-4e49-80ba-63a80b6bddd6              ...                       [nan, nan, nan, nan]\n1   00313ee0-9eaa-42f4-b0ab-c148ed3241cd              ...                       [nan, nan, nan, nan]\n2   00322d4d-1c29-4943-afc9-b6754be640eb              ...                       [nan, nan, nan, nan]\n3   003d8fa0-6bf1-40ed-b54c-ac657f8495c5              ...                       [nan, nan, nan, nan]\n4   00436515-870c-4b36-a041-de91049b9ab4              ...               [264.0, 152.0, 213.0, 379.0]\n5   00436515-870c-4b36-a041-de91049b9ab4              ...               [562.0, 152.0, 256.0, 453.0]\n6   00569f44-917d-4c86-a842-81832af98c30              ...                       [nan, nan, nan, nan]\n7   006cec2e-6ce2-4549-bffa-eadfcd1e9970              ...                       [nan, nan, nan, nan]\n8   00704310-78a8-4b38-8475-49f4573b2dbb              ...               [323.0, 577.0, 160.0, 104.0]\n9   00704310-78a8-4b38-8475-49f4573b2dbb              ...               [695.0, 575.0, 162.0, 137.0]\n10  008c19e8-a820-403a-930a-bc74a4053664              ...                       [nan, nan, nan, nan]\n11  009482dc-3db5-48d4-8580-5c89c4f01334              ...                       [nan, nan, nan, nan]\n12  009eb222-eabc-4150-8121-d5a6d06b8ebf              ...                       [nan, nan, nan, nan]\n13  00a85be6-6eb0-421d-8acf-ff2dc0007e8a              ...                       [nan, nan, nan, nan]\n14  00aecb01-a116-45a2-956c-08d2fa55433f              ...                [288.0, 322.0, 94.0, 135.0]\n15  00aecb01-a116-45a2-956c-08d2fa55433f              ...               [547.0, 299.0, 119.0, 165.0]\n16  00c0b293-48e7-4e16-ac76-9269ba535a62              ...               [306.0, 544.0, 168.0, 244.0]\n17  00c0b293-48e7-4e16-ac76-9269ba535a62              ...               [650.0, 511.0, 206.0, 284.0]\n18  00d7c36e-3cdf-4df6-ac03-6c30cdc8e85b              ...                       [nan, nan, nan, nan]\n19  00f08de1-517e-4652-a04f-d1dc9ee48593              ...               [181.0, 184.0, 206.0, 506.0]\n\n[20 rows x 7 columns]",
            "text/html": "<div>\n<style scoped>\n    .dataframe tbody tr th:only-of-type {\n        vertical-align: middle;\n    }\n\n    .dataframe tbody tr th {\n        vertical-align: top;\n    }\n\n    .dataframe thead th {\n        text-align: right;\n    }\n</style>\n<table border=\"1\" class=\"dataframe\">\n  <thead>\n    <tr style=\"text-align: right;\">\n      <th></th>\n      <th>patientId</th>\n      <th>x</th>\n      <th>y</th>\n      <th>width</th>\n      <th>height</th>\n      <th>Target</th>\n      <th>bbox_target</th>\n    </tr>\n  </thead>\n  <tbody>\n    <tr>\n      <th>0</th>\n      <td>0004cfab-14fd-4e49-80ba-63a80b6bddd6</td>\n      <td>NaN</td>\n      <td>NaN</td>\n      <td>NaN</td>\n      <td>NaN</td>\n      <td>0</td>\n      <td>[nan, nan, nan, nan]</td>\n    </tr>\n    <tr>\n      <th>1</th>\n      <td>00313ee0-9eaa-42f4-b0ab-c148ed3241cd</td>\n      <td>NaN</td>\n      <td>NaN</td>\n      <td>NaN</td>\n      <td>NaN</td>\n      <td>0</td>\n      <td>[nan, nan, nan, nan]</td>\n    </tr>\n    <tr>\n      <th>2</th>\n      <td>00322d4d-1c29-4943-afc9-b6754be640eb</td>\n      <td>NaN</td>\n      <td>NaN</td>\n      <td>NaN</td>\n      <td>NaN</td>\n      <td>0</td>\n      <td>[nan, nan, nan, nan]</td>\n    </tr>\n    <tr>\n      <th>3</th>\n      <td>003d8fa0-6bf1-40ed-b54c-ac657f8495c5</td>\n      <td>NaN</td>\n      <td>NaN</td>\n      <td>NaN</td>\n      <td>NaN</td>\n      <td>0</td>\n      <td>[nan, nan, nan, nan]</td>\n    </tr>\n    <tr>\n      <th>4</th>\n      <td>00436515-870c-4b36-a041-de91049b9ab4</td>\n      <td>264.0</td>\n      <td>152.0</td>\n      <td>213.0</td>\n      <td>379.0</td>\n      <td>1</td>\n      <td>[264.0, 152.0, 213.0, 379.0]</td>\n    </tr>\n    <tr>\n      <th>5</th>\n      <td>00436515-870c-4b36-a041-de91049b9ab4</td>\n      <td>562.0</td>\n      <td>152.0</td>\n      <td>256.0</td>\n      <td>453.0</td>\n      <td>1</td>\n      <td>[562.0, 152.0, 256.0, 453.0]</td>\n    </tr>\n    <tr>\n      <th>6</th>\n      <td>00569f44-917d-4c86-a842-81832af98c30</td>\n      <td>NaN</td>\n      <td>NaN</td>\n      <td>NaN</td>\n      <td>NaN</td>\n      <td>0</td>\n      <td>[nan, nan, nan, nan]</td>\n    </tr>\n    <tr>\n      <th>7</th>\n      <td>006cec2e-6ce2-4549-bffa-eadfcd1e9970</td>\n      <td>NaN</td>\n      <td>NaN</td>\n      <td>NaN</td>\n      <td>NaN</td>\n      <td>0</td>\n      <td>[nan, nan, nan, nan]</td>\n    </tr>\n    <tr>\n      <th>8</th>\n      <td>00704310-78a8-4b38-8475-49f4573b2dbb</td>\n      <td>323.0</td>\n      <td>577.0</td>\n      <td>160.0</td>\n      <td>104.0</td>\n      <td>1</td>\n      <td>[323.0, 577.0, 160.0, 104.0]</td>\n    </tr>\n    <tr>\n      <th>9</th>\n      <td>00704310-78a8-4b38-8475-49f4573b2dbb</td>\n      <td>695.0</td>\n      <td>575.0</td>\n      <td>162.0</td>\n      <td>137.0</td>\n      <td>1</td>\n      <td>[695.0, 575.0, 162.0, 137.0]</td>\n    </tr>\n    <tr>\n      <th>10</th>\n      <td>008c19e8-a820-403a-930a-bc74a4053664</td>\n      <td>NaN</td>\n      <td>NaN</td>\n      <td>NaN</td>\n      <td>NaN</td>\n      <td>0</td>\n      <td>[nan, nan, nan, nan]</td>\n    </tr>\n    <tr>\n      <th>11</th>\n      <td>009482dc-3db5-48d4-8580-5c89c4f01334</td>\n      <td>NaN</td>\n      <td>NaN</td>\n      <td>NaN</td>\n      <td>NaN</td>\n      <td>0</td>\n      <td>[nan, nan, nan, nan]</td>\n    </tr>\n    <tr>\n      <th>12</th>\n      <td>009eb222-eabc-4150-8121-d5a6d06b8ebf</td>\n      <td>NaN</td>\n      <td>NaN</td>\n      <td>NaN</td>\n      <td>NaN</td>\n      <td>0</td>\n      <td>[nan, nan, nan, nan]</td>\n    </tr>\n    <tr>\n      <th>13</th>\n      <td>00a85be6-6eb0-421d-8acf-ff2dc0007e8a</td>\n      <td>NaN</td>\n      <td>NaN</td>\n      <td>NaN</td>\n      <td>NaN</td>\n      <td>0</td>\n      <td>[nan, nan, nan, nan]</td>\n    </tr>\n    <tr>\n      <th>14</th>\n      <td>00aecb01-a116-45a2-956c-08d2fa55433f</td>\n      <td>288.0</td>\n      <td>322.0</td>\n      <td>94.0</td>\n      <td>135.0</td>\n      <td>1</td>\n      <td>[288.0, 322.0, 94.0, 135.0]</td>\n    </tr>\n    <tr>\n      <th>15</th>\n      <td>00aecb01-a116-45a2-956c-08d2fa55433f</td>\n      <td>547.0</td>\n      <td>299.0</td>\n      <td>119.0</td>\n      <td>165.0</td>\n      <td>1</td>\n      <td>[547.0, 299.0, 119.0, 165.0]</td>\n    </tr>\n    <tr>\n      <th>16</th>\n      <td>00c0b293-48e7-4e16-ac76-9269ba535a62</td>\n      <td>306.0</td>\n      <td>544.0</td>\n      <td>168.0</td>\n      <td>244.0</td>\n      <td>1</td>\n      <td>[306.0, 544.0, 168.0, 244.0]</td>\n    </tr>\n    <tr>\n      <th>17</th>\n      <td>00c0b293-48e7-4e16-ac76-9269ba535a62</td>\n      <td>650.0</td>\n      <td>511.0</td>\n      <td>206.0</td>\n      <td>284.0</td>\n      <td>1</td>\n      <td>[650.0, 511.0, 206.0, 284.0]</td>\n    </tr>\n    <tr>\n      <th>18</th>\n      <td>00d7c36e-3cdf-4df6-ac03-6c30cdc8e85b</td>\n      <td>NaN</td>\n      <td>NaN</td>\n      <td>NaN</td>\n      <td>NaN</td>\n      <td>0</td>\n      <td>[nan, nan, nan, nan]</td>\n    </tr>\n    <tr>\n      <th>19</th>\n      <td>00f08de1-517e-4652-a04f-d1dc9ee48593</td>\n      <td>181.0</td>\n      <td>184.0</td>\n      <td>206.0</td>\n      <td>506.0</td>\n      <td>1</td>\n      <td>[181.0, 184.0, 206.0, 506.0]</td>\n    </tr>\n  </tbody>\n</table>\n</div>"
          },
          "metadata": {}
        }
      ]
    },
    {
      "metadata": {
        "trusted": true,
        "_uuid": "e55119e423db8ea20c29f61d740b23591a094a59"
      },
      "cell_type": "code",
      "source": "# 'patientId'를 기준으로 정렬 후, 동일 patientId가 있을 경우,\n# bbox_target값 sum 하는데 string이라 옆으로 합쳐진다.\ndf = df.groupby(['patientId'], as_index = False)['bbox_target'].agg('sum')    \ndf.head()",
      "execution_count": 7,
      "outputs": [
        {
          "output_type": "execute_result",
          "execution_count": 7,
          "data": {
            "text/plain": "                              patientId                                        bbox_target\n0  0004cfab-14fd-4e49-80ba-63a80b6bddd6                               [nan, nan, nan, nan]\n1  000924cf-0f8d-42bd-9158-1af53881a557                               [nan, nan, nan, nan]\n2  000db696-cf54-4385-b10b-6b16fbb3f985  [316.0, 318.0, 170.0, 478.0, 660.0, 375.0, 146...\n3  000fe35a-2649-43d4-b027-e67796d412e0  [570.0, 282.0, 269.0, 409.0, 83.0, 227.0, 296....\n4  001031d9-f904-4a23-b3e5-2c088acd19c6  [66.0, 160.0, 373.0, 608.0, 552.0, 164.0, 376....",
            "text/html": "<div>\n<style scoped>\n    .dataframe tbody tr th:only-of-type {\n        vertical-align: middle;\n    }\n\n    .dataframe tbody tr th {\n        vertical-align: top;\n    }\n\n    .dataframe thead th {\n        text-align: right;\n    }\n</style>\n<table border=\"1\" class=\"dataframe\">\n  <thead>\n    <tr style=\"text-align: right;\">\n      <th></th>\n      <th>patientId</th>\n      <th>bbox_target</th>\n    </tr>\n  </thead>\n  <tbody>\n    <tr>\n      <th>0</th>\n      <td>0004cfab-14fd-4e49-80ba-63a80b6bddd6</td>\n      <td>[nan, nan, nan, nan]</td>\n    </tr>\n    <tr>\n      <th>1</th>\n      <td>000924cf-0f8d-42bd-9158-1af53881a557</td>\n      <td>[nan, nan, nan, nan]</td>\n    </tr>\n    <tr>\n      <th>2</th>\n      <td>000db696-cf54-4385-b10b-6b16fbb3f985</td>\n      <td>[316.0, 318.0, 170.0, 478.0, 660.0, 375.0, 146...</td>\n    </tr>\n    <tr>\n      <th>3</th>\n      <td>000fe35a-2649-43d4-b027-e67796d412e0</td>\n      <td>[570.0, 282.0, 269.0, 409.0, 83.0, 227.0, 296....</td>\n    </tr>\n    <tr>\n      <th>4</th>\n      <td>001031d9-f904-4a23-b3e5-2c088acd19c6</td>\n      <td>[66.0, 160.0, 373.0, 608.0, 552.0, 164.0, 376....</td>\n    </tr>\n  </tbody>\n</table>\n</div>"
          },
          "metadata": {}
        }
      ]
    },
    {
      "metadata": {
        "_uuid": "7cf7b27a2edbf7b5684126c45e7ea7c75b5e7a92"
      },
      "cell_type": "markdown",
      "source": "Merge labels and oof preds"
    },
    {
      "metadata": {
        "trusted": true,
        "_uuid": "8a0c0153ebf06ed2dd227782630d660106fb519b"
      },
      "cell_type": "code",
      "source": "df = df.merge(oof_preds0, on = 'patientId', how = 'left')\n#df = df.merge(oof_preds1, on = 'patientId', how = 'left')\n#df = df.merge(oof_preds2, on = 'patientId', how = 'left')\n#patientId를 기준으로 merge",
      "execution_count": 8,
      "outputs": []
    },
    {
      "metadata": {
        "trusted": true,
        "_uuid": "d0d1f64f165421c702154f78f67902c16a819fd6"
      },
      "cell_type": "code",
      "source": "df.head(30)",
      "execution_count": 9,
      "outputs": [
        {
          "output_type": "execute_result",
          "execution_count": 9,
          "data": {
            "text/plain": "                               patientId                        ...                                                           PredictionString\n0   0004cfab-14fd-4e49-80ba-63a80b6bddd6                        ...                                                                        NaN\n1   000924cf-0f8d-42bd-9158-1af53881a557                        ...                                                                        NaN\n2   000db696-cf54-4385-b10b-6b16fbb3f985                        ...                          0.5323592682701782 384 282 117 204 0.516139128...\n3   000fe35a-2649-43d4-b027-e67796d412e0                        ...                          0.8221077651566709 488 370 356 425 0.806524258...\n4   001031d9-f904-4a23-b3e5-2c088acd19c6                        ...                                         0.757617072874964 550 538 229 280 \n5   0010f549-b242-4e94-87a8-57d79de215fc                        ...                          0.5791715817019875 243 269 180 218 0.584688553...\n6   001916b8-3d30-4935-a5d1-8eaddb1646cd                        ...                          0.7466334580538401 780 231 217 409 0.713509225...\n7   0022073f-cec8-42ec-ab5f-bc2314649235                        ...                          0.7036652341064473 562 206 233 484 0.782359532...\n8   0022995a-45eb-4cfa-9a59-cd15f5196c64                        ...                          0.542522326084023 423 193 167 218 0.6833132284...\n9   0025d2de-bd78-4d36-9f72-e15a5e22ca82                        ...                                                                        NaN\n10  00293de0-a530-41dc-9621-0b3def01d06d                        ...                                          0.5360802659448842 794 384 88 51 \n11  002c591d-df62-4e34-8eda-838c664430a9                        ...                                         0.5175002660416126 744 334 48 100 \n12  002cb550-2e31-42f1-a29d-fbc279977e71                        ...                          0.4693239251568282 179 179 499 614 0.503314454...\n13  00313ee0-9eaa-42f4-b0ab-c148ed3241cd                        ...                                                                        NaN\n14  00322d4d-1c29-4943-afc9-b6754be640eb                        ...                                                                        NaN\n15  003d8fa0-6bf1-40ed-b54c-ac657f8495c5                        ...                                                                        NaN\n16  00436515-870c-4b36-a041-de91049b9ab4                        ...                                                                        NaN\n17  0049f7b2-229b-4a46-91a3-0e321a3ca80a                        ...                          0.4968251145238242 858 103 89 164 0.6477422338...\n18  0053ee32-1e03-4dc2-a103-f46ad0448787                        ...                          0.6572095108418766 154 229 280 436 0.500788932...\n19  00569f44-917d-4c86-a842-81832af98c30                        ...                                                                        NaN\n20  005f5517-ab76-4b0d-8a26-f808d97171c4                        ...                          0.5795442687050734 436 180 191 191 0.560006939...\n21  0067d70b-0e6d-41ff-a9b8-8edf6d5e25e4                        ...                          0.5500225200698594 589 268 192 233 0.506007503...\n22  006cec2e-6ce2-4549-bffa-eadfcd1e9970                        ...                                                                        NaN\n23  006e75c8-1fd9-4a5a-99e7-285addebed55                        ...                                                                        NaN\n24  00704310-78a8-4b38-8475-49f4573b2dbb                        ...                                                                        NaN\n25  0087bd3a-55a7-4045-b111-b018fa52d361                        ...                          0.768762592561669 600 306 194 333 0.4999925677...\n26  0088be53-27f2-4c30-882b-a73a3a5c8c71                        ...                          0.55266250407216 525 511 204 156 0.56889748348...\n27  008b69b2-446a-43dd-9ba2-9ccff8f3da41                        ...                                                                        NaN\n28  008c19e8-a820-403a-930a-bc74a4053664                        ...                                                                        NaN\n29  0092d9c5-26b6-4e66-b196-49b2224ab8d1                        ...                                         0.6773088514304316 371 77 218 318 \n\n[30 rows x 3 columns]",
            "text/html": "<div>\n<style scoped>\n    .dataframe tbody tr th:only-of-type {\n        vertical-align: middle;\n    }\n\n    .dataframe tbody tr th {\n        vertical-align: top;\n    }\n\n    .dataframe thead th {\n        text-align: right;\n    }\n</style>\n<table border=\"1\" class=\"dataframe\">\n  <thead>\n    <tr style=\"text-align: right;\">\n      <th></th>\n      <th>patientId</th>\n      <th>bbox_target</th>\n      <th>PredictionString</th>\n    </tr>\n  </thead>\n  <tbody>\n    <tr>\n      <th>0</th>\n      <td>0004cfab-14fd-4e49-80ba-63a80b6bddd6</td>\n      <td>[nan, nan, nan, nan]</td>\n      <td>NaN</td>\n    </tr>\n    <tr>\n      <th>1</th>\n      <td>000924cf-0f8d-42bd-9158-1af53881a557</td>\n      <td>[nan, nan, nan, nan]</td>\n      <td>NaN</td>\n    </tr>\n    <tr>\n      <th>2</th>\n      <td>000db696-cf54-4385-b10b-6b16fbb3f985</td>\n      <td>[316.0, 318.0, 170.0, 478.0, 660.0, 375.0, 146...</td>\n      <td>0.5323592682701782 384 282 117 204 0.516139128...</td>\n    </tr>\n    <tr>\n      <th>3</th>\n      <td>000fe35a-2649-43d4-b027-e67796d412e0</td>\n      <td>[570.0, 282.0, 269.0, 409.0, 83.0, 227.0, 296....</td>\n      <td>0.8221077651566709 488 370 356 425 0.806524258...</td>\n    </tr>\n    <tr>\n      <th>4</th>\n      <td>001031d9-f904-4a23-b3e5-2c088acd19c6</td>\n      <td>[66.0, 160.0, 373.0, 608.0, 552.0, 164.0, 376....</td>\n      <td>0.757617072874964 550 538 229 280</td>\n    </tr>\n    <tr>\n      <th>5</th>\n      <td>0010f549-b242-4e94-87a8-57d79de215fc</td>\n      <td>[nan, nan, nan, nan]</td>\n      <td>0.5791715817019875 243 269 180 218 0.584688553...</td>\n    </tr>\n    <tr>\n      <th>6</th>\n      <td>001916b8-3d30-4935-a5d1-8eaddb1646cd</td>\n      <td>[198.0, 375.0, 114.0, 206.0]</td>\n      <td>0.7466334580538401 780 231 217 409 0.713509225...</td>\n    </tr>\n    <tr>\n      <th>7</th>\n      <td>0022073f-cec8-42ec-ab5f-bc2314649235</td>\n      <td>[575.0, 232.0, 246.0, 528.0, 161.0, 230.0, 223...</td>\n      <td>0.7036652341064473 562 206 233 484 0.782359532...</td>\n    </tr>\n    <tr>\n      <th>8</th>\n      <td>0022995a-45eb-4cfa-9a59-cd15f5196c64</td>\n      <td>[nan, nan, nan, nan]</td>\n      <td>0.542522326084023 423 193 167 218 0.6833132284...</td>\n    </tr>\n    <tr>\n      <th>9</th>\n      <td>0025d2de-bd78-4d36-9f72-e15a5e22ca82</td>\n      <td>[nan, nan, nan, nan]</td>\n      <td>NaN</td>\n    </tr>\n    <tr>\n      <th>10</th>\n      <td>00293de0-a530-41dc-9621-0b3def01d06d</td>\n      <td>[nan, nan, nan, nan]</td>\n      <td>0.5360802659448842 794 384 88 51</td>\n    </tr>\n    <tr>\n      <th>11</th>\n      <td>002c591d-df62-4e34-8eda-838c664430a9</td>\n      <td>[nan, nan, nan, nan]</td>\n      <td>0.5175002660416126 744 334 48 100</td>\n    </tr>\n    <tr>\n      <th>12</th>\n      <td>002cb550-2e31-42f1-a29d-fbc279977e71</td>\n      <td>[176.0, 342.0, 170.0, 239.0, 515.0, 333.0, 167...</td>\n      <td>0.4693239251568282 179 179 499 614 0.503314454...</td>\n    </tr>\n    <tr>\n      <th>13</th>\n      <td>00313ee0-9eaa-42f4-b0ab-c148ed3241cd</td>\n      <td>[nan, nan, nan, nan]</td>\n      <td>NaN</td>\n    </tr>\n    <tr>\n      <th>14</th>\n      <td>00322d4d-1c29-4943-afc9-b6754be640eb</td>\n      <td>[nan, nan, nan, nan]</td>\n      <td>NaN</td>\n    </tr>\n    <tr>\n      <th>15</th>\n      <td>003d8fa0-6bf1-40ed-b54c-ac657f8495c5</td>\n      <td>[nan, nan, nan, nan]</td>\n      <td>NaN</td>\n    </tr>\n    <tr>\n      <th>16</th>\n      <td>00436515-870c-4b36-a041-de91049b9ab4</td>\n      <td>[264.0, 152.0, 213.0, 379.0, 562.0, 152.0, 256...</td>\n      <td>NaN</td>\n    </tr>\n    <tr>\n      <th>17</th>\n      <td>0049f7b2-229b-4a46-91a3-0e321a3ca80a</td>\n      <td>[nan, nan, nan, nan]</td>\n      <td>0.4968251145238242 858 103 89 164 0.6477422338...</td>\n    </tr>\n    <tr>\n      <th>18</th>\n      <td>0053ee32-1e03-4dc2-a103-f46ad0448787</td>\n      <td>[nan, nan, nan, nan]</td>\n      <td>0.6572095108418766 154 229 280 436 0.500788932...</td>\n    </tr>\n    <tr>\n      <th>19</th>\n      <td>00569f44-917d-4c86-a842-81832af98c30</td>\n      <td>[nan, nan, nan, nan]</td>\n      <td>NaN</td>\n    </tr>\n    <tr>\n      <th>20</th>\n      <td>005f5517-ab76-4b0d-8a26-f808d97171c4</td>\n      <td>[nan, nan, nan, nan]</td>\n      <td>0.5795442687050734 436 180 191 191 0.560006939...</td>\n    </tr>\n    <tr>\n      <th>21</th>\n      <td>0067d70b-0e6d-41ff-a9b8-8edf6d5e25e4</td>\n      <td>[nan, nan, nan, nan]</td>\n      <td>0.5500225200698594 589 268 192 233 0.506007503...</td>\n    </tr>\n    <tr>\n      <th>22</th>\n      <td>006cec2e-6ce2-4549-bffa-eadfcd1e9970</td>\n      <td>[nan, nan, nan, nan]</td>\n      <td>NaN</td>\n    </tr>\n    <tr>\n      <th>23</th>\n      <td>006e75c8-1fd9-4a5a-99e7-285addebed55</td>\n      <td>[nan, nan, nan, nan]</td>\n      <td>NaN</td>\n    </tr>\n    <tr>\n      <th>24</th>\n      <td>00704310-78a8-4b38-8475-49f4573b2dbb</td>\n      <td>[323.0, 577.0, 160.0, 104.0, 695.0, 575.0, 162...</td>\n      <td>NaN</td>\n    </tr>\n    <tr>\n      <th>25</th>\n      <td>0087bd3a-55a7-4045-b111-b018fa52d361</td>\n      <td>[257.0, 398.0, 146.0, 341.0, 647.0, 367.0, 170...</td>\n      <td>0.768762592561669 600 306 194 333 0.4999925677...</td>\n    </tr>\n    <tr>\n      <th>26</th>\n      <td>0088be53-27f2-4c30-882b-a73a3a5c8c71</td>\n      <td>[nan, nan, nan, nan]</td>\n      <td>0.55266250407216 525 511 204 156 0.56889748348...</td>\n    </tr>\n    <tr>\n      <th>27</th>\n      <td>008b69b2-446a-43dd-9ba2-9ccff8f3da41</td>\n      <td>[nan, nan, nan, nan]</td>\n      <td>NaN</td>\n    </tr>\n    <tr>\n      <th>28</th>\n      <td>008c19e8-a820-403a-930a-bc74a4053664</td>\n      <td>[nan, nan, nan, nan]</td>\n      <td>NaN</td>\n    </tr>\n    <tr>\n      <th>29</th>\n      <td>0092d9c5-26b6-4e66-b196-49b2224ab8d1</td>\n      <td>[nan, nan, nan, nan]</td>\n      <td>0.6773088514304316 371 77 218 318</td>\n    </tr>\n  </tbody>\n</table>\n</div>"
          },
          "metadata": {}
        }
      ]
    },
    {
      "metadata": {
        "trusted": true,
        "_uuid": "365436c7300e1890f4ab1109c1cf2a4b3002188b"
      },
      "cell_type": "code",
      "source": "#3개의 파일을 merge 해서 PredictionString(x, y, default)로 뜸\ndf = df.fillna('') # none -> \" \"로 처리\ndf.head(30)",
      "execution_count": 10,
      "outputs": [
        {
          "output_type": "execute_result",
          "execution_count": 10,
          "data": {
            "text/plain": "                               patientId                        ...                                                           PredictionString\n0   0004cfab-14fd-4e49-80ba-63a80b6bddd6                        ...                                                                           \n1   000924cf-0f8d-42bd-9158-1af53881a557                        ...                                                                           \n2   000db696-cf54-4385-b10b-6b16fbb3f985                        ...                          0.5323592682701782 384 282 117 204 0.516139128...\n3   000fe35a-2649-43d4-b027-e67796d412e0                        ...                          0.8221077651566709 488 370 356 425 0.806524258...\n4   001031d9-f904-4a23-b3e5-2c088acd19c6                        ...                                         0.757617072874964 550 538 229 280 \n5   0010f549-b242-4e94-87a8-57d79de215fc                        ...                          0.5791715817019875 243 269 180 218 0.584688553...\n6   001916b8-3d30-4935-a5d1-8eaddb1646cd                        ...                          0.7466334580538401 780 231 217 409 0.713509225...\n7   0022073f-cec8-42ec-ab5f-bc2314649235                        ...                          0.7036652341064473 562 206 233 484 0.782359532...\n8   0022995a-45eb-4cfa-9a59-cd15f5196c64                        ...                          0.542522326084023 423 193 167 218 0.6833132284...\n9   0025d2de-bd78-4d36-9f72-e15a5e22ca82                        ...                                                                           \n10  00293de0-a530-41dc-9621-0b3def01d06d                        ...                                          0.5360802659448842 794 384 88 51 \n11  002c591d-df62-4e34-8eda-838c664430a9                        ...                                         0.5175002660416126 744 334 48 100 \n12  002cb550-2e31-42f1-a29d-fbc279977e71                        ...                          0.4693239251568282 179 179 499 614 0.503314454...\n13  00313ee0-9eaa-42f4-b0ab-c148ed3241cd                        ...                                                                           \n14  00322d4d-1c29-4943-afc9-b6754be640eb                        ...                                                                           \n15  003d8fa0-6bf1-40ed-b54c-ac657f8495c5                        ...                                                                           \n16  00436515-870c-4b36-a041-de91049b9ab4                        ...                                                                           \n17  0049f7b2-229b-4a46-91a3-0e321a3ca80a                        ...                          0.4968251145238242 858 103 89 164 0.6477422338...\n18  0053ee32-1e03-4dc2-a103-f46ad0448787                        ...                          0.6572095108418766 154 229 280 436 0.500788932...\n19  00569f44-917d-4c86-a842-81832af98c30                        ...                                                                           \n20  005f5517-ab76-4b0d-8a26-f808d97171c4                        ...                          0.5795442687050734 436 180 191 191 0.560006939...\n21  0067d70b-0e6d-41ff-a9b8-8edf6d5e25e4                        ...                          0.5500225200698594 589 268 192 233 0.506007503...\n22  006cec2e-6ce2-4549-bffa-eadfcd1e9970                        ...                                                                           \n23  006e75c8-1fd9-4a5a-99e7-285addebed55                        ...                                                                           \n24  00704310-78a8-4b38-8475-49f4573b2dbb                        ...                                                                           \n25  0087bd3a-55a7-4045-b111-b018fa52d361                        ...                          0.768762592561669 600 306 194 333 0.4999925677...\n26  0088be53-27f2-4c30-882b-a73a3a5c8c71                        ...                          0.55266250407216 525 511 204 156 0.56889748348...\n27  008b69b2-446a-43dd-9ba2-9ccff8f3da41                        ...                                                                           \n28  008c19e8-a820-403a-930a-bc74a4053664                        ...                                                                           \n29  0092d9c5-26b6-4e66-b196-49b2224ab8d1                        ...                                         0.6773088514304316 371 77 218 318 \n\n[30 rows x 3 columns]",
            "text/html": "<div>\n<style scoped>\n    .dataframe tbody tr th:only-of-type {\n        vertical-align: middle;\n    }\n\n    .dataframe tbody tr th {\n        vertical-align: top;\n    }\n\n    .dataframe thead th {\n        text-align: right;\n    }\n</style>\n<table border=\"1\" class=\"dataframe\">\n  <thead>\n    <tr style=\"text-align: right;\">\n      <th></th>\n      <th>patientId</th>\n      <th>bbox_target</th>\n      <th>PredictionString</th>\n    </tr>\n  </thead>\n  <tbody>\n    <tr>\n      <th>0</th>\n      <td>0004cfab-14fd-4e49-80ba-63a80b6bddd6</td>\n      <td>[nan, nan, nan, nan]</td>\n      <td></td>\n    </tr>\n    <tr>\n      <th>1</th>\n      <td>000924cf-0f8d-42bd-9158-1af53881a557</td>\n      <td>[nan, nan, nan, nan]</td>\n      <td></td>\n    </tr>\n    <tr>\n      <th>2</th>\n      <td>000db696-cf54-4385-b10b-6b16fbb3f985</td>\n      <td>[316.0, 318.0, 170.0, 478.0, 660.0, 375.0, 146...</td>\n      <td>0.5323592682701782 384 282 117 204 0.516139128...</td>\n    </tr>\n    <tr>\n      <th>3</th>\n      <td>000fe35a-2649-43d4-b027-e67796d412e0</td>\n      <td>[570.0, 282.0, 269.0, 409.0, 83.0, 227.0, 296....</td>\n      <td>0.8221077651566709 488 370 356 425 0.806524258...</td>\n    </tr>\n    <tr>\n      <th>4</th>\n      <td>001031d9-f904-4a23-b3e5-2c088acd19c6</td>\n      <td>[66.0, 160.0, 373.0, 608.0, 552.0, 164.0, 376....</td>\n      <td>0.757617072874964 550 538 229 280</td>\n    </tr>\n    <tr>\n      <th>5</th>\n      <td>0010f549-b242-4e94-87a8-57d79de215fc</td>\n      <td>[nan, nan, nan, nan]</td>\n      <td>0.5791715817019875 243 269 180 218 0.584688553...</td>\n    </tr>\n    <tr>\n      <th>6</th>\n      <td>001916b8-3d30-4935-a5d1-8eaddb1646cd</td>\n      <td>[198.0, 375.0, 114.0, 206.0]</td>\n      <td>0.7466334580538401 780 231 217 409 0.713509225...</td>\n    </tr>\n    <tr>\n      <th>7</th>\n      <td>0022073f-cec8-42ec-ab5f-bc2314649235</td>\n      <td>[575.0, 232.0, 246.0, 528.0, 161.0, 230.0, 223...</td>\n      <td>0.7036652341064473 562 206 233 484 0.782359532...</td>\n    </tr>\n    <tr>\n      <th>8</th>\n      <td>0022995a-45eb-4cfa-9a59-cd15f5196c64</td>\n      <td>[nan, nan, nan, nan]</td>\n      <td>0.542522326084023 423 193 167 218 0.6833132284...</td>\n    </tr>\n    <tr>\n      <th>9</th>\n      <td>0025d2de-bd78-4d36-9f72-e15a5e22ca82</td>\n      <td>[nan, nan, nan, nan]</td>\n      <td></td>\n    </tr>\n    <tr>\n      <th>10</th>\n      <td>00293de0-a530-41dc-9621-0b3def01d06d</td>\n      <td>[nan, nan, nan, nan]</td>\n      <td>0.5360802659448842 794 384 88 51</td>\n    </tr>\n    <tr>\n      <th>11</th>\n      <td>002c591d-df62-4e34-8eda-838c664430a9</td>\n      <td>[nan, nan, nan, nan]</td>\n      <td>0.5175002660416126 744 334 48 100</td>\n    </tr>\n    <tr>\n      <th>12</th>\n      <td>002cb550-2e31-42f1-a29d-fbc279977e71</td>\n      <td>[176.0, 342.0, 170.0, 239.0, 515.0, 333.0, 167...</td>\n      <td>0.4693239251568282 179 179 499 614 0.503314454...</td>\n    </tr>\n    <tr>\n      <th>13</th>\n      <td>00313ee0-9eaa-42f4-b0ab-c148ed3241cd</td>\n      <td>[nan, nan, nan, nan]</td>\n      <td></td>\n    </tr>\n    <tr>\n      <th>14</th>\n      <td>00322d4d-1c29-4943-afc9-b6754be640eb</td>\n      <td>[nan, nan, nan, nan]</td>\n      <td></td>\n    </tr>\n    <tr>\n      <th>15</th>\n      <td>003d8fa0-6bf1-40ed-b54c-ac657f8495c5</td>\n      <td>[nan, nan, nan, nan]</td>\n      <td></td>\n    </tr>\n    <tr>\n      <th>16</th>\n      <td>00436515-870c-4b36-a041-de91049b9ab4</td>\n      <td>[264.0, 152.0, 213.0, 379.0, 562.0, 152.0, 256...</td>\n      <td></td>\n    </tr>\n    <tr>\n      <th>17</th>\n      <td>0049f7b2-229b-4a46-91a3-0e321a3ca80a</td>\n      <td>[nan, nan, nan, nan]</td>\n      <td>0.4968251145238242 858 103 89 164 0.6477422338...</td>\n    </tr>\n    <tr>\n      <th>18</th>\n      <td>0053ee32-1e03-4dc2-a103-f46ad0448787</td>\n      <td>[nan, nan, nan, nan]</td>\n      <td>0.6572095108418766 154 229 280 436 0.500788932...</td>\n    </tr>\n    <tr>\n      <th>19</th>\n      <td>00569f44-917d-4c86-a842-81832af98c30</td>\n      <td>[nan, nan, nan, nan]</td>\n      <td></td>\n    </tr>\n    <tr>\n      <th>20</th>\n      <td>005f5517-ab76-4b0d-8a26-f808d97171c4</td>\n      <td>[nan, nan, nan, nan]</td>\n      <td>0.5795442687050734 436 180 191 191 0.560006939...</td>\n    </tr>\n    <tr>\n      <th>21</th>\n      <td>0067d70b-0e6d-41ff-a9b8-8edf6d5e25e4</td>\n      <td>[nan, nan, nan, nan]</td>\n      <td>0.5500225200698594 589 268 192 233 0.506007503...</td>\n    </tr>\n    <tr>\n      <th>22</th>\n      <td>006cec2e-6ce2-4549-bffa-eadfcd1e9970</td>\n      <td>[nan, nan, nan, nan]</td>\n      <td></td>\n    </tr>\n    <tr>\n      <th>23</th>\n      <td>006e75c8-1fd9-4a5a-99e7-285addebed55</td>\n      <td>[nan, nan, nan, nan]</td>\n      <td></td>\n    </tr>\n    <tr>\n      <th>24</th>\n      <td>00704310-78a8-4b38-8475-49f4573b2dbb</td>\n      <td>[323.0, 577.0, 160.0, 104.0, 695.0, 575.0, 162...</td>\n      <td></td>\n    </tr>\n    <tr>\n      <th>25</th>\n      <td>0087bd3a-55a7-4045-b111-b018fa52d361</td>\n      <td>[257.0, 398.0, 146.0, 341.0, 647.0, 367.0, 170...</td>\n      <td>0.768762592561669 600 306 194 333 0.4999925677...</td>\n    </tr>\n    <tr>\n      <th>26</th>\n      <td>0088be53-27f2-4c30-882b-a73a3a5c8c71</td>\n      <td>[nan, nan, nan, nan]</td>\n      <td>0.55266250407216 525 511 204 156 0.56889748348...</td>\n    </tr>\n    <tr>\n      <th>27</th>\n      <td>008b69b2-446a-43dd-9ba2-9ccff8f3da41</td>\n      <td>[nan, nan, nan, nan]</td>\n      <td></td>\n    </tr>\n    <tr>\n      <th>28</th>\n      <td>008c19e8-a820-403a-930a-bc74a4053664</td>\n      <td>[nan, nan, nan, nan]</td>\n      <td></td>\n    </tr>\n    <tr>\n      <th>29</th>\n      <td>0092d9c5-26b6-4e66-b196-49b2224ab8d1</td>\n      <td>[nan, nan, nan, nan]</td>\n      <td>0.6773088514304316 371 77 218 318</td>\n    </tr>\n  </tbody>\n</table>\n</div>"
          },
          "metadata": {}
        }
      ]
    },
    {
      "metadata": {
        "_uuid": "14b6f7ebaceceb6727908562ac5a88daca87fe4a"
      },
      "cell_type": "markdown",
      "source": "Parse oof preds for MAP IoU"
    },
    {
      "metadata": {
        "trusted": true,
        "_uuid": "6681d853459f11192220fa14792f2807c5af518b"
      },
      "cell_type": "code",
      "source": "#df.loc[:, 'bbox_pred'] = (df.loc[:, 'PredictionString'] +\n#                         ' ' +\n#                         df.loc[:, 'PredictionString_x'] +\n#                         ' ' +\n#                         df.loc[:, 'PredictionString_y'])\n# merge한 3개 파일에서 나온 PredictionString을 bbox_pred으로 합침\n#df.head()",
      "execution_count": null,
      "outputs": []
    },
    {
      "metadata": {
        "trusted": true,
        "_uuid": "32e395811a42bd2d71dd51c1cb9c82881f61bcd0"
      },
      "cell_type": "code",
      "source": "#필요없는 열 제거\n#df = df.drop(['PredictionString','PredictionString_x', 'PredictionString_y'], axis=1)\ndf.loc[:, 'bbox_pred'] = (df.loc[:, 'PredictionString'])\ndf = df.drop(['PredictionString'], axis=1)\ndf.head(20)",
      "execution_count": 11,
      "outputs": [
        {
          "output_type": "execute_result",
          "execution_count": 11,
          "data": {
            "text/plain": "                               patientId                        ...                                                                  bbox_pred\n0   0004cfab-14fd-4e49-80ba-63a80b6bddd6                        ...                                                                           \n1   000924cf-0f8d-42bd-9158-1af53881a557                        ...                                                                           \n2   000db696-cf54-4385-b10b-6b16fbb3f985                        ...                          0.5323592682701782 384 282 117 204 0.516139128...\n3   000fe35a-2649-43d4-b027-e67796d412e0                        ...                          0.8221077651566709 488 370 356 425 0.806524258...\n4   001031d9-f904-4a23-b3e5-2c088acd19c6                        ...                                         0.757617072874964 550 538 229 280 \n5   0010f549-b242-4e94-87a8-57d79de215fc                        ...                          0.5791715817019875 243 269 180 218 0.584688553...\n6   001916b8-3d30-4935-a5d1-8eaddb1646cd                        ...                          0.7466334580538401 780 231 217 409 0.713509225...\n7   0022073f-cec8-42ec-ab5f-bc2314649235                        ...                          0.7036652341064473 562 206 233 484 0.782359532...\n8   0022995a-45eb-4cfa-9a59-cd15f5196c64                        ...                          0.542522326084023 423 193 167 218 0.6833132284...\n9   0025d2de-bd78-4d36-9f72-e15a5e22ca82                        ...                                                                           \n10  00293de0-a530-41dc-9621-0b3def01d06d                        ...                                          0.5360802659448842 794 384 88 51 \n11  002c591d-df62-4e34-8eda-838c664430a9                        ...                                         0.5175002660416126 744 334 48 100 \n12  002cb550-2e31-42f1-a29d-fbc279977e71                        ...                          0.4693239251568282 179 179 499 614 0.503314454...\n13  00313ee0-9eaa-42f4-b0ab-c148ed3241cd                        ...                                                                           \n14  00322d4d-1c29-4943-afc9-b6754be640eb                        ...                                                                           \n15  003d8fa0-6bf1-40ed-b54c-ac657f8495c5                        ...                                                                           \n16  00436515-870c-4b36-a041-de91049b9ab4                        ...                                                                           \n17  0049f7b2-229b-4a46-91a3-0e321a3ca80a                        ...                          0.4968251145238242 858 103 89 164 0.6477422338...\n18  0053ee32-1e03-4dc2-a103-f46ad0448787                        ...                          0.6572095108418766 154 229 280 436 0.500788932...\n19  00569f44-917d-4c86-a842-81832af98c30                        ...                                                                           \n\n[20 rows x 3 columns]",
            "text/html": "<div>\n<style scoped>\n    .dataframe tbody tr th:only-of-type {\n        vertical-align: middle;\n    }\n\n    .dataframe tbody tr th {\n        vertical-align: top;\n    }\n\n    .dataframe thead th {\n        text-align: right;\n    }\n</style>\n<table border=\"1\" class=\"dataframe\">\n  <thead>\n    <tr style=\"text-align: right;\">\n      <th></th>\n      <th>patientId</th>\n      <th>bbox_target</th>\n      <th>bbox_pred</th>\n    </tr>\n  </thead>\n  <tbody>\n    <tr>\n      <th>0</th>\n      <td>0004cfab-14fd-4e49-80ba-63a80b6bddd6</td>\n      <td>[nan, nan, nan, nan]</td>\n      <td></td>\n    </tr>\n    <tr>\n      <th>1</th>\n      <td>000924cf-0f8d-42bd-9158-1af53881a557</td>\n      <td>[nan, nan, nan, nan]</td>\n      <td></td>\n    </tr>\n    <tr>\n      <th>2</th>\n      <td>000db696-cf54-4385-b10b-6b16fbb3f985</td>\n      <td>[316.0, 318.0, 170.0, 478.0, 660.0, 375.0, 146...</td>\n      <td>0.5323592682701782 384 282 117 204 0.516139128...</td>\n    </tr>\n    <tr>\n      <th>3</th>\n      <td>000fe35a-2649-43d4-b027-e67796d412e0</td>\n      <td>[570.0, 282.0, 269.0, 409.0, 83.0, 227.0, 296....</td>\n      <td>0.8221077651566709 488 370 356 425 0.806524258...</td>\n    </tr>\n    <tr>\n      <th>4</th>\n      <td>001031d9-f904-4a23-b3e5-2c088acd19c6</td>\n      <td>[66.0, 160.0, 373.0, 608.0, 552.0, 164.0, 376....</td>\n      <td>0.757617072874964 550 538 229 280</td>\n    </tr>\n    <tr>\n      <th>5</th>\n      <td>0010f549-b242-4e94-87a8-57d79de215fc</td>\n      <td>[nan, nan, nan, nan]</td>\n      <td>0.5791715817019875 243 269 180 218 0.584688553...</td>\n    </tr>\n    <tr>\n      <th>6</th>\n      <td>001916b8-3d30-4935-a5d1-8eaddb1646cd</td>\n      <td>[198.0, 375.0, 114.0, 206.0]</td>\n      <td>0.7466334580538401 780 231 217 409 0.713509225...</td>\n    </tr>\n    <tr>\n      <th>7</th>\n      <td>0022073f-cec8-42ec-ab5f-bc2314649235</td>\n      <td>[575.0, 232.0, 246.0, 528.0, 161.0, 230.0, 223...</td>\n      <td>0.7036652341064473 562 206 233 484 0.782359532...</td>\n    </tr>\n    <tr>\n      <th>8</th>\n      <td>0022995a-45eb-4cfa-9a59-cd15f5196c64</td>\n      <td>[nan, nan, nan, nan]</td>\n      <td>0.542522326084023 423 193 167 218 0.6833132284...</td>\n    </tr>\n    <tr>\n      <th>9</th>\n      <td>0025d2de-bd78-4d36-9f72-e15a5e22ca82</td>\n      <td>[nan, nan, nan, nan]</td>\n      <td></td>\n    </tr>\n    <tr>\n      <th>10</th>\n      <td>00293de0-a530-41dc-9621-0b3def01d06d</td>\n      <td>[nan, nan, nan, nan]</td>\n      <td>0.5360802659448842 794 384 88 51</td>\n    </tr>\n    <tr>\n      <th>11</th>\n      <td>002c591d-df62-4e34-8eda-838c664430a9</td>\n      <td>[nan, nan, nan, nan]</td>\n      <td>0.5175002660416126 744 334 48 100</td>\n    </tr>\n    <tr>\n      <th>12</th>\n      <td>002cb550-2e31-42f1-a29d-fbc279977e71</td>\n      <td>[176.0, 342.0, 170.0, 239.0, 515.0, 333.0, 167...</td>\n      <td>0.4693239251568282 179 179 499 614 0.503314454...</td>\n    </tr>\n    <tr>\n      <th>13</th>\n      <td>00313ee0-9eaa-42f4-b0ab-c148ed3241cd</td>\n      <td>[nan, nan, nan, nan]</td>\n      <td></td>\n    </tr>\n    <tr>\n      <th>14</th>\n      <td>00322d4d-1c29-4943-afc9-b6754be640eb</td>\n      <td>[nan, nan, nan, nan]</td>\n      <td></td>\n    </tr>\n    <tr>\n      <th>15</th>\n      <td>003d8fa0-6bf1-40ed-b54c-ac657f8495c5</td>\n      <td>[nan, nan, nan, nan]</td>\n      <td></td>\n    </tr>\n    <tr>\n      <th>16</th>\n      <td>00436515-870c-4b36-a041-de91049b9ab4</td>\n      <td>[264.0, 152.0, 213.0, 379.0, 562.0, 152.0, 256...</td>\n      <td></td>\n    </tr>\n    <tr>\n      <th>17</th>\n      <td>0049f7b2-229b-4a46-91a3-0e321a3ca80a</td>\n      <td>[nan, nan, nan, nan]</td>\n      <td>0.4968251145238242 858 103 89 164 0.6477422338...</td>\n    </tr>\n    <tr>\n      <th>18</th>\n      <td>0053ee32-1e03-4dc2-a103-f46ad0448787</td>\n      <td>[nan, nan, nan, nan]</td>\n      <td>0.6572095108418766 154 229 280 436 0.500788932...</td>\n    </tr>\n    <tr>\n      <th>19</th>\n      <td>00569f44-917d-4c86-a842-81832af98c30</td>\n      <td>[nan, nan, nan, nan]</td>\n      <td></td>\n    </tr>\n  </tbody>\n</table>\n</div>"
          },
          "metadata": {}
        }
      ]
    },
    {
      "metadata": {
        "_uuid": "1b0b788e5e0e63b17b0a0c5b6a0248d988985621"
      },
      "cell_type": "markdown",
      "source": "Stripping whitespace from PredictionString column"
    },
    {
      "metadata": {
        "trusted": true,
        "_uuid": "af078767395bf03bce22f5372cea04b82a9f772b"
      },
      "cell_type": "code",
      "source": "# bbox_pred 값을 문자열로 변환 후 문자열의 양끝에서 공백, 탭, 개행문자 등을 제거\ndf.loc[:, 'bbox_pred'] = df.loc[:, 'bbox_pred'].str.strip()\ndf.head(20)",
      "execution_count": 12,
      "outputs": [
        {
          "output_type": "execute_result",
          "execution_count": 12,
          "data": {
            "text/plain": "                               patientId                        ...                                                                  bbox_pred\n0   0004cfab-14fd-4e49-80ba-63a80b6bddd6                        ...                                                                           \n1   000924cf-0f8d-42bd-9158-1af53881a557                        ...                                                                           \n2   000db696-cf54-4385-b10b-6b16fbb3f985                        ...                          0.5323592682701782 384 282 117 204 0.516139128...\n3   000fe35a-2649-43d4-b027-e67796d412e0                        ...                          0.8221077651566709 488 370 356 425 0.806524258...\n4   001031d9-f904-4a23-b3e5-2c088acd19c6                        ...                                          0.757617072874964 550 538 229 280\n5   0010f549-b242-4e94-87a8-57d79de215fc                        ...                          0.5791715817019875 243 269 180 218 0.584688553...\n6   001916b8-3d30-4935-a5d1-8eaddb1646cd                        ...                          0.7466334580538401 780 231 217 409 0.713509225...\n7   0022073f-cec8-42ec-ab5f-bc2314649235                        ...                          0.7036652341064473 562 206 233 484 0.782359532...\n8   0022995a-45eb-4cfa-9a59-cd15f5196c64                        ...                          0.542522326084023 423 193 167 218 0.6833132284...\n9   0025d2de-bd78-4d36-9f72-e15a5e22ca82                        ...                                                                           \n10  00293de0-a530-41dc-9621-0b3def01d06d                        ...                                           0.5360802659448842 794 384 88 51\n11  002c591d-df62-4e34-8eda-838c664430a9                        ...                                          0.5175002660416126 744 334 48 100\n12  002cb550-2e31-42f1-a29d-fbc279977e71                        ...                          0.4693239251568282 179 179 499 614 0.503314454...\n13  00313ee0-9eaa-42f4-b0ab-c148ed3241cd                        ...                                                                           \n14  00322d4d-1c29-4943-afc9-b6754be640eb                        ...                                                                           \n15  003d8fa0-6bf1-40ed-b54c-ac657f8495c5                        ...                                                                           \n16  00436515-870c-4b36-a041-de91049b9ab4                        ...                                                                           \n17  0049f7b2-229b-4a46-91a3-0e321a3ca80a                        ...                          0.4968251145238242 858 103 89 164 0.6477422338...\n18  0053ee32-1e03-4dc2-a103-f46ad0448787                        ...                          0.6572095108418766 154 229 280 436 0.500788932...\n19  00569f44-917d-4c86-a842-81832af98c30                        ...                                                                           \n\n[20 rows x 3 columns]",
            "text/html": "<div>\n<style scoped>\n    .dataframe tbody tr th:only-of-type {\n        vertical-align: middle;\n    }\n\n    .dataframe tbody tr th {\n        vertical-align: top;\n    }\n\n    .dataframe thead th {\n        text-align: right;\n    }\n</style>\n<table border=\"1\" class=\"dataframe\">\n  <thead>\n    <tr style=\"text-align: right;\">\n      <th></th>\n      <th>patientId</th>\n      <th>bbox_target</th>\n      <th>bbox_pred</th>\n    </tr>\n  </thead>\n  <tbody>\n    <tr>\n      <th>0</th>\n      <td>0004cfab-14fd-4e49-80ba-63a80b6bddd6</td>\n      <td>[nan, nan, nan, nan]</td>\n      <td></td>\n    </tr>\n    <tr>\n      <th>1</th>\n      <td>000924cf-0f8d-42bd-9158-1af53881a557</td>\n      <td>[nan, nan, nan, nan]</td>\n      <td></td>\n    </tr>\n    <tr>\n      <th>2</th>\n      <td>000db696-cf54-4385-b10b-6b16fbb3f985</td>\n      <td>[316.0, 318.0, 170.0, 478.0, 660.0, 375.0, 146...</td>\n      <td>0.5323592682701782 384 282 117 204 0.516139128...</td>\n    </tr>\n    <tr>\n      <th>3</th>\n      <td>000fe35a-2649-43d4-b027-e67796d412e0</td>\n      <td>[570.0, 282.0, 269.0, 409.0, 83.0, 227.0, 296....</td>\n      <td>0.8221077651566709 488 370 356 425 0.806524258...</td>\n    </tr>\n    <tr>\n      <th>4</th>\n      <td>001031d9-f904-4a23-b3e5-2c088acd19c6</td>\n      <td>[66.0, 160.0, 373.0, 608.0, 552.0, 164.0, 376....</td>\n      <td>0.757617072874964 550 538 229 280</td>\n    </tr>\n    <tr>\n      <th>5</th>\n      <td>0010f549-b242-4e94-87a8-57d79de215fc</td>\n      <td>[nan, nan, nan, nan]</td>\n      <td>0.5791715817019875 243 269 180 218 0.584688553...</td>\n    </tr>\n    <tr>\n      <th>6</th>\n      <td>001916b8-3d30-4935-a5d1-8eaddb1646cd</td>\n      <td>[198.0, 375.0, 114.0, 206.0]</td>\n      <td>0.7466334580538401 780 231 217 409 0.713509225...</td>\n    </tr>\n    <tr>\n      <th>7</th>\n      <td>0022073f-cec8-42ec-ab5f-bc2314649235</td>\n      <td>[575.0, 232.0, 246.0, 528.0, 161.0, 230.0, 223...</td>\n      <td>0.7036652341064473 562 206 233 484 0.782359532...</td>\n    </tr>\n    <tr>\n      <th>8</th>\n      <td>0022995a-45eb-4cfa-9a59-cd15f5196c64</td>\n      <td>[nan, nan, nan, nan]</td>\n      <td>0.542522326084023 423 193 167 218 0.6833132284...</td>\n    </tr>\n    <tr>\n      <th>9</th>\n      <td>0025d2de-bd78-4d36-9f72-e15a5e22ca82</td>\n      <td>[nan, nan, nan, nan]</td>\n      <td></td>\n    </tr>\n    <tr>\n      <th>10</th>\n      <td>00293de0-a530-41dc-9621-0b3def01d06d</td>\n      <td>[nan, nan, nan, nan]</td>\n      <td>0.5360802659448842 794 384 88 51</td>\n    </tr>\n    <tr>\n      <th>11</th>\n      <td>002c591d-df62-4e34-8eda-838c664430a9</td>\n      <td>[nan, nan, nan, nan]</td>\n      <td>0.5175002660416126 744 334 48 100</td>\n    </tr>\n    <tr>\n      <th>12</th>\n      <td>002cb550-2e31-42f1-a29d-fbc279977e71</td>\n      <td>[176.0, 342.0, 170.0, 239.0, 515.0, 333.0, 167...</td>\n      <td>0.4693239251568282 179 179 499 614 0.503314454...</td>\n    </tr>\n    <tr>\n      <th>13</th>\n      <td>00313ee0-9eaa-42f4-b0ab-c148ed3241cd</td>\n      <td>[nan, nan, nan, nan]</td>\n      <td></td>\n    </tr>\n    <tr>\n      <th>14</th>\n      <td>00322d4d-1c29-4943-afc9-b6754be640eb</td>\n      <td>[nan, nan, nan, nan]</td>\n      <td></td>\n    </tr>\n    <tr>\n      <th>15</th>\n      <td>003d8fa0-6bf1-40ed-b54c-ac657f8495c5</td>\n      <td>[nan, nan, nan, nan]</td>\n      <td></td>\n    </tr>\n    <tr>\n      <th>16</th>\n      <td>00436515-870c-4b36-a041-de91049b9ab4</td>\n      <td>[264.0, 152.0, 213.0, 379.0, 562.0, 152.0, 256...</td>\n      <td></td>\n    </tr>\n    <tr>\n      <th>17</th>\n      <td>0049f7b2-229b-4a46-91a3-0e321a3ca80a</td>\n      <td>[nan, nan, nan, nan]</td>\n      <td>0.4968251145238242 858 103 89 164 0.6477422338...</td>\n    </tr>\n    <tr>\n      <th>18</th>\n      <td>0053ee32-1e03-4dc2-a103-f46ad0448787</td>\n      <td>[nan, nan, nan, nan]</td>\n      <td>0.6572095108418766 154 229 280 436 0.500788932...</td>\n    </tr>\n    <tr>\n      <th>19</th>\n      <td>00569f44-917d-4c86-a842-81832af98c30</td>\n      <td>[nan, nan, nan, nan]</td>\n      <td></td>\n    </tr>\n  </tbody>\n</table>\n</div>"
          },
          "metadata": {}
        }
      ]
    },
    {
      "metadata": {
        "scrolled": true,
        "trusted": true,
        "_uuid": "a049a5edb4bd5b86a56c0a207a07c5b55aff9283"
      },
      "cell_type": "code",
      "source": "# 공백을 기준으로 나눔, ','는 기본으로 찍힘\ndf.loc[:, 'bbox_pred'] = df.loc[:, 'bbox_pred'].map(lambda x: x.split(' '))\ndf.head(20)",
      "execution_count": 13,
      "outputs": [
        {
          "output_type": "execute_result",
          "execution_count": 13,
          "data": {
            "text/plain": "                               patientId                        ...                                                                  bbox_pred\n0   0004cfab-14fd-4e49-80ba-63a80b6bddd6                        ...                                                                         []\n1   000924cf-0f8d-42bd-9158-1af53881a557                        ...                                                                         []\n2   000db696-cf54-4385-b10b-6b16fbb3f985                        ...                          [0.5323592682701782, 384, 282, 117, 204, 0.516...\n3   000fe35a-2649-43d4-b027-e67796d412e0                        ...                          [0.8221077651566709, 488, 370, 356, 425, 0.806...\n4   001031d9-f904-4a23-b3e5-2c088acd19c6                        ...                                    [0.757617072874964, 550, 538, 229, 280]\n5   0010f549-b242-4e94-87a8-57d79de215fc                        ...                          [0.5791715817019875, 243, 269, 180, 218, 0.584...\n6   001916b8-3d30-4935-a5d1-8eaddb1646cd                        ...                          [0.7466334580538401, 780, 231, 217, 409, 0.713...\n7   0022073f-cec8-42ec-ab5f-bc2314649235                        ...                          [0.7036652341064473, 562, 206, 233, 484, 0.782...\n8   0022995a-45eb-4cfa-9a59-cd15f5196c64                        ...                          [0.542522326084023, 423, 193, 167, 218, 0.6833...\n9   0025d2de-bd78-4d36-9f72-e15a5e22ca82                        ...                                                                         []\n10  00293de0-a530-41dc-9621-0b3def01d06d                        ...                                     [0.5360802659448842, 794, 384, 88, 51]\n11  002c591d-df62-4e34-8eda-838c664430a9                        ...                                    [0.5175002660416126, 744, 334, 48, 100]\n12  002cb550-2e31-42f1-a29d-fbc279977e71                        ...                          [0.4693239251568282, 179, 179, 499, 614, 0.503...\n13  00313ee0-9eaa-42f4-b0ab-c148ed3241cd                        ...                                                                         []\n14  00322d4d-1c29-4943-afc9-b6754be640eb                        ...                                                                         []\n15  003d8fa0-6bf1-40ed-b54c-ac657f8495c5                        ...                                                                         []\n16  00436515-870c-4b36-a041-de91049b9ab4                        ...                                                                         []\n17  0049f7b2-229b-4a46-91a3-0e321a3ca80a                        ...                          [0.4968251145238242, 858, 103, 89, 164, 0.6477...\n18  0053ee32-1e03-4dc2-a103-f46ad0448787                        ...                          [0.6572095108418766, 154, 229, 280, 436, 0.500...\n19  00569f44-917d-4c86-a842-81832af98c30                        ...                                                                         []\n\n[20 rows x 3 columns]",
            "text/html": "<div>\n<style scoped>\n    .dataframe tbody tr th:only-of-type {\n        vertical-align: middle;\n    }\n\n    .dataframe tbody tr th {\n        vertical-align: top;\n    }\n\n    .dataframe thead th {\n        text-align: right;\n    }\n</style>\n<table border=\"1\" class=\"dataframe\">\n  <thead>\n    <tr style=\"text-align: right;\">\n      <th></th>\n      <th>patientId</th>\n      <th>bbox_target</th>\n      <th>bbox_pred</th>\n    </tr>\n  </thead>\n  <tbody>\n    <tr>\n      <th>0</th>\n      <td>0004cfab-14fd-4e49-80ba-63a80b6bddd6</td>\n      <td>[nan, nan, nan, nan]</td>\n      <td>[]</td>\n    </tr>\n    <tr>\n      <th>1</th>\n      <td>000924cf-0f8d-42bd-9158-1af53881a557</td>\n      <td>[nan, nan, nan, nan]</td>\n      <td>[]</td>\n    </tr>\n    <tr>\n      <th>2</th>\n      <td>000db696-cf54-4385-b10b-6b16fbb3f985</td>\n      <td>[316.0, 318.0, 170.0, 478.0, 660.0, 375.0, 146...</td>\n      <td>[0.5323592682701782, 384, 282, 117, 204, 0.516...</td>\n    </tr>\n    <tr>\n      <th>3</th>\n      <td>000fe35a-2649-43d4-b027-e67796d412e0</td>\n      <td>[570.0, 282.0, 269.0, 409.0, 83.0, 227.0, 296....</td>\n      <td>[0.8221077651566709, 488, 370, 356, 425, 0.806...</td>\n    </tr>\n    <tr>\n      <th>4</th>\n      <td>001031d9-f904-4a23-b3e5-2c088acd19c6</td>\n      <td>[66.0, 160.0, 373.0, 608.0, 552.0, 164.0, 376....</td>\n      <td>[0.757617072874964, 550, 538, 229, 280]</td>\n    </tr>\n    <tr>\n      <th>5</th>\n      <td>0010f549-b242-4e94-87a8-57d79de215fc</td>\n      <td>[nan, nan, nan, nan]</td>\n      <td>[0.5791715817019875, 243, 269, 180, 218, 0.584...</td>\n    </tr>\n    <tr>\n      <th>6</th>\n      <td>001916b8-3d30-4935-a5d1-8eaddb1646cd</td>\n      <td>[198.0, 375.0, 114.0, 206.0]</td>\n      <td>[0.7466334580538401, 780, 231, 217, 409, 0.713...</td>\n    </tr>\n    <tr>\n      <th>7</th>\n      <td>0022073f-cec8-42ec-ab5f-bc2314649235</td>\n      <td>[575.0, 232.0, 246.0, 528.0, 161.0, 230.0, 223...</td>\n      <td>[0.7036652341064473, 562, 206, 233, 484, 0.782...</td>\n    </tr>\n    <tr>\n      <th>8</th>\n      <td>0022995a-45eb-4cfa-9a59-cd15f5196c64</td>\n      <td>[nan, nan, nan, nan]</td>\n      <td>[0.542522326084023, 423, 193, 167, 218, 0.6833...</td>\n    </tr>\n    <tr>\n      <th>9</th>\n      <td>0025d2de-bd78-4d36-9f72-e15a5e22ca82</td>\n      <td>[nan, nan, nan, nan]</td>\n      <td>[]</td>\n    </tr>\n    <tr>\n      <th>10</th>\n      <td>00293de0-a530-41dc-9621-0b3def01d06d</td>\n      <td>[nan, nan, nan, nan]</td>\n      <td>[0.5360802659448842, 794, 384, 88, 51]</td>\n    </tr>\n    <tr>\n      <th>11</th>\n      <td>002c591d-df62-4e34-8eda-838c664430a9</td>\n      <td>[nan, nan, nan, nan]</td>\n      <td>[0.5175002660416126, 744, 334, 48, 100]</td>\n    </tr>\n    <tr>\n      <th>12</th>\n      <td>002cb550-2e31-42f1-a29d-fbc279977e71</td>\n      <td>[176.0, 342.0, 170.0, 239.0, 515.0, 333.0, 167...</td>\n      <td>[0.4693239251568282, 179, 179, 499, 614, 0.503...</td>\n    </tr>\n    <tr>\n      <th>13</th>\n      <td>00313ee0-9eaa-42f4-b0ab-c148ed3241cd</td>\n      <td>[nan, nan, nan, nan]</td>\n      <td>[]</td>\n    </tr>\n    <tr>\n      <th>14</th>\n      <td>00322d4d-1c29-4943-afc9-b6754be640eb</td>\n      <td>[nan, nan, nan, nan]</td>\n      <td>[]</td>\n    </tr>\n    <tr>\n      <th>15</th>\n      <td>003d8fa0-6bf1-40ed-b54c-ac657f8495c5</td>\n      <td>[nan, nan, nan, nan]</td>\n      <td>[]</td>\n    </tr>\n    <tr>\n      <th>16</th>\n      <td>00436515-870c-4b36-a041-de91049b9ab4</td>\n      <td>[264.0, 152.0, 213.0, 379.0, 562.0, 152.0, 256...</td>\n      <td>[]</td>\n    </tr>\n    <tr>\n      <th>17</th>\n      <td>0049f7b2-229b-4a46-91a3-0e321a3ca80a</td>\n      <td>[nan, nan, nan, nan]</td>\n      <td>[0.4968251145238242, 858, 103, 89, 164, 0.6477...</td>\n    </tr>\n    <tr>\n      <th>18</th>\n      <td>0053ee32-1e03-4dc2-a103-f46ad0448787</td>\n      <td>[nan, nan, nan, nan]</td>\n      <td>[0.6572095108418766, 154, 229, 280, 436, 0.500...</td>\n    </tr>\n    <tr>\n      <th>19</th>\n      <td>00569f44-917d-4c86-a842-81832af98c30</td>\n      <td>[nan, nan, nan, nan]</td>\n      <td>[]</td>\n    </tr>\n  </tbody>\n</table>\n</div>"
          },
          "metadata": {}
        }
      ]
    },
    {
      "metadata": {
        "trusted": true,
        "_uuid": "6311de8cc3169bddfc5745801fe2bbbfd3fdc440"
      },
      "cell_type": "code",
      "source": "def parse_scores(x):\n    if len(x)!=1:\n        scores = [x[k] for k in range(0,len(x),5)]\n        for score in range(len(scores)):\n            scores[score] = float(scores[score])\n        return np.asarray(scores)\n    #score 추출",
      "execution_count": 14,
      "outputs": []
    },
    {
      "metadata": {
        "trusted": true,
        "_uuid": "745c94eeec245e2e6684ed872ea6758a23d4ac54"
      },
      "cell_type": "code",
      "source": "df.loc[:, 'bbox_scores'] = df.loc[:, 'bbox_pred'].map(parse_scores)",
      "execution_count": 15,
      "outputs": []
    },
    {
      "metadata": {
        "scrolled": true,
        "trusted": true,
        "_uuid": "83d733c2ba4c9b1beaffce5dce69e7b0cae0a0e5"
      },
      "cell_type": "code",
      "source": "df.head()",
      "execution_count": null,
      "outputs": []
    },
    {
      "metadata": {
        "trusted": true,
        "_uuid": "e233df9c64144f027138d47efd5f3b4674a25ccd"
      },
      "cell_type": "code",
      "source": "def parse_bbox(x):\n    if len(x)!=1:\n        bbox = [int(x[k]) for k in range(0,len(x)) if k%5 != 0]\n        return np.asarray(bbox).reshape(int(len(bbox)/4),4)\n    # bbox 추출",
      "execution_count": 16,
      "outputs": []
    },
    {
      "metadata": {
        "trusted": true,
        "_uuid": "595da96de44909439638e259161744589df5276e"
      },
      "cell_type": "code",
      "source": "df.loc[:, 'bbox_preds'] = df.loc[:, 'bbox_pred'].map(parse_bbox)",
      "execution_count": 17,
      "outputs": []
    },
    {
      "metadata": {
        "trusted": true,
        "_uuid": "545f6e8f67a9676d6d9451f46341feeeee77d524"
      },
      "cell_type": "code",
      "source": "df.head()",
      "execution_count": 18,
      "outputs": [
        {
          "output_type": "execute_result",
          "execution_count": 18,
          "data": {
            "text/plain": "                              patientId                        ...                                                                 bbox_preds\n0  0004cfab-14fd-4e49-80ba-63a80b6bddd6                        ...                                                                       None\n1  000924cf-0f8d-42bd-9158-1af53881a557                        ...                                                                       None\n2  000db696-cf54-4385-b10b-6b16fbb3f985                        ...                          [[384, 282, 117, 204], [691, 434, 77, 205], [6...\n3  000fe35a-2649-43d4-b027-e67796d412e0                        ...                               [[488, 370, 356, 425], [178, 383, 256, 410]]\n4  001031d9-f904-4a23-b3e5-2c088acd19c6                        ...                                                     [[550, 538, 229, 280]]\n\n[5 rows x 5 columns]",
            "text/html": "<div>\n<style scoped>\n    .dataframe tbody tr th:only-of-type {\n        vertical-align: middle;\n    }\n\n    .dataframe tbody tr th {\n        vertical-align: top;\n    }\n\n    .dataframe thead th {\n        text-align: right;\n    }\n</style>\n<table border=\"1\" class=\"dataframe\">\n  <thead>\n    <tr style=\"text-align: right;\">\n      <th></th>\n      <th>patientId</th>\n      <th>bbox_target</th>\n      <th>bbox_pred</th>\n      <th>bbox_scores</th>\n      <th>bbox_preds</th>\n    </tr>\n  </thead>\n  <tbody>\n    <tr>\n      <th>0</th>\n      <td>0004cfab-14fd-4e49-80ba-63a80b6bddd6</td>\n      <td>[nan, nan, nan, nan]</td>\n      <td>[]</td>\n      <td>None</td>\n      <td>None</td>\n    </tr>\n    <tr>\n      <th>1</th>\n      <td>000924cf-0f8d-42bd-9158-1af53881a557</td>\n      <td>[nan, nan, nan, nan]</td>\n      <td>[]</td>\n      <td>None</td>\n      <td>None</td>\n    </tr>\n    <tr>\n      <th>2</th>\n      <td>000db696-cf54-4385-b10b-6b16fbb3f985</td>\n      <td>[316.0, 318.0, 170.0, 478.0, 660.0, 375.0, 146...</td>\n      <td>[0.5323592682701782, 384, 282, 117, 204, 0.516...</td>\n      <td>[0.5323592682701782, 0.5161391282115811, 0.525...</td>\n      <td>[[384, 282, 117, 204], [691, 434, 77, 205], [6...</td>\n    </tr>\n    <tr>\n      <th>3</th>\n      <td>000fe35a-2649-43d4-b027-e67796d412e0</td>\n      <td>[570.0, 282.0, 269.0, 409.0, 83.0, 227.0, 296....</td>\n      <td>[0.8221077651566709, 488, 370, 356, 425, 0.806...</td>\n      <td>[0.8221077651566709, 0.806524258692675]</td>\n      <td>[[488, 370, 356, 425], [178, 383, 256, 410]]</td>\n    </tr>\n    <tr>\n      <th>4</th>\n      <td>001031d9-f904-4a23-b3e5-2c088acd19c6</td>\n      <td>[66.0, 160.0, 373.0, 608.0, 552.0, 164.0, 376....</td>\n      <td>[0.757617072874964, 550, 538, 229, 280]</td>\n      <td>[0.757617072874964]</td>\n      <td>[[550, 538, 229, 280]]</td>\n    </tr>\n  </tbody>\n</table>\n</div>"
          },
          "metadata": {}
        }
      ]
    },
    {
      "metadata": {
        "trusted": true,
        "_uuid": "8d099b5720fd97b12eb87ad6995d6ea27369fcf8"
      },
      "cell_type": "code",
      "source": "#bbox_pred 추출 후 열 제거\ndf = df.drop(['bbox_pred'], axis=1)",
      "execution_count": 19,
      "outputs": []
    },
    {
      "metadata": {
        "scrolled": true,
        "trusted": true,
        "_uuid": "4540e86f658293242835827c314802ca821a2c4c"
      },
      "cell_type": "code",
      "source": "df.head(20)",
      "execution_count": null,
      "outputs": []
    },
    {
      "metadata": {
        "_uuid": "08a4df1090663cc4523ed85ebddc76f36b900d76"
      },
      "cell_type": "markdown",
      "source": "Edit NaN or None values to empty numpy arrays to fit MAP IoU metric implementation"
    },
    {
      "metadata": {
        "scrolled": true,
        "trusted": true,
        "_uuid": "c66ad0761803b12e377a62904f192534546df443"
      },
      "cell_type": "code",
      "source": "df.loc[df['bbox_scores'].isnull(),['bbox_scores']] = df.loc[df['bbox_scores'].isnull(),'bbox_scores'].apply(lambda x: np.asarray([]))",
      "execution_count": 20,
      "outputs": []
    },
    {
      "metadata": {
        "trusted": true,
        "_uuid": "ec0aaf94c955093a98664f8ecebb728fba058695"
      },
      "cell_type": "code",
      "source": "#bbox_scores null 제거 후 출력\ndf.head()",
      "execution_count": null,
      "outputs": []
    },
    {
      "metadata": {
        "scrolled": true,
        "trusted": true,
        "_uuid": "d4a5a592d671322648a3cfff47e9fccb791e0aac"
      },
      "cell_type": "code",
      "source": "df.loc[df['bbox_preds'].isnull(),['bbox_preds']] = df.loc[df['bbox_preds'].isnull(),'bbox_preds'].apply(lambda x: np.asarray([]))",
      "execution_count": 21,
      "outputs": []
    },
    {
      "metadata": {
        "trusted": true,
        "_uuid": "bff01ed1d7af24de3f655063386f5a33db36b5a2"
      },
      "cell_type": "code",
      "source": "#bbox_pred null 제거 후 출력\ndf.head()",
      "execution_count": null,
      "outputs": []
    },
    {
      "metadata": {
        "trusted": true,
        "_uuid": "fb9e3dc75a8c3ec9d2424e0496e0124f9661af3f"
      },
      "cell_type": "code",
      "source": "def parse_target_str(x):\n    if x[0] != 'nan':\n        bbox = np.asarray([int(float(x[k])) for k in range(0,len(x))])\n        return bbox.reshape(int(len(bbox)/4),4)",
      "execution_count": 22,
      "outputs": []
    },
    {
      "metadata": {
        "trusted": true,
        "_uuid": "360f0605fcb1c3d1bd6466adbd561fd33688b279"
      },
      "cell_type": "code",
      "source": "df.loc[:,'bbox_target'] = df.loc[:,'bbox_target'].map(parse_target_str)\ndf.head()\n#bbox_target값 4개씩 묶어서 재 배열",
      "execution_count": 23,
      "outputs": [
        {
          "output_type": "execute_result",
          "execution_count": 23,
          "data": {
            "text/plain": "                              patientId                        ...                                                                 bbox_preds\n0  0004cfab-14fd-4e49-80ba-63a80b6bddd6                        ...                                                                         []\n1  000924cf-0f8d-42bd-9158-1af53881a557                        ...                                                                         []\n2  000db696-cf54-4385-b10b-6b16fbb3f985                        ...                          [[384, 282, 117, 204], [691, 434, 77, 205], [6...\n3  000fe35a-2649-43d4-b027-e67796d412e0                        ...                               [[488, 370, 356, 425], [178, 383, 256, 410]]\n4  001031d9-f904-4a23-b3e5-2c088acd19c6                        ...                                                     [[550, 538, 229, 280]]\n\n[5 rows x 4 columns]",
            "text/html": "<div>\n<style scoped>\n    .dataframe tbody tr th:only-of-type {\n        vertical-align: middle;\n    }\n\n    .dataframe tbody tr th {\n        vertical-align: top;\n    }\n\n    .dataframe thead th {\n        text-align: right;\n    }\n</style>\n<table border=\"1\" class=\"dataframe\">\n  <thead>\n    <tr style=\"text-align: right;\">\n      <th></th>\n      <th>patientId</th>\n      <th>bbox_target</th>\n      <th>bbox_scores</th>\n      <th>bbox_preds</th>\n    </tr>\n  </thead>\n  <tbody>\n    <tr>\n      <th>0</th>\n      <td>0004cfab-14fd-4e49-80ba-63a80b6bddd6</td>\n      <td>None</td>\n      <td>[]</td>\n      <td>[]</td>\n    </tr>\n    <tr>\n      <th>1</th>\n      <td>000924cf-0f8d-42bd-9158-1af53881a557</td>\n      <td>None</td>\n      <td>[]</td>\n      <td>[]</td>\n    </tr>\n    <tr>\n      <th>2</th>\n      <td>000db696-cf54-4385-b10b-6b16fbb3f985</td>\n      <td>[[316, 318, 170, 478], [660, 375, 146, 402]]</td>\n      <td>[0.5323592682701782, 0.5161391282115811, 0.525...</td>\n      <td>[[384, 282, 117, 204], [691, 434, 77, 205], [6...</td>\n    </tr>\n    <tr>\n      <th>3</th>\n      <td>000fe35a-2649-43d4-b027-e67796d412e0</td>\n      <td>[[570, 282, 269, 409], [83, 227, 296, 438]]</td>\n      <td>[0.8221077651566709, 0.806524258692675]</td>\n      <td>[[488, 370, 356, 425], [178, 383, 256, 410]]</td>\n    </tr>\n    <tr>\n      <th>4</th>\n      <td>001031d9-f904-4a23-b3e5-2c088acd19c6</td>\n      <td>[[66, 160, 373, 608], [552, 164, 376, 676]]</td>\n      <td>[0.757617072874964]</td>\n      <td>[[550, 538, 229, 280]]</td>\n    </tr>\n  </tbody>\n</table>\n</div>"
          },
          "metadata": {}
        }
      ]
    },
    {
      "metadata": {
        "scrolled": true,
        "trusted": true,
        "_uuid": "0f56fbb9bccd180f743f7551c31408b6fdaac46b"
      },
      "cell_type": "code",
      "source": "df.loc[df['bbox_target'].isnull(),['bbox_target']] = df.loc[df['bbox_target'].isnull(),'bbox_target'].apply(lambda x: np.asarray([]))",
      "execution_count": 24,
      "outputs": []
    },
    {
      "metadata": {
        "trusted": true,
        "_uuid": "f95413c0eccef734f9d19e2f134b4c7a691c1ac9"
      },
      "cell_type": "code",
      "source": "df.head()\n# bbox_target null 제거 후 출력",
      "execution_count": null,
      "outputs": []
    },
    {
      "metadata": {
        "_uuid": "bc462c04aa4d250e862280e207d25444b18ae7bc"
      },
      "cell_type": "markdown",
      "source": "# Find mean average precision IoU using implementation by chenyc15 https://www.kaggle.com/chenyc15/mean-average-precision-metric and edited herein"
    },
    {
      "metadata": {
        "trusted": true,
        "_uuid": "5194314ded5199dad9ea8725ff428f2102d8ac5f"
      },
      "cell_type": "code",
      "source": "# helper function to calculate IoU\ndef iou(box1, box2):\n    x11, y11, w1, h1 = box1\n    x21, y21, w2, h2 = box2\n    assert w1 * h1 > 0\n    assert w2 * h2 > 0\n    x12, y12 = x11 + w1, y11 + h1\n    x22, y22 = x21 + w2, y21 + h2\n\n    area1, area2 = w1 * h1, w2 * h2\n    xi1, yi1, xi2, yi2 = max([x11, x21]), max([y11, y21]), min([x12, x22]), min([y12, y22])\n    \n    if xi2 <= xi1 or yi2 <= yi1:\n        return 0\n    else:\n        intersect = (xi2-xi1) * (yi2-yi1)\n        union = area1 + area2 - intersect\n        return intersect / union",
      "execution_count": 25,
      "outputs": []
    },
    {
      "metadata": {
        "trusted": true,
        "_uuid": "0589be0aee106c1369a4dce22d750958b34a2d57"
      },
      "cell_type": "code",
      "source": "def map_iou(boxes_true, boxes_pred, scores, thresholds = [0.4, 0.45, 0.5, 0.55, 0.6, 0.65, 0.7, 0.75]):\n    \"\"\"\n    Mean average precision at differnet intersection over union (IoU) threshold\n    \n    input:\n        boxes_true: Mx4 numpy array of ground true bounding boxes of one image. \n                    bbox format: (x1, y1, w, h)\n        boxes_pred: Nx4 numpy array of predicted bounding boxes of one image. \n                    bbox format: (x1, y1, w, h)\n        scores:     length N numpy array of scores associated with predicted bboxes\n        thresholds: IoU shresholds to evaluate mean average precision on\n    output: \n        map: mean average precision of the image\n    \"\"\"\n    \n    # According to the introduction, images with no ground truth bboxes will not be \n    # included in the map score unless there is a false positive detection (?)\n        \n    # return None if both are empty, don't count the image in final evaluation (?)\n    if len(boxes_true) == 0 and len(boxes_pred) == 0:\n        return None\n    elif len(boxes_true) == 0 and len(boxes_pred) > 0:\n        return 0\n    elif len(boxes_true) > 0 and len(boxes_pred) == 0:\n        return 0\n    elif len(boxes_true) > 0 and len(boxes_pred) > 0:\n        assert boxes_true.shape[1] == 4 or boxes_pred.shape[1] == 4, \"boxes should be 2D arrays with shape[1]=4\"\n        if len(boxes_pred):\n            assert len(scores) == len(boxes_pred), \"boxes_pred and scores should be same length\"\n            # sort boxes_pred by scores in decreasing order\n            boxes_pred = boxes_pred[np.argsort(scores)[::-1], :]\n\n        map_total = 0\n\n        # loop over thresholds\n        for t in thresholds:\n            matched_bt = set()\n            tp, fn = 0, 0\n            for i, bt in enumerate(boxes_true):\n                matched = False\n                for j, bp in enumerate(boxes_pred):\n                    miou = iou(bt, bp)\n                    if miou >= t and not matched and j not in matched_bt:\n                        matched = True\n                        tp += 1 # bt is matched for the first time, count as TP\n                        matched_bt.add(j)\n                if not matched:\n                    fn += 1 # bt has no match, count as FN\n\n            fp = len(boxes_pred) - len(matched_bt) # FP is the bp that not matched to any bt\n            m = tp / (tp + fn + fp)\n            map_total += m\n    \n    return map_total / len(thresholds)",
      "execution_count": 26,
      "outputs": []
    },
    {
      "metadata": {
        "scrolled": false,
        "trusted": true,
        "_uuid": "87d7996c6211191766a4b9dc8c6880d15ddb30c3"
      },
      "cell_type": "code",
      "source": "df.head(20)",
      "execution_count": null,
      "outputs": []
    },
    {
      "metadata": {
        "trusted": true,
        "_uuid": "2213344b1af6ef259fe790da786e01c644525fdb"
      },
      "cell_type": "code",
      "source": "#map_iou test, 상위 20개 행만 테스트\nfor row in range(20):\n    print(map_iou(df['bbox_target'][row], df['bbox_preds'][row], df['bbox_scores'][row]))",
      "execution_count": 27,
      "outputs": [
        {
          "output_type": "stream",
          "text": "None\nNone\n0.0\n0.08333333333333333\n0.0\n0\n0.0\n0.7083333333333333\n0\nNone\n0\n0\n0.125\nNone\nNone\nNone\n0\n0\n0\nNone\n",
          "name": "stdout"
        }
      ]
    },
    {
      "metadata": {
        "trusted": true,
        "_uuid": "8ef669b34be8b2e66b91cad868575b94f84b810c"
      },
      "cell_type": "code",
      "source": "#non이 아닐때만 map_iou 계산\nmap_scores = [\n    x for x in [map_iou(df['bbox_target'][row], df['bbox_preds'][row], df['bbox_scores'][row]) for row in range(len(df))] if x is not None]",
      "execution_count": 28,
      "outputs": []
    },
    {
      "metadata": {
        "trusted": true,
        "_uuid": "02407979a332f12667eea6bfab4fdde7c4a2ea12"
      },
      "cell_type": "code",
      "source": "map_scores",
      "execution_count": 29,
      "outputs": [
        {
          "output_type": "execute_result",
          "execution_count": 29,
          "data": {
            "text/plain": "[0.0,\n 0.08333333333333333,\n 0.0,\n 0,\n 0.0,\n 0.7083333333333333,\n 0,\n 0,\n 0,\n 0.125,\n 0,\n 0,\n 0,\n 0,\n 0,\n 0,\n 0.16666666666666666,\n 0,\n 0,\n 0.1875,\n 0,\n 0,\n 0,\n 0.0,\n 0,\n 0,\n 0,\n 0,\n 0,\n 0,\n 0,\n 0,\n 0,\n 0,\n 0,\n 0,\n 0,\n 0,\n 0.0,\n 0,\n 0,\n 0,\n 0,\n 0,\n 0,\n 0,\n 0,\n 0,\n 0,\n 0,\n 0,\n 0,\n 0,\n 0,\n 0,\n 0,\n 0,\n 0,\n 0,\n 0.0,\n 0,\n 0,\n 0.0,\n 0.0,\n 0.0,\n 0.0,\n 0,\n 0.5416666666666666,\n 0,\n 0,\n 0,\n 0,\n 0.0,\n 0,\n 0,\n 0.0,\n 0,\n 0,\n 0,\n 0,\n 0,\n 0,\n 0,\n 0,\n 0.0625,\n 0,\n 0,\n 0,\n 0.0,\n 0,\n 0,\n 0,\n 0,\n 0,\n 0,\n 0.0,\n 0,\n 0,\n 0,\n 0,\n 0.0,\n 0,\n 0.0,\n 0,\n 0,\n 0,\n 0,\n 0,\n 0,\n 0,\n 0.0,\n 0.0,\n 0,\n 0,\n 0,\n 0,\n 0,\n 0.0,\n 0,\n 0,\n 0,\n 0.0,\n 0.0,\n 0,\n 0.0,\n 0,\n 0,\n 0,\n 0,\n 0,\n 0.0,\n 0,\n 0,\n 0.3333333333333333,\n 0,\n 0,\n 0,\n 0.0,\n 0.0,\n 0,\n 0,\n 0,\n 0.16666666666666666,\n 0,\n 0,\n 0.041666666666666664,\n 0,\n 0,\n 0,\n 0,\n 0,\n 0,\n 0,\n 0,\n 0,\n 0.0,\n 0.0,\n 0.0,\n 0,\n 0,\n 0,\n 0,\n 0,\n 0,\n 0.125,\n 0.29166666666666663,\n 0,\n 0,\n 0,\n 0,\n 0,\n 0,\n 0,\n 0,\n 0,\n 0,\n 0,\n 0,\n 0,\n 0,\n 0,\n 0,\n 0,\n 0,\n 0,\n 0,\n 0,\n 0,\n 0,\n 0,\n 0,\n 0,\n 0,\n 0,\n 0,\n 0,\n 0,\n 0,\n 0,\n 0,\n 0,\n 0,\n 0,\n 0,\n 0,\n 0,\n 0,\n 0,\n 0,\n 0,\n 0,\n 0,\n 0,\n 0,\n 0,\n 0,\n 0,\n 0,\n 0,\n 0,\n 0,\n 0,\n 0,\n 0,\n 0,\n 0,\n 0,\n 0,\n 0,\n 0,\n 0,\n 0,\n 0,\n 0,\n 0,\n 0,\n 0,\n 0,\n 0,\n 0,\n 0,\n 0,\n 0,\n 0,\n 0,\n 0,\n 0,\n 0,\n 0,\n 0,\n 0,\n 0,\n 0,\n 0,\n 0,\n 0,\n 0,\n 0,\n 0,\n 0,\n 0,\n 0,\n 0,\n 0,\n 0,\n 0,\n 0,\n 0,\n 0,\n 0,\n 0,\n 0,\n 0,\n 0,\n 0,\n 0,\n 0,\n 0,\n 0,\n 0,\n 0,\n 0,\n 0,\n 0,\n 0,\n 0,\n 0,\n 0,\n 0,\n 0,\n 0,\n 0,\n 0,\n 0,\n 0,\n 0,\n 0,\n 0,\n 0,\n 0,\n 0,\n 0,\n 0,\n 0,\n 0,\n 0,\n 0,\n 0,\n 0,\n 0,\n 0,\n 0,\n 0,\n 0,\n 0,\n 0,\n 0,\n 0,\n 0,\n 0,\n 0,\n 0,\n 0,\n 0,\n 0,\n 0,\n 0,\n 0,\n 0,\n 0,\n 0,\n 0,\n 0,\n 0,\n 0,\n 0,\n 0,\n 0,\n 0,\n 0,\n 0,\n 0,\n 0,\n 0,\n 0,\n 0,\n 0,\n 0,\n 0,\n 0,\n 0,\n 0,\n 0,\n 0,\n 0,\n 0,\n 0,\n 0,\n 0,\n 0,\n 0,\n 0,\n 0,\n 0,\n 0,\n 0,\n 0,\n 0,\n 0,\n 0,\n 0,\n 0,\n 0,\n 0,\n 0,\n 0,\n 0,\n 0,\n 0,\n 0,\n 0,\n 0,\n 0,\n 0,\n 0,\n 0,\n 0,\n 0,\n 0,\n 0,\n 0,\n 0,\n 0,\n 0,\n 0,\n 0,\n 0,\n 0,\n 0,\n 0,\n 0,\n 0,\n 0,\n 0,\n 0,\n 0,\n 0,\n 0,\n 0,\n 0,\n 0.375,\n 0,\n 0.0,\n 0,\n 0,\n 0,\n 0.5,\n 0.0,\n 0,\n 0,\n 0,\n 0,\n 0,\n 0,\n 0,\n 0,\n 0,\n 0.0,\n 0,\n 0,\n 0,\n 0.03125,\n 0.0,\n 0,\n 0,\n 0,\n 0,\n 0,\n 0,\n 0,\n 0,\n 0,\n 0.0,\n 0.0,\n 0,\n 0,\n 0,\n 0.125,\n 0,\n 0,\n 0,\n 0,\n 0,\n 0,\n 0,\n 0,\n 0,\n 0,\n 0,\n 0,\n 0,\n 0,\n 0.125,\n 0,\n 0,\n 0,\n 0.0,\n 0,\n 0,\n 0,\n 0,\n 0.07500000000000001,\n 0.0,\n 0,\n 0,\n 0,\n 0,\n 0.0,\n 0.0,\n 0,\n 0,\n 0,\n 0,\n 0,\n 0.0,\n 0,\n 0,\n 0.0,\n 0,\n 0,\n 0,\n 0,\n 0,\n 0,\n 0,\n 0,\n 0,\n 0,\n 0.0,\n 0,\n 0.0625,\n 0.0,\n 0,\n 0.29166666666666663,\n 0,\n 0,\n 0,\n 0.0,\n 0,\n 0,\n 0,\n 0.0,\n 0,\n 0,\n 0,\n 0,\n 0.0,\n 0,\n 0,\n 0.0,\n 0.0,\n 0,\n 0,\n 0.0,\n 0,\n 0.0,\n 0,\n 0,\n 0,\n 0.0,\n 0,\n 0,\n 0,\n 0,\n 0.0,\n 0,\n 0,\n 0.0,\n 0,\n 0,\n 0,\n 0,\n 0,\n 0,\n 0,\n 0.0,\n 0.0,\n 0,\n 0.275,\n 0,\n 0,\n 0,\n 0,\n 0,\n 0.0625,\n 0,\n 0.1,\n 0.37500000000000006,\n 0.0,\n 0,\n 0,\n 0,\n 0,\n 0,\n 0,\n 0.25,\n 0,\n 0,\n 0.0,\n 0,\n 0,\n 0,\n 0.4166666666666667,\n 0,\n 0,\n 0,\n 0,\n 0,\n 0.0,\n 0,\n 0,\n 0,\n 0.14583333333333331,\n 0,\n 0,\n 0,\n 0.4375,\n 0,\n 0.0,\n 0.0,\n 0,\n 0.0,\n 0,\n 0,\n 0,\n 0,\n 0,\n 0,\n 0,\n 0,\n 0,\n 0,\n 0,\n 0,\n 0,\n 0,\n 0,\n 0,\n 0,\n 0,\n 0,\n 0,\n 0,\n 0,\n 0,\n 0.0625,\n 0,\n 0,\n 0.08333333333333333,\n 0,\n 0,\n 0.0,\n 0,\n 0.0,\n 0.0,\n 0.0,\n 0,\n 0,\n 0,\n 0,\n 0,\n 0,\n 0,\n 0.0,\n 0,\n 0,\n 0,\n 0,\n 0,\n 0,\n 0,\n 0,\n 0,\n 0,\n 0,\n 0,\n 0,\n 0,\n 0,\n 0,\n 0,\n 0,\n 0,\n 0,\n 0,\n 0,\n 0,\n 0,\n 0,\n 0,\n 0,\n 0,\n 0,\n 0,\n 0,\n 0,\n 0,\n 0,\n 0,\n 0,\n 0,\n 0,\n 0,\n 0,\n 0,\n 0,\n 0,\n 0,\n 0,\n 0,\n 0,\n 0,\n 0,\n 0,\n 0,\n 0,\n 0,\n 0,\n 0,\n 0,\n 0,\n 0,\n 0,\n 0,\n 0,\n 0,\n 0,\n 0,\n 0,\n 0,\n 0,\n 0,\n 0,\n 0,\n 0,\n 0,\n 0,\n 0,\n 0,\n 0,\n 0,\n 0,\n 0,\n 0,\n 0,\n 0,\n 0,\n 0,\n 0,\n 0,\n 0,\n 0,\n 0,\n 0,\n 0,\n 0,\n 0,\n 0,\n 0,\n 0,\n 0,\n 0,\n 0,\n 0,\n 0,\n 0,\n 0,\n 0,\n 0,\n 0,\n 0,\n 0,\n 0,\n 0,\n 0,\n 0,\n 0,\n 0,\n 0,\n 0,\n 0,\n 0,\n 0,\n 0,\n 0,\n 0,\n 0,\n 0,\n 0,\n 0,\n 0,\n 0,\n 0,\n 0,\n 0,\n 0,\n 0,\n 0,\n 0,\n 0,\n 0,\n 0,\n 0,\n 0,\n 0,\n 0,\n 0,\n 0,\n 0,\n 0,\n 0,\n 0,\n 0,\n 0,\n 0,\n 0.0,\n 0.0,\n 0.15625,\n 0.16666666666666666,\n 0,\n 0.0625,\n 0,\n 0,\n 0,\n 0.0,\n 0.0,\n 0.08333333333333333,\n 0.0,\n 0,\n 0,\n 0.1875,\n 0.5416666666666666,\n 0.0,\n 0.0,\n 0,\n 0.0,\n 0,\n 0,\n 0,\n 0,\n 0,\n 0.0,\n 0,\n 0,\n 0,\n 0.0,\n 0,\n 0.375,\n 0,\n 0.0,\n 0.05,\n 0.0,\n 0,\n 0,\n 0.0,\n 0.0,\n 0,\n 0.0,\n 0,\n 0.125,\n 0,\n 0,\n 0,\n 0.0,\n 0,\n 0,\n 0,\n 0,\n 0,\n 0,\n 0.0,\n 0.0,\n 0.0,\n 0,\n 0,\n 0.0,\n 0,\n 0,\n 0,\n 0,\n 0.0,\n 0,\n 0,\n 0.0,\n 0,\n 0.0,\n 0.0,\n 0.0,\n 0,\n 0,\n 0,\n 0.0,\n 0.0,\n 0,\n 0.0,\n 0.0,\n 0,\n 0,\n 0.0,\n 0.0,\n 0.0,\n 0,\n 0.0,\n 0,\n 0,\n 0.0,\n 0,\n 0,\n 0.0,\n 0,\n 0,\n 0,\n 0,\n 0,\n 0,\n 0.0,\n 0.0,\n 0,\n 0.0,\n 0,\n 0,\n 0,\n 0,\n 0,\n 0,\n 0,\n 0,\n 0,\n 0,\n 0,\n 0.0,\n 0.0,\n 0.0,\n 0,\n 0,\n 0,\n 0,\n 0.0,\n 0.1,\n 0,\n 0.0,\n 0.08333333333333333,\n 0,\n 0,\n 0.0625,\n 0,\n 0,\n 0,\n 0.0,\n 0.375,\n 0,\n 0,\n 0,\n 0,\n 0.0,\n 0,\n 0,\n 0,\n 0,\n 0,\n 0,\n 0,\n 0,\n 0,\n 0,\n 0.0,\n 0,\n 0,\n 0.0,\n 0.0,\n 0,\n 0,\n 0,\n 0,\n 0,\n 0,\n 0.0,\n 0.0,\n 0,\n 0,\n 0,\n 0,\n 0.0,\n 0.0,\n 0,\n 0,\n 0,\n 0.041666666666666664,\n 0,\n 0,\n 0.0,\n 0.375,\n 0.0,\n 0.0,\n 0.125,\n 0.0,\n 0,\n 0,\n 0.175,\n 0,\n 0,\n 0,\n 0,\n 0,\n 0.0,\n 0,\n 0.0,\n 0,\n 0,\n 0,\n 0,\n 0,\n 0,\n 0,\n 0,\n 0,\n 0,\n 0,\n 0.0,\n 0.125,\n 0.0,\n 0.0,\n 0,\n 0,\n 0.08333333333333333,\n 0,\n 0,\n 0,\n 0,\n 0.0,\n ...]"
          },
          "metadata": {}
        }
      ]
    },
    {
      "metadata": {
        "trusted": true,
        "_uuid": "b47765ae333aa3dcae70c2130a0376b99ad64af6"
      },
      "cell_type": "code",
      "source": "np.mean(map_scores)",
      "execution_count": 30,
      "outputs": [
        {
          "output_type": "execute_result",
          "execution_count": 30,
          "data": {
            "text/plain": "0.0026378635161321217"
          },
          "metadata": {}
        }
      ]
    }
  ],
  "metadata": {
    "kernelspec": {
      "display_name": "Python 3",
      "language": "python",
      "name": "python3"
    },
    "language_info": {
      "name": "python",
      "version": "3.6.6",
      "mimetype": "text/x-python",
      "codemirror_mode": {
        "name": "ipython",
        "version": 3
      },
      "pygments_lexer": "ipython3",
      "nbconvert_exporter": "python",
      "file_extension": ".py"
    }
  },
  "nbformat": 4,
  "nbformat_minor": 1
}