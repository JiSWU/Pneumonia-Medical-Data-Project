{
  "cells": [
    {
      "metadata": {
        "_uuid": "8466faddaa492e417e80cea07989dceb72017246"
      },
      "cell_type": "markdown",
      "source": "# Objective: Obtain out of fold predictions on the entire training set using cross validation and then using a mean average precision IoU metric, that closely resembles the competition metric, to improve validation"
    },
    {
      "metadata": {
        "trusted": true,
        "_uuid": "eec3fbc59b4528da7fa867dd148c52d6391edb5b"
      },
      "cell_type": "code",
      "source": "import numpy as np\nimport pandas as pd",
      "execution_count": 51,
      "outputs": []
    },
    {
      "metadata": {
        "_uuid": "97a0f040fd76bb2970fb721615570defb6efb949"
      },
      "cell_type": "markdown",
      "source": "# Prepare out of fold training predictions for implementation of MAP IoU matching competition evaluation description"
    },
    {
      "metadata": {
        "_uuid": "351227cc50e0711d25350d1f1bdc1b54bbf3d505"
      },
      "cell_type": "markdown",
      "source": "Load oof predictions from CNN segmentation CV kernel https://www.kaggle.com/cchadha/cnn-segmentation-cv-with-oof-preds-on-train-set/notebook"
    },
    {
      "metadata": {
        "trusted": true,
        "_uuid": "b141987cdeb3559470e514de28492ae28a770733"
      },
      "cell_type": "code",
      "source": "oof_preds0 = pd.read_csv('../input/cnn-segmentation-cv-with-oof-preds-on-train-set/oof_preds0.csv')\noof_preds1 = pd.read_csv('../input/cnn-segmentation-cv-with-oof-preds-on-train-set/oof_preds1.csv')\noof_preds2 = pd.read_csv('../input/cnn-segmentation-cv-with-oof-preds-on-train-set/oof_preds2.csv')",
      "execution_count": 52,
      "outputs": []
    },
    {
      "metadata": {
        "trusted": true,
        "_uuid": "e0ef41d62accd5165bf381de599419c83cab1a42"
      },
      "cell_type": "code",
      "source": "oof_preds0.head()",
      "execution_count": null,
      "outputs": []
    },
    {
      "metadata": {
        "scrolled": true,
        "trusted": true,
        "_uuid": "e4f9fc9593ded7314463ddbb437fd0ea95f3cd1c"
      },
      "cell_type": "code",
      "source": "oof_preds1.head()",
      "execution_count": null,
      "outputs": []
    },
    {
      "metadata": {
        "trusted": true,
        "_uuid": "b15e2aaf7ceb8da8d8c2c522f0a2aa1ff4c7125c"
      },
      "cell_type": "code",
      "source": "oof_preds2.head()",
      "execution_count": null,
      "outputs": []
    },
    {
      "metadata": {
        "_uuid": "debe3e4e95b80f6db124c7e731b4cf529073bc78"
      },
      "cell_type": "markdown",
      "source": "Read in training labels"
    },
    {
      "metadata": {
        "trusted": true,
        "_uuid": "ac96897c3549427881c993eab140ff3bedc2d071"
      },
      "cell_type": "code",
      "source": "df = pd.read_csv('../input/rsna-pneumonia-detection-challenge/stage_2_train_labels.csv')",
      "execution_count": 53,
      "outputs": []
    },
    {
      "metadata": {
        "trusted": true,
        "_uuid": "48da1d7e7db105ae2671a802e2332308576f6a4b"
      },
      "cell_type": "code",
      "source": "df.head(20)",
      "execution_count": null,
      "outputs": []
    },
    {
      "metadata": {
        "_uuid": "b92a23ed6f5e57c1bacc1df9cc5ed011d35658d5"
      },
      "cell_type": "markdown",
      "source": "Parse bounding box labels into correct format for Mean Average Precision IoU metric"
    },
    {
      "metadata": {
        "trusted": true,
        "_uuid": "1e4af8e36bb8b661b536772673e7adae4ae0e2c6"
      },
      "cell_type": "code",
      "source": "df['bbox_target'] = (df['x'].astype(str) +\n                    ' ' + \n                    df['y'].astype(str) +\n                    ' ' +\n                    df['width'].astype(str) +\n                    ' ' +\n                    df['height'].astype(str))\n# make a bbox_target column using x, y, width and height.\ndf.head(10)",
      "execution_count": 54,
      "outputs": [
        {
          "output_type": "execute_result",
          "execution_count": 54,
          "data": {
            "text/plain": "                              patientId           ...                         bbox_target\n0  0004cfab-14fd-4e49-80ba-63a80b6bddd6           ...                     nan nan nan nan\n1  00313ee0-9eaa-42f4-b0ab-c148ed3241cd           ...                     nan nan nan nan\n2  00322d4d-1c29-4943-afc9-b6754be640eb           ...                     nan nan nan nan\n3  003d8fa0-6bf1-40ed-b54c-ac657f8495c5           ...                     nan nan nan nan\n4  00436515-870c-4b36-a041-de91049b9ab4           ...             264.0 152.0 213.0 379.0\n5  00436515-870c-4b36-a041-de91049b9ab4           ...             562.0 152.0 256.0 453.0\n6  00569f44-917d-4c86-a842-81832af98c30           ...                     nan nan nan nan\n7  006cec2e-6ce2-4549-bffa-eadfcd1e9970           ...                     nan nan nan nan\n8  00704310-78a8-4b38-8475-49f4573b2dbb           ...             323.0 577.0 160.0 104.0\n9  00704310-78a8-4b38-8475-49f4573b2dbb           ...             695.0 575.0 162.0 137.0\n\n[10 rows x 7 columns]",
            "text/html": "<div>\n<style scoped>\n    .dataframe tbody tr th:only-of-type {\n        vertical-align: middle;\n    }\n\n    .dataframe tbody tr th {\n        vertical-align: top;\n    }\n\n    .dataframe thead th {\n        text-align: right;\n    }\n</style>\n<table border=\"1\" class=\"dataframe\">\n  <thead>\n    <tr style=\"text-align: right;\">\n      <th></th>\n      <th>patientId</th>\n      <th>x</th>\n      <th>y</th>\n      <th>width</th>\n      <th>height</th>\n      <th>Target</th>\n      <th>bbox_target</th>\n    </tr>\n  </thead>\n  <tbody>\n    <tr>\n      <th>0</th>\n      <td>0004cfab-14fd-4e49-80ba-63a80b6bddd6</td>\n      <td>NaN</td>\n      <td>NaN</td>\n      <td>NaN</td>\n      <td>NaN</td>\n      <td>0</td>\n      <td>nan nan nan nan</td>\n    </tr>\n    <tr>\n      <th>1</th>\n      <td>00313ee0-9eaa-42f4-b0ab-c148ed3241cd</td>\n      <td>NaN</td>\n      <td>NaN</td>\n      <td>NaN</td>\n      <td>NaN</td>\n      <td>0</td>\n      <td>nan nan nan nan</td>\n    </tr>\n    <tr>\n      <th>2</th>\n      <td>00322d4d-1c29-4943-afc9-b6754be640eb</td>\n      <td>NaN</td>\n      <td>NaN</td>\n      <td>NaN</td>\n      <td>NaN</td>\n      <td>0</td>\n      <td>nan nan nan nan</td>\n    </tr>\n    <tr>\n      <th>3</th>\n      <td>003d8fa0-6bf1-40ed-b54c-ac657f8495c5</td>\n      <td>NaN</td>\n      <td>NaN</td>\n      <td>NaN</td>\n      <td>NaN</td>\n      <td>0</td>\n      <td>nan nan nan nan</td>\n    </tr>\n    <tr>\n      <th>4</th>\n      <td>00436515-870c-4b36-a041-de91049b9ab4</td>\n      <td>264.0</td>\n      <td>152.0</td>\n      <td>213.0</td>\n      <td>379.0</td>\n      <td>1</td>\n      <td>264.0 152.0 213.0 379.0</td>\n    </tr>\n    <tr>\n      <th>5</th>\n      <td>00436515-870c-4b36-a041-de91049b9ab4</td>\n      <td>562.0</td>\n      <td>152.0</td>\n      <td>256.0</td>\n      <td>453.0</td>\n      <td>1</td>\n      <td>562.0 152.0 256.0 453.0</td>\n    </tr>\n    <tr>\n      <th>6</th>\n      <td>00569f44-917d-4c86-a842-81832af98c30</td>\n      <td>NaN</td>\n      <td>NaN</td>\n      <td>NaN</td>\n      <td>NaN</td>\n      <td>0</td>\n      <td>nan nan nan nan</td>\n    </tr>\n    <tr>\n      <th>7</th>\n      <td>006cec2e-6ce2-4549-bffa-eadfcd1e9970</td>\n      <td>NaN</td>\n      <td>NaN</td>\n      <td>NaN</td>\n      <td>NaN</td>\n      <td>0</td>\n      <td>nan nan nan nan</td>\n    </tr>\n    <tr>\n      <th>8</th>\n      <td>00704310-78a8-4b38-8475-49f4573b2dbb</td>\n      <td>323.0</td>\n      <td>577.0</td>\n      <td>160.0</td>\n      <td>104.0</td>\n      <td>1</td>\n      <td>323.0 577.0 160.0 104.0</td>\n    </tr>\n    <tr>\n      <th>9</th>\n      <td>00704310-78a8-4b38-8475-49f4573b2dbb</td>\n      <td>695.0</td>\n      <td>575.0</td>\n      <td>162.0</td>\n      <td>137.0</td>\n      <td>1</td>\n      <td>695.0 575.0 162.0 137.0</td>\n    </tr>\n  </tbody>\n</table>\n</div>"
          },
          "metadata": {}
        }
      ]
    },
    {
      "metadata": {
        "scrolled": true,
        "trusted": true,
        "_uuid": "3d54c292a627d731491e2bee2cba24a3ecfb48fc"
      },
      "cell_type": "code",
      "source": "df.loc[:, 'bbox_target'] = df.loc[:, 'bbox_target'].map(lambda x: x.split(' '))\n# 공백을 기준으로 나눔, ','는 기본으로 찍힘",
      "execution_count": 55,
      "outputs": []
    },
    {
      "metadata": {
        "scrolled": true,
        "trusted": true,
        "_uuid": "fb06c0dfd67c66ce23372dac97d4706b782d6751"
      },
      "cell_type": "code",
      "source": "df.head(20)",
      "execution_count": null,
      "outputs": []
    },
    {
      "metadata": {
        "trusted": true,
        "_uuid": "e55119e423db8ea20c29f61d740b23591a094a59"
      },
      "cell_type": "code",
      "source": "df = df.groupby(['patientId'], as_index = False)['bbox_target'].agg('sum')    \n# 'patientId'를 기준으로 정렬 후, bbox_target값 sum 하는데 string이라 옆으로 합쳐진다.",
      "execution_count": 56,
      "outputs": []
    },
    {
      "metadata": {
        "scrolled": true,
        "trusted": true,
        "_uuid": "954d73d69538cd74bf49e3ce2603539458fa5389"
      },
      "cell_type": "code",
      "source": "df.head()",
      "execution_count": null,
      "outputs": []
    },
    {
      "metadata": {
        "_uuid": "7cf7b27a2edbf7b5684126c45e7ea7c75b5e7a92"
      },
      "cell_type": "markdown",
      "source": "Merge labels and oof preds"
    },
    {
      "metadata": {
        "trusted": true,
        "_uuid": "8a0c0153ebf06ed2dd227782630d660106fb519b"
      },
      "cell_type": "code",
      "source": "df = df.merge(oof_preds0, on = 'patientId', how = 'left')\ndf = df.merge(oof_preds1, on = 'patientId', how = 'left')\ndf = df.merge(oof_preds2, on = 'patientId', how = 'left')\n#patientId를 기준으로 merge",
      "execution_count": 57,
      "outputs": []
    },
    {
      "metadata": {
        "trusted": true,
        "_uuid": "365436c7300e1890f4ab1109c1cf2a4b3002188b"
      },
      "cell_type": "code",
      "source": "#3개의 파일을 merge 해서 PredictionString(x, y, default)로 뜸\ndf = df.fillna('') # none -> \" \"로 처리\ndf.head(10)",
      "execution_count": 59,
      "outputs": [
        {
          "output_type": "execute_result",
          "execution_count": 59,
          "data": {
            "text/plain": "                              patientId       ...        PredictionString\n0  0004cfab-14fd-4e49-80ba-63a80b6bddd6       ...                        \n1  000924cf-0f8d-42bd-9158-1af53881a557       ...                        \n2  000db696-cf54-4385-b10b-6b16fbb3f985       ...                        \n3  000fe35a-2649-43d4-b027-e67796d412e0       ...                        \n4  001031d9-f904-4a23-b3e5-2c088acd19c6       ...                        \n5  0010f549-b242-4e94-87a8-57d79de215fc       ...                        \n6  001916b8-3d30-4935-a5d1-8eaddb1646cd       ...                        \n7  0022073f-cec8-42ec-ab5f-bc2314649235       ...                        \n8  0022995a-45eb-4cfa-9a59-cd15f5196c64       ...                        \n9  0025d2de-bd78-4d36-9f72-e15a5e22ca82       ...                        \n\n[10 rows x 5 columns]",
            "text/html": "<div>\n<style scoped>\n    .dataframe tbody tr th:only-of-type {\n        vertical-align: middle;\n    }\n\n    .dataframe tbody tr th {\n        vertical-align: top;\n    }\n\n    .dataframe thead th {\n        text-align: right;\n    }\n</style>\n<table border=\"1\" class=\"dataframe\">\n  <thead>\n    <tr style=\"text-align: right;\">\n      <th></th>\n      <th>patientId</th>\n      <th>bbox_target</th>\n      <th>PredictionString_x</th>\n      <th>PredictionString_y</th>\n      <th>PredictionString</th>\n    </tr>\n  </thead>\n  <tbody>\n    <tr>\n      <th>0</th>\n      <td>0004cfab-14fd-4e49-80ba-63a80b6bddd6</td>\n      <td>[nan, nan, nan, nan]</td>\n      <td>0.5635066863544611 678 601 168 92</td>\n      <td></td>\n      <td></td>\n    </tr>\n    <tr>\n      <th>1</th>\n      <td>000924cf-0f8d-42bd-9158-1af53881a557</td>\n      <td>[nan, nan, nan, nan]</td>\n      <td></td>\n      <td></td>\n      <td></td>\n    </tr>\n    <tr>\n      <th>2</th>\n      <td>000db696-cf54-4385-b10b-6b16fbb3f985</td>\n      <td>[316.0, 318.0, 170.0, 478.0, 660.0, 375.0, 146...</td>\n      <td></td>\n      <td></td>\n      <td></td>\n    </tr>\n    <tr>\n      <th>3</th>\n      <td>000fe35a-2649-43d4-b027-e67796d412e0</td>\n      <td>[570.0, 282.0, 269.0, 409.0, 83.0, 227.0, 296....</td>\n      <td></td>\n      <td></td>\n      <td></td>\n    </tr>\n    <tr>\n      <th>4</th>\n      <td>001031d9-f904-4a23-b3e5-2c088acd19c6</td>\n      <td>[66.0, 160.0, 373.0, 608.0, 552.0, 164.0, 376....</td>\n      <td></td>\n      <td></td>\n      <td></td>\n    </tr>\n    <tr>\n      <th>5</th>\n      <td>0010f549-b242-4e94-87a8-57d79de215fc</td>\n      <td>[nan, nan, nan, nan]</td>\n      <td></td>\n      <td></td>\n      <td></td>\n    </tr>\n    <tr>\n      <th>6</th>\n      <td>001916b8-3d30-4935-a5d1-8eaddb1646cd</td>\n      <td>[198.0, 375.0, 114.0, 206.0]</td>\n      <td></td>\n      <td></td>\n      <td></td>\n    </tr>\n    <tr>\n      <th>7</th>\n      <td>0022073f-cec8-42ec-ab5f-bc2314649235</td>\n      <td>[575.0, 232.0, 246.0, 528.0, 161.0, 230.0, 223...</td>\n      <td></td>\n      <td></td>\n      <td></td>\n    </tr>\n    <tr>\n      <th>8</th>\n      <td>0022995a-45eb-4cfa-9a59-cd15f5196c64</td>\n      <td>[nan, nan, nan, nan]</td>\n      <td></td>\n      <td></td>\n      <td></td>\n    </tr>\n    <tr>\n      <th>9</th>\n      <td>0025d2de-bd78-4d36-9f72-e15a5e22ca82</td>\n      <td>[nan, nan, nan, nan]</td>\n      <td></td>\n      <td></td>\n      <td></td>\n    </tr>\n  </tbody>\n</table>\n</div>"
          },
          "metadata": {}
        }
      ]
    },
    {
      "metadata": {
        "_uuid": "14b6f7ebaceceb6727908562ac5a88daca87fe4a"
      },
      "cell_type": "markdown",
      "source": "Parse oof preds for MAP IoU"
    },
    {
      "metadata": {
        "trusted": true,
        "_uuid": "6681d853459f11192220fa14792f2807c5af518b"
      },
      "cell_type": "code",
      "source": "df.loc[:, 'bbox_pred'] = (df.loc[:, 'PredictionString'] +\n                         ' ' +\n                         df.loc[:, 'PredictionString_x'] +\n                         ' ' +\n                         df.loc[:, 'PredictionString_y'])\n# merge한 3개 파일에서 나온 PredictionString을 bbox_pred으로 합침\ndf.head()",
      "execution_count": 60,
      "outputs": [
        {
          "output_type": "execute_result",
          "execution_count": 60,
          "data": {
            "text/plain": "                              patientId                  ...                                              bbox_pred\n0  0004cfab-14fd-4e49-80ba-63a80b6bddd6                  ...                    0.5635066863544611 678 601 168 92  \n1  000924cf-0f8d-42bd-9158-1af53881a557                  ...                                                       \n2  000db696-cf54-4385-b10b-6b16fbb3f985                  ...                                                       \n3  000fe35a-2649-43d4-b027-e67796d412e0                  ...                                                       \n4  001031d9-f904-4a23-b3e5-2c088acd19c6                  ...                                                       \n\n[5 rows x 6 columns]",
            "text/html": "<div>\n<style scoped>\n    .dataframe tbody tr th:only-of-type {\n        vertical-align: middle;\n    }\n\n    .dataframe tbody tr th {\n        vertical-align: top;\n    }\n\n    .dataframe thead th {\n        text-align: right;\n    }\n</style>\n<table border=\"1\" class=\"dataframe\">\n  <thead>\n    <tr style=\"text-align: right;\">\n      <th></th>\n      <th>patientId</th>\n      <th>bbox_target</th>\n      <th>PredictionString_x</th>\n      <th>PredictionString_y</th>\n      <th>PredictionString</th>\n      <th>bbox_pred</th>\n    </tr>\n  </thead>\n  <tbody>\n    <tr>\n      <th>0</th>\n      <td>0004cfab-14fd-4e49-80ba-63a80b6bddd6</td>\n      <td>[nan, nan, nan, nan]</td>\n      <td>0.5635066863544611 678 601 168 92</td>\n      <td></td>\n      <td></td>\n      <td>0.5635066863544611 678 601 168 92</td>\n    </tr>\n    <tr>\n      <th>1</th>\n      <td>000924cf-0f8d-42bd-9158-1af53881a557</td>\n      <td>[nan, nan, nan, nan]</td>\n      <td></td>\n      <td></td>\n      <td></td>\n      <td></td>\n    </tr>\n    <tr>\n      <th>2</th>\n      <td>000db696-cf54-4385-b10b-6b16fbb3f985</td>\n      <td>[316.0, 318.0, 170.0, 478.0, 660.0, 375.0, 146...</td>\n      <td></td>\n      <td></td>\n      <td></td>\n      <td></td>\n    </tr>\n    <tr>\n      <th>3</th>\n      <td>000fe35a-2649-43d4-b027-e67796d412e0</td>\n      <td>[570.0, 282.0, 269.0, 409.0, 83.0, 227.0, 296....</td>\n      <td></td>\n      <td></td>\n      <td></td>\n      <td></td>\n    </tr>\n    <tr>\n      <th>4</th>\n      <td>001031d9-f904-4a23-b3e5-2c088acd19c6</td>\n      <td>[66.0, 160.0, 373.0, 608.0, 552.0, 164.0, 376....</td>\n      <td></td>\n      <td></td>\n      <td></td>\n      <td></td>\n    </tr>\n  </tbody>\n</table>\n</div>"
          },
          "metadata": {}
        }
      ]
    },
    {
      "metadata": {
        "trusted": true,
        "_uuid": "32e395811a42bd2d71dd51c1cb9c82881f61bcd0"
      },
      "cell_type": "code",
      "source": "df = df.drop(['PredictionString','PredictionString_x', 'PredictionString_y'], axis=1)\n#필요없는 열 제거\ndf.head(20)",
      "execution_count": 61,
      "outputs": [
        {
          "output_type": "execute_result",
          "execution_count": 61,
          "data": {
            "text/plain": "                               patientId                        ...                                                                  bbox_pred\n0   0004cfab-14fd-4e49-80ba-63a80b6bddd6                        ...                                        0.5635066863544611 678 601 168 92  \n1   000924cf-0f8d-42bd-9158-1af53881a557                        ...                                                                           \n2   000db696-cf54-4385-b10b-6b16fbb3f985                        ...                                                                           \n3   000fe35a-2649-43d4-b027-e67796d412e0                        ...                                                                           \n4   001031d9-f904-4a23-b3e5-2c088acd19c6                        ...                                                                           \n5   0010f549-b242-4e94-87a8-57d79de215fc                        ...                                                                           \n6   001916b8-3d30-4935-a5d1-8eaddb1646cd                        ...                                                                           \n7   0022073f-cec8-42ec-ab5f-bc2314649235                        ...                                                                           \n8   0022995a-45eb-4cfa-9a59-cd15f5196c64                        ...                                                                           \n9   0025d2de-bd78-4d36-9f72-e15a5e22ca82                        ...                                                                           \n10  00293de0-a530-41dc-9621-0b3def01d06d                        ...                                                                           \n11  002c591d-df62-4e34-8eda-838c664430a9                        ...                                                                           \n12  002cb550-2e31-42f1-a29d-fbc279977e71                        ...                                                                           \n13  00313ee0-9eaa-42f4-b0ab-c148ed3241cd                        ...                           0.800043115296375 141 332 282 309 0.750555315...\n14  00322d4d-1c29-4943-afc9-b6754be640eb                        ...                                       0.5847963489402108 590 257 307 409  \n15  003d8fa0-6bf1-40ed-b54c-ac657f8495c5                        ...                                                                           \n16  00436515-870c-4b36-a041-de91049b9ab4                        ...                           0.6374050954528511 589 244 230 396 0.76009466...\n17  0049f7b2-229b-4a46-91a3-0e321a3ca80a                        ...                                                                           \n18  0053ee32-1e03-4dc2-a103-f46ad0448787                        ...                                                                           \n19  00569f44-917d-4c86-a842-81832af98c30                        ...                           0.5771302483239992 615 154 166 230 0.70371245...\n\n[20 rows x 3 columns]",
            "text/html": "<div>\n<style scoped>\n    .dataframe tbody tr th:only-of-type {\n        vertical-align: middle;\n    }\n\n    .dataframe tbody tr th {\n        vertical-align: top;\n    }\n\n    .dataframe thead th {\n        text-align: right;\n    }\n</style>\n<table border=\"1\" class=\"dataframe\">\n  <thead>\n    <tr style=\"text-align: right;\">\n      <th></th>\n      <th>patientId</th>\n      <th>bbox_target</th>\n      <th>bbox_pred</th>\n    </tr>\n  </thead>\n  <tbody>\n    <tr>\n      <th>0</th>\n      <td>0004cfab-14fd-4e49-80ba-63a80b6bddd6</td>\n      <td>[nan, nan, nan, nan]</td>\n      <td>0.5635066863544611 678 601 168 92</td>\n    </tr>\n    <tr>\n      <th>1</th>\n      <td>000924cf-0f8d-42bd-9158-1af53881a557</td>\n      <td>[nan, nan, nan, nan]</td>\n      <td></td>\n    </tr>\n    <tr>\n      <th>2</th>\n      <td>000db696-cf54-4385-b10b-6b16fbb3f985</td>\n      <td>[316.0, 318.0, 170.0, 478.0, 660.0, 375.0, 146...</td>\n      <td></td>\n    </tr>\n    <tr>\n      <th>3</th>\n      <td>000fe35a-2649-43d4-b027-e67796d412e0</td>\n      <td>[570.0, 282.0, 269.0, 409.0, 83.0, 227.0, 296....</td>\n      <td></td>\n    </tr>\n    <tr>\n      <th>4</th>\n      <td>001031d9-f904-4a23-b3e5-2c088acd19c6</td>\n      <td>[66.0, 160.0, 373.0, 608.0, 552.0, 164.0, 376....</td>\n      <td></td>\n    </tr>\n    <tr>\n      <th>5</th>\n      <td>0010f549-b242-4e94-87a8-57d79de215fc</td>\n      <td>[nan, nan, nan, nan]</td>\n      <td></td>\n    </tr>\n    <tr>\n      <th>6</th>\n      <td>001916b8-3d30-4935-a5d1-8eaddb1646cd</td>\n      <td>[198.0, 375.0, 114.0, 206.0]</td>\n      <td></td>\n    </tr>\n    <tr>\n      <th>7</th>\n      <td>0022073f-cec8-42ec-ab5f-bc2314649235</td>\n      <td>[575.0, 232.0, 246.0, 528.0, 161.0, 230.0, 223...</td>\n      <td></td>\n    </tr>\n    <tr>\n      <th>8</th>\n      <td>0022995a-45eb-4cfa-9a59-cd15f5196c64</td>\n      <td>[nan, nan, nan, nan]</td>\n      <td></td>\n    </tr>\n    <tr>\n      <th>9</th>\n      <td>0025d2de-bd78-4d36-9f72-e15a5e22ca82</td>\n      <td>[nan, nan, nan, nan]</td>\n      <td></td>\n    </tr>\n    <tr>\n      <th>10</th>\n      <td>00293de0-a530-41dc-9621-0b3def01d06d</td>\n      <td>[nan, nan, nan, nan]</td>\n      <td></td>\n    </tr>\n    <tr>\n      <th>11</th>\n      <td>002c591d-df62-4e34-8eda-838c664430a9</td>\n      <td>[nan, nan, nan, nan]</td>\n      <td></td>\n    </tr>\n    <tr>\n      <th>12</th>\n      <td>002cb550-2e31-42f1-a29d-fbc279977e71</td>\n      <td>[176.0, 342.0, 170.0, 239.0, 515.0, 333.0, 167...</td>\n      <td></td>\n    </tr>\n    <tr>\n      <th>13</th>\n      <td>00313ee0-9eaa-42f4-b0ab-c148ed3241cd</td>\n      <td>[nan, nan, nan, nan]</td>\n      <td>0.800043115296375 141 332 282 309 0.750555315...</td>\n    </tr>\n    <tr>\n      <th>14</th>\n      <td>00322d4d-1c29-4943-afc9-b6754be640eb</td>\n      <td>[nan, nan, nan, nan]</td>\n      <td>0.5847963489402108 590 257 307 409</td>\n    </tr>\n    <tr>\n      <th>15</th>\n      <td>003d8fa0-6bf1-40ed-b54c-ac657f8495c5</td>\n      <td>[nan, nan, nan, nan]</td>\n      <td></td>\n    </tr>\n    <tr>\n      <th>16</th>\n      <td>00436515-870c-4b36-a041-de91049b9ab4</td>\n      <td>[264.0, 152.0, 213.0, 379.0, 562.0, 152.0, 256...</td>\n      <td>0.6374050954528511 589 244 230 396 0.76009466...</td>\n    </tr>\n    <tr>\n      <th>17</th>\n      <td>0049f7b2-229b-4a46-91a3-0e321a3ca80a</td>\n      <td>[nan, nan, nan, nan]</td>\n      <td></td>\n    </tr>\n    <tr>\n      <th>18</th>\n      <td>0053ee32-1e03-4dc2-a103-f46ad0448787</td>\n      <td>[nan, nan, nan, nan]</td>\n      <td></td>\n    </tr>\n    <tr>\n      <th>19</th>\n      <td>00569f44-917d-4c86-a842-81832af98c30</td>\n      <td>[nan, nan, nan, nan]</td>\n      <td>0.5771302483239992 615 154 166 230 0.70371245...</td>\n    </tr>\n  </tbody>\n</table>\n</div>"
          },
          "metadata": {}
        }
      ]
    },
    {
      "metadata": {
        "scrolled": true,
        "trusted": true,
        "_uuid": "4ab2cf9a14c340641889834313eccf5be711ef3b"
      },
      "cell_type": "code",
      "source": "df.head(20)",
      "execution_count": 62,
      "outputs": [
        {
          "output_type": "execute_result",
          "execution_count": 62,
          "data": {
            "text/plain": "                               patientId                        ...                                                                  bbox_pred\n0   0004cfab-14fd-4e49-80ba-63a80b6bddd6                        ...                                        0.5635066863544611 678 601 168 92  \n1   000924cf-0f8d-42bd-9158-1af53881a557                        ...                                                                           \n2   000db696-cf54-4385-b10b-6b16fbb3f985                        ...                                                                           \n3   000fe35a-2649-43d4-b027-e67796d412e0                        ...                                                                           \n4   001031d9-f904-4a23-b3e5-2c088acd19c6                        ...                                                                           \n5   0010f549-b242-4e94-87a8-57d79de215fc                        ...                                                                           \n6   001916b8-3d30-4935-a5d1-8eaddb1646cd                        ...                                                                           \n7   0022073f-cec8-42ec-ab5f-bc2314649235                        ...                                                                           \n8   0022995a-45eb-4cfa-9a59-cd15f5196c64                        ...                                                                           \n9   0025d2de-bd78-4d36-9f72-e15a5e22ca82                        ...                                                                           \n10  00293de0-a530-41dc-9621-0b3def01d06d                        ...                                                                           \n11  002c591d-df62-4e34-8eda-838c664430a9                        ...                                                                           \n12  002cb550-2e31-42f1-a29d-fbc279977e71                        ...                                                                           \n13  00313ee0-9eaa-42f4-b0ab-c148ed3241cd                        ...                           0.800043115296375 141 332 282 309 0.750555315...\n14  00322d4d-1c29-4943-afc9-b6754be640eb                        ...                                       0.5847963489402108 590 257 307 409  \n15  003d8fa0-6bf1-40ed-b54c-ac657f8495c5                        ...                                                                           \n16  00436515-870c-4b36-a041-de91049b9ab4                        ...                           0.6374050954528511 589 244 230 396 0.76009466...\n17  0049f7b2-229b-4a46-91a3-0e321a3ca80a                        ...                                                                           \n18  0053ee32-1e03-4dc2-a103-f46ad0448787                        ...                                                                           \n19  00569f44-917d-4c86-a842-81832af98c30                        ...                           0.5771302483239992 615 154 166 230 0.70371245...\n\n[20 rows x 3 columns]",
            "text/html": "<div>\n<style scoped>\n    .dataframe tbody tr th:only-of-type {\n        vertical-align: middle;\n    }\n\n    .dataframe tbody tr th {\n        vertical-align: top;\n    }\n\n    .dataframe thead th {\n        text-align: right;\n    }\n</style>\n<table border=\"1\" class=\"dataframe\">\n  <thead>\n    <tr style=\"text-align: right;\">\n      <th></th>\n      <th>patientId</th>\n      <th>bbox_target</th>\n      <th>bbox_pred</th>\n    </tr>\n  </thead>\n  <tbody>\n    <tr>\n      <th>0</th>\n      <td>0004cfab-14fd-4e49-80ba-63a80b6bddd6</td>\n      <td>[nan, nan, nan, nan]</td>\n      <td>0.5635066863544611 678 601 168 92</td>\n    </tr>\n    <tr>\n      <th>1</th>\n      <td>000924cf-0f8d-42bd-9158-1af53881a557</td>\n      <td>[nan, nan, nan, nan]</td>\n      <td></td>\n    </tr>\n    <tr>\n      <th>2</th>\n      <td>000db696-cf54-4385-b10b-6b16fbb3f985</td>\n      <td>[316.0, 318.0, 170.0, 478.0, 660.0, 375.0, 146...</td>\n      <td></td>\n    </tr>\n    <tr>\n      <th>3</th>\n      <td>000fe35a-2649-43d4-b027-e67796d412e0</td>\n      <td>[570.0, 282.0, 269.0, 409.0, 83.0, 227.0, 296....</td>\n      <td></td>\n    </tr>\n    <tr>\n      <th>4</th>\n      <td>001031d9-f904-4a23-b3e5-2c088acd19c6</td>\n      <td>[66.0, 160.0, 373.0, 608.0, 552.0, 164.0, 376....</td>\n      <td></td>\n    </tr>\n    <tr>\n      <th>5</th>\n      <td>0010f549-b242-4e94-87a8-57d79de215fc</td>\n      <td>[nan, nan, nan, nan]</td>\n      <td></td>\n    </tr>\n    <tr>\n      <th>6</th>\n      <td>001916b8-3d30-4935-a5d1-8eaddb1646cd</td>\n      <td>[198.0, 375.0, 114.0, 206.0]</td>\n      <td></td>\n    </tr>\n    <tr>\n      <th>7</th>\n      <td>0022073f-cec8-42ec-ab5f-bc2314649235</td>\n      <td>[575.0, 232.0, 246.0, 528.0, 161.0, 230.0, 223...</td>\n      <td></td>\n    </tr>\n    <tr>\n      <th>8</th>\n      <td>0022995a-45eb-4cfa-9a59-cd15f5196c64</td>\n      <td>[nan, nan, nan, nan]</td>\n      <td></td>\n    </tr>\n    <tr>\n      <th>9</th>\n      <td>0025d2de-bd78-4d36-9f72-e15a5e22ca82</td>\n      <td>[nan, nan, nan, nan]</td>\n      <td></td>\n    </tr>\n    <tr>\n      <th>10</th>\n      <td>00293de0-a530-41dc-9621-0b3def01d06d</td>\n      <td>[nan, nan, nan, nan]</td>\n      <td></td>\n    </tr>\n    <tr>\n      <th>11</th>\n      <td>002c591d-df62-4e34-8eda-838c664430a9</td>\n      <td>[nan, nan, nan, nan]</td>\n      <td></td>\n    </tr>\n    <tr>\n      <th>12</th>\n      <td>002cb550-2e31-42f1-a29d-fbc279977e71</td>\n      <td>[176.0, 342.0, 170.0, 239.0, 515.0, 333.0, 167...</td>\n      <td></td>\n    </tr>\n    <tr>\n      <th>13</th>\n      <td>00313ee0-9eaa-42f4-b0ab-c148ed3241cd</td>\n      <td>[nan, nan, nan, nan]</td>\n      <td>0.800043115296375 141 332 282 309 0.750555315...</td>\n    </tr>\n    <tr>\n      <th>14</th>\n      <td>00322d4d-1c29-4943-afc9-b6754be640eb</td>\n      <td>[nan, nan, nan, nan]</td>\n      <td>0.5847963489402108 590 257 307 409</td>\n    </tr>\n    <tr>\n      <th>15</th>\n      <td>003d8fa0-6bf1-40ed-b54c-ac657f8495c5</td>\n      <td>[nan, nan, nan, nan]</td>\n      <td></td>\n    </tr>\n    <tr>\n      <th>16</th>\n      <td>00436515-870c-4b36-a041-de91049b9ab4</td>\n      <td>[264.0, 152.0, 213.0, 379.0, 562.0, 152.0, 256...</td>\n      <td>0.6374050954528511 589 244 230 396 0.76009466...</td>\n    </tr>\n    <tr>\n      <th>17</th>\n      <td>0049f7b2-229b-4a46-91a3-0e321a3ca80a</td>\n      <td>[nan, nan, nan, nan]</td>\n      <td></td>\n    </tr>\n    <tr>\n      <th>18</th>\n      <td>0053ee32-1e03-4dc2-a103-f46ad0448787</td>\n      <td>[nan, nan, nan, nan]</td>\n      <td></td>\n    </tr>\n    <tr>\n      <th>19</th>\n      <td>00569f44-917d-4c86-a842-81832af98c30</td>\n      <td>[nan, nan, nan, nan]</td>\n      <td>0.5771302483239992 615 154 166 230 0.70371245...</td>\n    </tr>\n  </tbody>\n</table>\n</div>"
          },
          "metadata": {}
        }
      ]
    },
    {
      "metadata": {
        "_uuid": "1b0b788e5e0e63b17b0a0c5b6a0248d988985621"
      },
      "cell_type": "markdown",
      "source": "Stripping whitespace from PredictionString column"
    },
    {
      "metadata": {
        "trusted": true,
        "_uuid": "af078767395bf03bce22f5372cea04b82a9f772b"
      },
      "cell_type": "code",
      "source": "df.loc[:, 'bbox_pred'] = df.loc[:, 'bbox_pred'].str.strip()\n# bbox_pred 값을 문자열로 변환 후 문자열의 양끝에서 공백, 탭, 개행문자 등을 제거",
      "execution_count": 63,
      "outputs": []
    },
    {
      "metadata": {
        "trusted": true,
        "_uuid": "6a5e7c68d10a8b9017962d68a60121c21fee3c32"
      },
      "cell_type": "code",
      "source": "df.head(20)",
      "execution_count": null,
      "outputs": []
    },
    {
      "metadata": {
        "scrolled": true,
        "trusted": true,
        "_uuid": "a049a5edb4bd5b86a56c0a207a07c5b55aff9283"
      },
      "cell_type": "code",
      "source": "df.loc[:, 'bbox_pred'] = df.loc[:, 'bbox_pred'].map(lambda x: x.split(' '))\n# 공백을 기준으로 나눔, ','는 기본으로 찍힘",
      "execution_count": 64,
      "outputs": []
    },
    {
      "metadata": {
        "scrolled": true,
        "trusted": true,
        "_uuid": "542e3a63b81ae76249b2d12602031b736ea5cd64"
      },
      "cell_type": "code",
      "source": "df.head(10)",
      "execution_count": 65,
      "outputs": [
        {
          "output_type": "execute_result",
          "execution_count": 65,
          "data": {
            "text/plain": "                              patientId                   ...                                                   bbox_pred\n0  0004cfab-14fd-4e49-80ba-63a80b6bddd6                   ...                     [0.5635066863544611, 678, 601, 168, 92]\n1  000924cf-0f8d-42bd-9158-1af53881a557                   ...                                                          []\n2  000db696-cf54-4385-b10b-6b16fbb3f985                   ...                                                          []\n3  000fe35a-2649-43d4-b027-e67796d412e0                   ...                                                          []\n4  001031d9-f904-4a23-b3e5-2c088acd19c6                   ...                                                          []\n5  0010f549-b242-4e94-87a8-57d79de215fc                   ...                                                          []\n6  001916b8-3d30-4935-a5d1-8eaddb1646cd                   ...                                                          []\n7  0022073f-cec8-42ec-ab5f-bc2314649235                   ...                                                          []\n8  0022995a-45eb-4cfa-9a59-cd15f5196c64                   ...                                                          []\n9  0025d2de-bd78-4d36-9f72-e15a5e22ca82                   ...                                                          []\n\n[10 rows x 3 columns]",
            "text/html": "<div>\n<style scoped>\n    .dataframe tbody tr th:only-of-type {\n        vertical-align: middle;\n    }\n\n    .dataframe tbody tr th {\n        vertical-align: top;\n    }\n\n    .dataframe thead th {\n        text-align: right;\n    }\n</style>\n<table border=\"1\" class=\"dataframe\">\n  <thead>\n    <tr style=\"text-align: right;\">\n      <th></th>\n      <th>patientId</th>\n      <th>bbox_target</th>\n      <th>bbox_pred</th>\n    </tr>\n  </thead>\n  <tbody>\n    <tr>\n      <th>0</th>\n      <td>0004cfab-14fd-4e49-80ba-63a80b6bddd6</td>\n      <td>[nan, nan, nan, nan]</td>\n      <td>[0.5635066863544611, 678, 601, 168, 92]</td>\n    </tr>\n    <tr>\n      <th>1</th>\n      <td>000924cf-0f8d-42bd-9158-1af53881a557</td>\n      <td>[nan, nan, nan, nan]</td>\n      <td>[]</td>\n    </tr>\n    <tr>\n      <th>2</th>\n      <td>000db696-cf54-4385-b10b-6b16fbb3f985</td>\n      <td>[316.0, 318.0, 170.0, 478.0, 660.0, 375.0, 146...</td>\n      <td>[]</td>\n    </tr>\n    <tr>\n      <th>3</th>\n      <td>000fe35a-2649-43d4-b027-e67796d412e0</td>\n      <td>[570.0, 282.0, 269.0, 409.0, 83.0, 227.0, 296....</td>\n      <td>[]</td>\n    </tr>\n    <tr>\n      <th>4</th>\n      <td>001031d9-f904-4a23-b3e5-2c088acd19c6</td>\n      <td>[66.0, 160.0, 373.0, 608.0, 552.0, 164.0, 376....</td>\n      <td>[]</td>\n    </tr>\n    <tr>\n      <th>5</th>\n      <td>0010f549-b242-4e94-87a8-57d79de215fc</td>\n      <td>[nan, nan, nan, nan]</td>\n      <td>[]</td>\n    </tr>\n    <tr>\n      <th>6</th>\n      <td>001916b8-3d30-4935-a5d1-8eaddb1646cd</td>\n      <td>[198.0, 375.0, 114.0, 206.0]</td>\n      <td>[]</td>\n    </tr>\n    <tr>\n      <th>7</th>\n      <td>0022073f-cec8-42ec-ab5f-bc2314649235</td>\n      <td>[575.0, 232.0, 246.0, 528.0, 161.0, 230.0, 223...</td>\n      <td>[]</td>\n    </tr>\n    <tr>\n      <th>8</th>\n      <td>0022995a-45eb-4cfa-9a59-cd15f5196c64</td>\n      <td>[nan, nan, nan, nan]</td>\n      <td>[]</td>\n    </tr>\n    <tr>\n      <th>9</th>\n      <td>0025d2de-bd78-4d36-9f72-e15a5e22ca82</td>\n      <td>[nan, nan, nan, nan]</td>\n      <td>[]</td>\n    </tr>\n  </tbody>\n</table>\n</div>"
          },
          "metadata": {}
        }
      ]
    },
    {
      "metadata": {
        "trusted": true,
        "_uuid": "6311de8cc3169bddfc5745801fe2bbbfd3fdc440"
      },
      "cell_type": "code",
      "source": "def parse_scores(x):\n    if len(x)!=1:\n        scores = [x[k] for k in range(0,len(x),5)]\n        for score in range(len(scores)):\n            scores[score] = float(scores[score])\n        return np.asarray(scores)\n    #score 추출",
      "execution_count": 66,
      "outputs": []
    },
    {
      "metadata": {
        "trusted": true,
        "_uuid": "745c94eeec245e2e6684ed872ea6758a23d4ac54"
      },
      "cell_type": "code",
      "source": "df.loc[:, 'bbox_scores'] = df.loc[:, 'bbox_pred'].map(parse_scores)",
      "execution_count": 67,
      "outputs": []
    },
    {
      "metadata": {
        "scrolled": true,
        "trusted": true,
        "_uuid": "83d733c2ba4c9b1beaffce5dce69e7b0cae0a0e5"
      },
      "cell_type": "code",
      "source": "df.head()",
      "execution_count": 68,
      "outputs": [
        {
          "output_type": "execute_result",
          "execution_count": 68,
          "data": {
            "text/plain": "                              patientId          ...                    bbox_scores\n0  0004cfab-14fd-4e49-80ba-63a80b6bddd6          ...           [0.5635066863544611]\n1  000924cf-0f8d-42bd-9158-1af53881a557          ...                           None\n2  000db696-cf54-4385-b10b-6b16fbb3f985          ...                           None\n3  000fe35a-2649-43d4-b027-e67796d412e0          ...                           None\n4  001031d9-f904-4a23-b3e5-2c088acd19c6          ...                           None\n\n[5 rows x 4 columns]",
            "text/html": "<div>\n<style scoped>\n    .dataframe tbody tr th:only-of-type {\n        vertical-align: middle;\n    }\n\n    .dataframe tbody tr th {\n        vertical-align: top;\n    }\n\n    .dataframe thead th {\n        text-align: right;\n    }\n</style>\n<table border=\"1\" class=\"dataframe\">\n  <thead>\n    <tr style=\"text-align: right;\">\n      <th></th>\n      <th>patientId</th>\n      <th>bbox_target</th>\n      <th>bbox_pred</th>\n      <th>bbox_scores</th>\n    </tr>\n  </thead>\n  <tbody>\n    <tr>\n      <th>0</th>\n      <td>0004cfab-14fd-4e49-80ba-63a80b6bddd6</td>\n      <td>[nan, nan, nan, nan]</td>\n      <td>[0.5635066863544611, 678, 601, 168, 92]</td>\n      <td>[0.5635066863544611]</td>\n    </tr>\n    <tr>\n      <th>1</th>\n      <td>000924cf-0f8d-42bd-9158-1af53881a557</td>\n      <td>[nan, nan, nan, nan]</td>\n      <td>[]</td>\n      <td>None</td>\n    </tr>\n    <tr>\n      <th>2</th>\n      <td>000db696-cf54-4385-b10b-6b16fbb3f985</td>\n      <td>[316.0, 318.0, 170.0, 478.0, 660.0, 375.0, 146...</td>\n      <td>[]</td>\n      <td>None</td>\n    </tr>\n    <tr>\n      <th>3</th>\n      <td>000fe35a-2649-43d4-b027-e67796d412e0</td>\n      <td>[570.0, 282.0, 269.0, 409.0, 83.0, 227.0, 296....</td>\n      <td>[]</td>\n      <td>None</td>\n    </tr>\n    <tr>\n      <th>4</th>\n      <td>001031d9-f904-4a23-b3e5-2c088acd19c6</td>\n      <td>[66.0, 160.0, 373.0, 608.0, 552.0, 164.0, 376....</td>\n      <td>[]</td>\n      <td>None</td>\n    </tr>\n  </tbody>\n</table>\n</div>"
          },
          "metadata": {}
        }
      ]
    },
    {
      "metadata": {
        "trusted": true,
        "_uuid": "e233df9c64144f027138d47efd5f3b4674a25ccd"
      },
      "cell_type": "code",
      "source": "def parse_bbox(x):\n    if len(x)!=1:\n        bbox = [int(x[k]) for k in range(0,len(x)) if k%5 != 0]\n        return np.asarray(bbox).reshape(int(len(bbox)/4),4)\n    # bbox 추출",
      "execution_count": 69,
      "outputs": []
    },
    {
      "metadata": {
        "trusted": true,
        "_uuid": "595da96de44909439638e259161744589df5276e"
      },
      "cell_type": "code",
      "source": "df.loc[:, 'bbox_preds'] = df.loc[:, 'bbox_pred'].map(parse_bbox)",
      "execution_count": 70,
      "outputs": []
    },
    {
      "metadata": {
        "trusted": true,
        "_uuid": "545f6e8f67a9676d6d9451f46341feeeee77d524"
      },
      "cell_type": "code",
      "source": "df.head()",
      "execution_count": 71,
      "outputs": [
        {
          "output_type": "execute_result",
          "execution_count": 71,
          "data": {
            "text/plain": "                              patientId          ...                       bbox_preds\n0  0004cfab-14fd-4e49-80ba-63a80b6bddd6          ...            [[678, 601, 168, 92]]\n1  000924cf-0f8d-42bd-9158-1af53881a557          ...                             None\n2  000db696-cf54-4385-b10b-6b16fbb3f985          ...                             None\n3  000fe35a-2649-43d4-b027-e67796d412e0          ...                             None\n4  001031d9-f904-4a23-b3e5-2c088acd19c6          ...                             None\n\n[5 rows x 5 columns]",
            "text/html": "<div>\n<style scoped>\n    .dataframe tbody tr th:only-of-type {\n        vertical-align: middle;\n    }\n\n    .dataframe tbody tr th {\n        vertical-align: top;\n    }\n\n    .dataframe thead th {\n        text-align: right;\n    }\n</style>\n<table border=\"1\" class=\"dataframe\">\n  <thead>\n    <tr style=\"text-align: right;\">\n      <th></th>\n      <th>patientId</th>\n      <th>bbox_target</th>\n      <th>bbox_pred</th>\n      <th>bbox_scores</th>\n      <th>bbox_preds</th>\n    </tr>\n  </thead>\n  <tbody>\n    <tr>\n      <th>0</th>\n      <td>0004cfab-14fd-4e49-80ba-63a80b6bddd6</td>\n      <td>[nan, nan, nan, nan]</td>\n      <td>[0.5635066863544611, 678, 601, 168, 92]</td>\n      <td>[0.5635066863544611]</td>\n      <td>[[678, 601, 168, 92]]</td>\n    </tr>\n    <tr>\n      <th>1</th>\n      <td>000924cf-0f8d-42bd-9158-1af53881a557</td>\n      <td>[nan, nan, nan, nan]</td>\n      <td>[]</td>\n      <td>None</td>\n      <td>None</td>\n    </tr>\n    <tr>\n      <th>2</th>\n      <td>000db696-cf54-4385-b10b-6b16fbb3f985</td>\n      <td>[316.0, 318.0, 170.0, 478.0, 660.0, 375.0, 146...</td>\n      <td>[]</td>\n      <td>None</td>\n      <td>None</td>\n    </tr>\n    <tr>\n      <th>3</th>\n      <td>000fe35a-2649-43d4-b027-e67796d412e0</td>\n      <td>[570.0, 282.0, 269.0, 409.0, 83.0, 227.0, 296....</td>\n      <td>[]</td>\n      <td>None</td>\n      <td>None</td>\n    </tr>\n    <tr>\n      <th>4</th>\n      <td>001031d9-f904-4a23-b3e5-2c088acd19c6</td>\n      <td>[66.0, 160.0, 373.0, 608.0, 552.0, 164.0, 376....</td>\n      <td>[]</td>\n      <td>None</td>\n      <td>None</td>\n    </tr>\n  </tbody>\n</table>\n</div>"
          },
          "metadata": {}
        }
      ]
    },
    {
      "metadata": {
        "trusted": true,
        "_uuid": "8d099b5720fd97b12eb87ad6995d6ea27369fcf8"
      },
      "cell_type": "code",
      "source": "df = df.drop(['bbox_pred'], axis=1)\n#bbox_pred 추출 후 열 제거",
      "execution_count": 72,
      "outputs": []
    },
    {
      "metadata": {
        "scrolled": true,
        "trusted": true,
        "_uuid": "4540e86f658293242835827c314802ca821a2c4c"
      },
      "cell_type": "code",
      "source": "df.head(20)",
      "execution_count": 73,
      "outputs": [
        {
          "output_type": "execute_result",
          "execution_count": 73,
          "data": {
            "text/plain": "                               patientId                      ...                                                         bbox_preds\n0   0004cfab-14fd-4e49-80ba-63a80b6bddd6                      ...                                              [[678, 601, 168, 92]]\n1   000924cf-0f8d-42bd-9158-1af53881a557                      ...                                                               None\n2   000db696-cf54-4385-b10b-6b16fbb3f985                      ...                                                               None\n3   000fe35a-2649-43d4-b027-e67796d412e0                      ...                                                               None\n4   001031d9-f904-4a23-b3e5-2c088acd19c6                      ...                                                               None\n5   0010f549-b242-4e94-87a8-57d79de215fc                      ...                                                               None\n6   001916b8-3d30-4935-a5d1-8eaddb1646cd                      ...                                                               None\n7   0022073f-cec8-42ec-ab5f-bc2314649235                      ...                                                               None\n8   0022995a-45eb-4cfa-9a59-cd15f5196c64                      ...                                                               None\n9   0025d2de-bd78-4d36-9f72-e15a5e22ca82                      ...                                                               None\n10  00293de0-a530-41dc-9621-0b3def01d06d                      ...                                                               None\n11  002c591d-df62-4e34-8eda-838c664430a9                      ...                                                               None\n12  002cb550-2e31-42f1-a29d-fbc279977e71                      ...                                                               None\n13  00313ee0-9eaa-42f4-b0ab-c148ed3241cd                      ...                       [[141, 332, 282, 309], [601, 383, 271, 271]]\n14  00322d4d-1c29-4943-afc9-b6754be640eb                      ...                                             [[590, 257, 307, 409]]\n15  003d8fa0-6bf1-40ed-b54c-ac657f8495c5                      ...                                                               None\n16  00436515-870c-4b36-a041-de91049b9ab4                      ...                       [[589, 244, 230, 396], [229, 281, 220, 359]]\n17  0049f7b2-229b-4a46-91a3-0e321a3ca80a                      ...                                                               None\n18  0053ee32-1e03-4dc2-a103-f46ad0448787                      ...                                                               None\n19  00569f44-917d-4c86-a842-81832af98c30                      ...                       [[615, 154, 166, 230], [229, 229, 193, 359]]\n\n[20 rows x 4 columns]",
            "text/html": "<div>\n<style scoped>\n    .dataframe tbody tr th:only-of-type {\n        vertical-align: middle;\n    }\n\n    .dataframe tbody tr th {\n        vertical-align: top;\n    }\n\n    .dataframe thead th {\n        text-align: right;\n    }\n</style>\n<table border=\"1\" class=\"dataframe\">\n  <thead>\n    <tr style=\"text-align: right;\">\n      <th></th>\n      <th>patientId</th>\n      <th>bbox_target</th>\n      <th>bbox_scores</th>\n      <th>bbox_preds</th>\n    </tr>\n  </thead>\n  <tbody>\n    <tr>\n      <th>0</th>\n      <td>0004cfab-14fd-4e49-80ba-63a80b6bddd6</td>\n      <td>[nan, nan, nan, nan]</td>\n      <td>[0.5635066863544611]</td>\n      <td>[[678, 601, 168, 92]]</td>\n    </tr>\n    <tr>\n      <th>1</th>\n      <td>000924cf-0f8d-42bd-9158-1af53881a557</td>\n      <td>[nan, nan, nan, nan]</td>\n      <td>None</td>\n      <td>None</td>\n    </tr>\n    <tr>\n      <th>2</th>\n      <td>000db696-cf54-4385-b10b-6b16fbb3f985</td>\n      <td>[316.0, 318.0, 170.0, 478.0, 660.0, 375.0, 146...</td>\n      <td>None</td>\n      <td>None</td>\n    </tr>\n    <tr>\n      <th>3</th>\n      <td>000fe35a-2649-43d4-b027-e67796d412e0</td>\n      <td>[570.0, 282.0, 269.0, 409.0, 83.0, 227.0, 296....</td>\n      <td>None</td>\n      <td>None</td>\n    </tr>\n    <tr>\n      <th>4</th>\n      <td>001031d9-f904-4a23-b3e5-2c088acd19c6</td>\n      <td>[66.0, 160.0, 373.0, 608.0, 552.0, 164.0, 376....</td>\n      <td>None</td>\n      <td>None</td>\n    </tr>\n    <tr>\n      <th>5</th>\n      <td>0010f549-b242-4e94-87a8-57d79de215fc</td>\n      <td>[nan, nan, nan, nan]</td>\n      <td>None</td>\n      <td>None</td>\n    </tr>\n    <tr>\n      <th>6</th>\n      <td>001916b8-3d30-4935-a5d1-8eaddb1646cd</td>\n      <td>[198.0, 375.0, 114.0, 206.0]</td>\n      <td>None</td>\n      <td>None</td>\n    </tr>\n    <tr>\n      <th>7</th>\n      <td>0022073f-cec8-42ec-ab5f-bc2314649235</td>\n      <td>[575.0, 232.0, 246.0, 528.0, 161.0, 230.0, 223...</td>\n      <td>None</td>\n      <td>None</td>\n    </tr>\n    <tr>\n      <th>8</th>\n      <td>0022995a-45eb-4cfa-9a59-cd15f5196c64</td>\n      <td>[nan, nan, nan, nan]</td>\n      <td>None</td>\n      <td>None</td>\n    </tr>\n    <tr>\n      <th>9</th>\n      <td>0025d2de-bd78-4d36-9f72-e15a5e22ca82</td>\n      <td>[nan, nan, nan, nan]</td>\n      <td>None</td>\n      <td>None</td>\n    </tr>\n    <tr>\n      <th>10</th>\n      <td>00293de0-a530-41dc-9621-0b3def01d06d</td>\n      <td>[nan, nan, nan, nan]</td>\n      <td>None</td>\n      <td>None</td>\n    </tr>\n    <tr>\n      <th>11</th>\n      <td>002c591d-df62-4e34-8eda-838c664430a9</td>\n      <td>[nan, nan, nan, nan]</td>\n      <td>None</td>\n      <td>None</td>\n    </tr>\n    <tr>\n      <th>12</th>\n      <td>002cb550-2e31-42f1-a29d-fbc279977e71</td>\n      <td>[176.0, 342.0, 170.0, 239.0, 515.0, 333.0, 167...</td>\n      <td>None</td>\n      <td>None</td>\n    </tr>\n    <tr>\n      <th>13</th>\n      <td>00313ee0-9eaa-42f4-b0ab-c148ed3241cd</td>\n      <td>[nan, nan, nan, nan]</td>\n      <td>[0.800043115296375, 0.7505553153178064]</td>\n      <td>[[141, 332, 282, 309], [601, 383, 271, 271]]</td>\n    </tr>\n    <tr>\n      <th>14</th>\n      <td>00322d4d-1c29-4943-afc9-b6754be640eb</td>\n      <td>[nan, nan, nan, nan]</td>\n      <td>[0.5847963489402108]</td>\n      <td>[[590, 257, 307, 409]]</td>\n    </tr>\n    <tr>\n      <th>15</th>\n      <td>003d8fa0-6bf1-40ed-b54c-ac657f8495c5</td>\n      <td>[nan, nan, nan, nan]</td>\n      <td>None</td>\n      <td>None</td>\n    </tr>\n    <tr>\n      <th>16</th>\n      <td>00436515-870c-4b36-a041-de91049b9ab4</td>\n      <td>[264.0, 152.0, 213.0, 379.0, 562.0, 152.0, 256...</td>\n      <td>[0.6374050954528511, 0.7600946617083165]</td>\n      <td>[[589, 244, 230, 396], [229, 281, 220, 359]]</td>\n    </tr>\n    <tr>\n      <th>17</th>\n      <td>0049f7b2-229b-4a46-91a3-0e321a3ca80a</td>\n      <td>[nan, nan, nan, nan]</td>\n      <td>None</td>\n      <td>None</td>\n    </tr>\n    <tr>\n      <th>18</th>\n      <td>0053ee32-1e03-4dc2-a103-f46ad0448787</td>\n      <td>[nan, nan, nan, nan]</td>\n      <td>None</td>\n      <td>None</td>\n    </tr>\n    <tr>\n      <th>19</th>\n      <td>00569f44-917d-4c86-a842-81832af98c30</td>\n      <td>[nan, nan, nan, nan]</td>\n      <td>[0.5771302483239992, 0.7037124562892368]</td>\n      <td>[[615, 154, 166, 230], [229, 229, 193, 359]]</td>\n    </tr>\n  </tbody>\n</table>\n</div>"
          },
          "metadata": {}
        }
      ]
    },
    {
      "metadata": {
        "_uuid": "08a4df1090663cc4523ed85ebddc76f36b900d76"
      },
      "cell_type": "markdown",
      "source": "Edit NaN or None values to empty numpy arrays to fit MAP IoU metric implementation"
    },
    {
      "metadata": {
        "scrolled": true,
        "trusted": true,
        "_uuid": "c66ad0761803b12e377a62904f192534546df443"
      },
      "cell_type": "code",
      "source": "df.loc[df['bbox_scores'].isnull(),['bbox_scores']] = df.loc[df['bbox_scores'].isnull(),'bbox_scores'].apply(lambda x: np.asarray([]))",
      "execution_count": 74,
      "outputs": []
    },
    {
      "metadata": {
        "trusted": true,
        "_uuid": "ec0aaf94c955093a98664f8ecebb728fba058695"
      },
      "cell_type": "code",
      "source": "#bbox_scores null 제거 후 출력\ndf.head()",
      "execution_count": 75,
      "outputs": [
        {
          "output_type": "execute_result",
          "execution_count": 75,
          "data": {
            "text/plain": "                              patientId          ...                       bbox_preds\n0  0004cfab-14fd-4e49-80ba-63a80b6bddd6          ...            [[678, 601, 168, 92]]\n1  000924cf-0f8d-42bd-9158-1af53881a557          ...                             None\n2  000db696-cf54-4385-b10b-6b16fbb3f985          ...                             None\n3  000fe35a-2649-43d4-b027-e67796d412e0          ...                             None\n4  001031d9-f904-4a23-b3e5-2c088acd19c6          ...                             None\n\n[5 rows x 4 columns]",
            "text/html": "<div>\n<style scoped>\n    .dataframe tbody tr th:only-of-type {\n        vertical-align: middle;\n    }\n\n    .dataframe tbody tr th {\n        vertical-align: top;\n    }\n\n    .dataframe thead th {\n        text-align: right;\n    }\n</style>\n<table border=\"1\" class=\"dataframe\">\n  <thead>\n    <tr style=\"text-align: right;\">\n      <th></th>\n      <th>patientId</th>\n      <th>bbox_target</th>\n      <th>bbox_scores</th>\n      <th>bbox_preds</th>\n    </tr>\n  </thead>\n  <tbody>\n    <tr>\n      <th>0</th>\n      <td>0004cfab-14fd-4e49-80ba-63a80b6bddd6</td>\n      <td>[nan, nan, nan, nan]</td>\n      <td>[0.5635066863544611]</td>\n      <td>[[678, 601, 168, 92]]</td>\n    </tr>\n    <tr>\n      <th>1</th>\n      <td>000924cf-0f8d-42bd-9158-1af53881a557</td>\n      <td>[nan, nan, nan, nan]</td>\n      <td>[]</td>\n      <td>None</td>\n    </tr>\n    <tr>\n      <th>2</th>\n      <td>000db696-cf54-4385-b10b-6b16fbb3f985</td>\n      <td>[316.0, 318.0, 170.0, 478.0, 660.0, 375.0, 146...</td>\n      <td>[]</td>\n      <td>None</td>\n    </tr>\n    <tr>\n      <th>3</th>\n      <td>000fe35a-2649-43d4-b027-e67796d412e0</td>\n      <td>[570.0, 282.0, 269.0, 409.0, 83.0, 227.0, 296....</td>\n      <td>[]</td>\n      <td>None</td>\n    </tr>\n    <tr>\n      <th>4</th>\n      <td>001031d9-f904-4a23-b3e5-2c088acd19c6</td>\n      <td>[66.0, 160.0, 373.0, 608.0, 552.0, 164.0, 376....</td>\n      <td>[]</td>\n      <td>None</td>\n    </tr>\n  </tbody>\n</table>\n</div>"
          },
          "metadata": {}
        }
      ]
    },
    {
      "metadata": {
        "scrolled": true,
        "trusted": true,
        "_uuid": "d4a5a592d671322648a3cfff47e9fccb791e0aac"
      },
      "cell_type": "code",
      "source": "df.loc[df['bbox_preds'].isnull(),['bbox_preds']] = df.loc[df['bbox_preds'].isnull(),'bbox_preds'].apply(lambda x: np.asarray([]))",
      "execution_count": 76,
      "outputs": []
    },
    {
      "metadata": {
        "trusted": true,
        "_uuid": "bff01ed1d7af24de3f655063386f5a33db36b5a2"
      },
      "cell_type": "code",
      "source": "#bbox_pred null 제거 후 출력\ndf.head()",
      "execution_count": 77,
      "outputs": [
        {
          "output_type": "execute_result",
          "execution_count": 77,
          "data": {
            "text/plain": "                              patientId          ...                       bbox_preds\n0  0004cfab-14fd-4e49-80ba-63a80b6bddd6          ...            [[678, 601, 168, 92]]\n1  000924cf-0f8d-42bd-9158-1af53881a557          ...                               []\n2  000db696-cf54-4385-b10b-6b16fbb3f985          ...                               []\n3  000fe35a-2649-43d4-b027-e67796d412e0          ...                               []\n4  001031d9-f904-4a23-b3e5-2c088acd19c6          ...                               []\n\n[5 rows x 4 columns]",
            "text/html": "<div>\n<style scoped>\n    .dataframe tbody tr th:only-of-type {\n        vertical-align: middle;\n    }\n\n    .dataframe tbody tr th {\n        vertical-align: top;\n    }\n\n    .dataframe thead th {\n        text-align: right;\n    }\n</style>\n<table border=\"1\" class=\"dataframe\">\n  <thead>\n    <tr style=\"text-align: right;\">\n      <th></th>\n      <th>patientId</th>\n      <th>bbox_target</th>\n      <th>bbox_scores</th>\n      <th>bbox_preds</th>\n    </tr>\n  </thead>\n  <tbody>\n    <tr>\n      <th>0</th>\n      <td>0004cfab-14fd-4e49-80ba-63a80b6bddd6</td>\n      <td>[nan, nan, nan, nan]</td>\n      <td>[0.5635066863544611]</td>\n      <td>[[678, 601, 168, 92]]</td>\n    </tr>\n    <tr>\n      <th>1</th>\n      <td>000924cf-0f8d-42bd-9158-1af53881a557</td>\n      <td>[nan, nan, nan, nan]</td>\n      <td>[]</td>\n      <td>[]</td>\n    </tr>\n    <tr>\n      <th>2</th>\n      <td>000db696-cf54-4385-b10b-6b16fbb3f985</td>\n      <td>[316.0, 318.0, 170.0, 478.0, 660.0, 375.0, 146...</td>\n      <td>[]</td>\n      <td>[]</td>\n    </tr>\n    <tr>\n      <th>3</th>\n      <td>000fe35a-2649-43d4-b027-e67796d412e0</td>\n      <td>[570.0, 282.0, 269.0, 409.0, 83.0, 227.0, 296....</td>\n      <td>[]</td>\n      <td>[]</td>\n    </tr>\n    <tr>\n      <th>4</th>\n      <td>001031d9-f904-4a23-b3e5-2c088acd19c6</td>\n      <td>[66.0, 160.0, 373.0, 608.0, 552.0, 164.0, 376....</td>\n      <td>[]</td>\n      <td>[]</td>\n    </tr>\n  </tbody>\n</table>\n</div>"
          },
          "metadata": {}
        }
      ]
    },
    {
      "metadata": {
        "trusted": true,
        "_uuid": "fb9e3dc75a8c3ec9d2424e0496e0124f9661af3f"
      },
      "cell_type": "code",
      "source": "def parse_target_str(x):\n    if x[0] != 'nan':\n        bbox = np.asarray([int(float(x[k])) for k in range(0,len(x))])\n        return bbox.reshape(int(len(bbox)/4),4)",
      "execution_count": 78,
      "outputs": []
    },
    {
      "metadata": {
        "trusted": true,
        "_uuid": "360f0605fcb1c3d1bd6466adbd561fd33688b279"
      },
      "cell_type": "code",
      "source": "df.loc[:,'bbox_target'] = df.loc[:,'bbox_target'].map(parse_target_str)\ndf.head()\n#bbox_target값 4개씩 묶어서 재 배열",
      "execution_count": 79,
      "outputs": [
        {
          "output_type": "execute_result",
          "execution_count": 79,
          "data": {
            "text/plain": "                              patientId          ...                       bbox_preds\n0  0004cfab-14fd-4e49-80ba-63a80b6bddd6          ...            [[678, 601, 168, 92]]\n1  000924cf-0f8d-42bd-9158-1af53881a557          ...                               []\n2  000db696-cf54-4385-b10b-6b16fbb3f985          ...                               []\n3  000fe35a-2649-43d4-b027-e67796d412e0          ...                               []\n4  001031d9-f904-4a23-b3e5-2c088acd19c6          ...                               []\n\n[5 rows x 4 columns]",
            "text/html": "<div>\n<style scoped>\n    .dataframe tbody tr th:only-of-type {\n        vertical-align: middle;\n    }\n\n    .dataframe tbody tr th {\n        vertical-align: top;\n    }\n\n    .dataframe thead th {\n        text-align: right;\n    }\n</style>\n<table border=\"1\" class=\"dataframe\">\n  <thead>\n    <tr style=\"text-align: right;\">\n      <th></th>\n      <th>patientId</th>\n      <th>bbox_target</th>\n      <th>bbox_scores</th>\n      <th>bbox_preds</th>\n    </tr>\n  </thead>\n  <tbody>\n    <tr>\n      <th>0</th>\n      <td>0004cfab-14fd-4e49-80ba-63a80b6bddd6</td>\n      <td>None</td>\n      <td>[0.5635066863544611]</td>\n      <td>[[678, 601, 168, 92]]</td>\n    </tr>\n    <tr>\n      <th>1</th>\n      <td>000924cf-0f8d-42bd-9158-1af53881a557</td>\n      <td>None</td>\n      <td>[]</td>\n      <td>[]</td>\n    </tr>\n    <tr>\n      <th>2</th>\n      <td>000db696-cf54-4385-b10b-6b16fbb3f985</td>\n      <td>[[316, 318, 170, 478], [660, 375, 146, 402]]</td>\n      <td>[]</td>\n      <td>[]</td>\n    </tr>\n    <tr>\n      <th>3</th>\n      <td>000fe35a-2649-43d4-b027-e67796d412e0</td>\n      <td>[[570, 282, 269, 409], [83, 227, 296, 438]]</td>\n      <td>[]</td>\n      <td>[]</td>\n    </tr>\n    <tr>\n      <th>4</th>\n      <td>001031d9-f904-4a23-b3e5-2c088acd19c6</td>\n      <td>[[66, 160, 373, 608], [552, 164, 376, 676]]</td>\n      <td>[]</td>\n      <td>[]</td>\n    </tr>\n  </tbody>\n</table>\n</div>"
          },
          "metadata": {}
        }
      ]
    },
    {
      "metadata": {
        "scrolled": true,
        "trusted": true,
        "_uuid": "0f56fbb9bccd180f743f7551c31408b6fdaac46b"
      },
      "cell_type": "code",
      "source": "df.loc[df['bbox_target'].isnull(),['bbox_target']] = df.loc[df['bbox_target'].isnull(),'bbox_target'].apply(lambda x: np.asarray([]))",
      "execution_count": 80,
      "outputs": []
    },
    {
      "metadata": {
        "trusted": true,
        "_uuid": "f95413c0eccef734f9d19e2f134b4c7a691c1ac9"
      },
      "cell_type": "code",
      "source": "df.head()\n# bbox_target null 제거 후 출력",
      "execution_count": 81,
      "outputs": [
        {
          "output_type": "execute_result",
          "execution_count": 81,
          "data": {
            "text/plain": "                              patientId          ...                       bbox_preds\n0  0004cfab-14fd-4e49-80ba-63a80b6bddd6          ...            [[678, 601, 168, 92]]\n1  000924cf-0f8d-42bd-9158-1af53881a557          ...                               []\n2  000db696-cf54-4385-b10b-6b16fbb3f985          ...                               []\n3  000fe35a-2649-43d4-b027-e67796d412e0          ...                               []\n4  001031d9-f904-4a23-b3e5-2c088acd19c6          ...                               []\n\n[5 rows x 4 columns]",
            "text/html": "<div>\n<style scoped>\n    .dataframe tbody tr th:only-of-type {\n        vertical-align: middle;\n    }\n\n    .dataframe tbody tr th {\n        vertical-align: top;\n    }\n\n    .dataframe thead th {\n        text-align: right;\n    }\n</style>\n<table border=\"1\" class=\"dataframe\">\n  <thead>\n    <tr style=\"text-align: right;\">\n      <th></th>\n      <th>patientId</th>\n      <th>bbox_target</th>\n      <th>bbox_scores</th>\n      <th>bbox_preds</th>\n    </tr>\n  </thead>\n  <tbody>\n    <tr>\n      <th>0</th>\n      <td>0004cfab-14fd-4e49-80ba-63a80b6bddd6</td>\n      <td>[]</td>\n      <td>[0.5635066863544611]</td>\n      <td>[[678, 601, 168, 92]]</td>\n    </tr>\n    <tr>\n      <th>1</th>\n      <td>000924cf-0f8d-42bd-9158-1af53881a557</td>\n      <td>[]</td>\n      <td>[]</td>\n      <td>[]</td>\n    </tr>\n    <tr>\n      <th>2</th>\n      <td>000db696-cf54-4385-b10b-6b16fbb3f985</td>\n      <td>[[316, 318, 170, 478], [660, 375, 146, 402]]</td>\n      <td>[]</td>\n      <td>[]</td>\n    </tr>\n    <tr>\n      <th>3</th>\n      <td>000fe35a-2649-43d4-b027-e67796d412e0</td>\n      <td>[[570, 282, 269, 409], [83, 227, 296, 438]]</td>\n      <td>[]</td>\n      <td>[]</td>\n    </tr>\n    <tr>\n      <th>4</th>\n      <td>001031d9-f904-4a23-b3e5-2c088acd19c6</td>\n      <td>[[66, 160, 373, 608], [552, 164, 376, 676]]</td>\n      <td>[]</td>\n      <td>[]</td>\n    </tr>\n  </tbody>\n</table>\n</div>"
          },
          "metadata": {}
        }
      ]
    },
    {
      "metadata": {
        "_uuid": "bc462c04aa4d250e862280e207d25444b18ae7bc"
      },
      "cell_type": "markdown",
      "source": "# Find mean average precision IoU using implementation by chenyc15 https://www.kaggle.com/chenyc15/mean-average-precision-metric and edited herein"
    },
    {
      "metadata": {
        "trusted": true,
        "_uuid": "5194314ded5199dad9ea8725ff428f2102d8ac5f"
      },
      "cell_type": "code",
      "source": "# helper function to calculate IoU\ndef iou(box1, box2):\n    x11, y11, w1, h1 = box1\n    x21, y21, w2, h2 = box2\n    assert w1 * h1 > 0\n    assert w2 * h2 > 0\n    x12, y12 = x11 + w1, y11 + h1\n    x22, y22 = x21 + w2, y21 + h2\n\n    area1, area2 = w1 * h1, w2 * h2\n    xi1, yi1, xi2, yi2 = max([x11, x21]), max([y11, y21]), min([x12, x22]), min([y12, y22])\n    \n    if xi2 <= xi1 or yi2 <= yi1:\n        return 0\n    else:\n        intersect = (xi2-xi1) * (yi2-yi1)\n        union = area1 + area2 - intersect\n        return intersect / union",
      "execution_count": 82,
      "outputs": []
    },
    {
      "metadata": {
        "trusted": true,
        "_uuid": "0589be0aee106c1369a4dce22d750958b34a2d57"
      },
      "cell_type": "code",
      "source": "def map_iou(boxes_true, boxes_pred, scores, thresholds = [0.4, 0.45, 0.5, 0.55, 0.6, 0.65, 0.7, 0.75]):\n    \"\"\"\n    Mean average precision at differnet intersection over union (IoU) threshold\n    \n    input:\n        boxes_true: Mx4 numpy array of ground true bounding boxes of one image. \n                    bbox format: (x1, y1, w, h)\n        boxes_pred: Nx4 numpy array of predicted bounding boxes of one image. \n                    bbox format: (x1, y1, w, h)\n        scores:     length N numpy array of scores associated with predicted bboxes\n        thresholds: IoU shresholds to evaluate mean average precision on\n    output: \n        map: mean average precision of the image\n    \"\"\"\n    \n    # According to the introduction, images with no ground truth bboxes will not be \n    # included in the map score unless there is a false positive detection (?)\n        \n    # return None if both are empty, don't count the image in final evaluation (?)\n    if len(boxes_true) == 0 and len(boxes_pred) == 0:\n        return None\n    elif len(boxes_true) == 0 and len(boxes_pred) > 0:\n        return 0\n    elif len(boxes_true) > 0 and len(boxes_pred) == 0:\n        return 0\n    elif len(boxes_true) > 0 and len(boxes_pred) > 0:\n        assert boxes_true.shape[1] == 4 or boxes_pred.shape[1] == 4, \"boxes should be 2D arrays with shape[1]=4\"\n        if len(boxes_pred):\n            assert len(scores) == len(boxes_pred), \"boxes_pred and scores should be same length\"\n            # sort boxes_pred by scores in decreasing order\n            boxes_pred = boxes_pred[np.argsort(scores)[::-1], :]\n\n        map_total = 0\n\n        # loop over thresholds\n        for t in thresholds:\n            matched_bt = set()\n            tp, fn = 0, 0\n            for i, bt in enumerate(boxes_true):\n                matched = False\n                for j, bp in enumerate(boxes_pred):\n                    miou = iou(bt, bp)\n                    if miou >= t and not matched and j not in matched_bt:\n                        matched = True\n                        tp += 1 # bt is matched for the first time, count as TP\n                        matched_bt.add(j)\n                if not matched:\n                    fn += 1 # bt has no match, count as FN\n\n            fp = len(boxes_pred) - len(matched_bt) # FP is the bp that not matched to any bt\n            m = tp / (tp + fn + fp)\n            map_total += m\n    \n    return map_total / len(thresholds)",
      "execution_count": 83,
      "outputs": []
    },
    {
      "metadata": {
        "scrolled": false,
        "trusted": true,
        "_uuid": "87d7996c6211191766a4b9dc8c6880d15ddb30c3"
      },
      "cell_type": "code",
      "source": "df.head(20)",
      "execution_count": 84,
      "outputs": [
        {
          "output_type": "execute_result",
          "execution_count": 84,
          "data": {
            "text/plain": "                               patientId                      ...                                                         bbox_preds\n0   0004cfab-14fd-4e49-80ba-63a80b6bddd6                      ...                                              [[678, 601, 168, 92]]\n1   000924cf-0f8d-42bd-9158-1af53881a557                      ...                                                                 []\n2   000db696-cf54-4385-b10b-6b16fbb3f985                      ...                                                                 []\n3   000fe35a-2649-43d4-b027-e67796d412e0                      ...                                                                 []\n4   001031d9-f904-4a23-b3e5-2c088acd19c6                      ...                                                                 []\n5   0010f549-b242-4e94-87a8-57d79de215fc                      ...                                                                 []\n6   001916b8-3d30-4935-a5d1-8eaddb1646cd                      ...                                                                 []\n7   0022073f-cec8-42ec-ab5f-bc2314649235                      ...                                                                 []\n8   0022995a-45eb-4cfa-9a59-cd15f5196c64                      ...                                                                 []\n9   0025d2de-bd78-4d36-9f72-e15a5e22ca82                      ...                                                                 []\n10  00293de0-a530-41dc-9621-0b3def01d06d                      ...                                                                 []\n11  002c591d-df62-4e34-8eda-838c664430a9                      ...                                                                 []\n12  002cb550-2e31-42f1-a29d-fbc279977e71                      ...                                                                 []\n13  00313ee0-9eaa-42f4-b0ab-c148ed3241cd                      ...                       [[141, 332, 282, 309], [601, 383, 271, 271]]\n14  00322d4d-1c29-4943-afc9-b6754be640eb                      ...                                             [[590, 257, 307, 409]]\n15  003d8fa0-6bf1-40ed-b54c-ac657f8495c5                      ...                                                                 []\n16  00436515-870c-4b36-a041-de91049b9ab4                      ...                       [[589, 244, 230, 396], [229, 281, 220, 359]]\n17  0049f7b2-229b-4a46-91a3-0e321a3ca80a                      ...                                                                 []\n18  0053ee32-1e03-4dc2-a103-f46ad0448787                      ...                                                                 []\n19  00569f44-917d-4c86-a842-81832af98c30                      ...                       [[615, 154, 166, 230], [229, 229, 193, 359]]\n\n[20 rows x 4 columns]",
            "text/html": "<div>\n<style scoped>\n    .dataframe tbody tr th:only-of-type {\n        vertical-align: middle;\n    }\n\n    .dataframe tbody tr th {\n        vertical-align: top;\n    }\n\n    .dataframe thead th {\n        text-align: right;\n    }\n</style>\n<table border=\"1\" class=\"dataframe\">\n  <thead>\n    <tr style=\"text-align: right;\">\n      <th></th>\n      <th>patientId</th>\n      <th>bbox_target</th>\n      <th>bbox_scores</th>\n      <th>bbox_preds</th>\n    </tr>\n  </thead>\n  <tbody>\n    <tr>\n      <th>0</th>\n      <td>0004cfab-14fd-4e49-80ba-63a80b6bddd6</td>\n      <td>[]</td>\n      <td>[0.5635066863544611]</td>\n      <td>[[678, 601, 168, 92]]</td>\n    </tr>\n    <tr>\n      <th>1</th>\n      <td>000924cf-0f8d-42bd-9158-1af53881a557</td>\n      <td>[]</td>\n      <td>[]</td>\n      <td>[]</td>\n    </tr>\n    <tr>\n      <th>2</th>\n      <td>000db696-cf54-4385-b10b-6b16fbb3f985</td>\n      <td>[[316, 318, 170, 478], [660, 375, 146, 402]]</td>\n      <td>[]</td>\n      <td>[]</td>\n    </tr>\n    <tr>\n      <th>3</th>\n      <td>000fe35a-2649-43d4-b027-e67796d412e0</td>\n      <td>[[570, 282, 269, 409], [83, 227, 296, 438]]</td>\n      <td>[]</td>\n      <td>[]</td>\n    </tr>\n    <tr>\n      <th>4</th>\n      <td>001031d9-f904-4a23-b3e5-2c088acd19c6</td>\n      <td>[[66, 160, 373, 608], [552, 164, 376, 676]]</td>\n      <td>[]</td>\n      <td>[]</td>\n    </tr>\n    <tr>\n      <th>5</th>\n      <td>0010f549-b242-4e94-87a8-57d79de215fc</td>\n      <td>[]</td>\n      <td>[]</td>\n      <td>[]</td>\n    </tr>\n    <tr>\n      <th>6</th>\n      <td>001916b8-3d30-4935-a5d1-8eaddb1646cd</td>\n      <td>[[198, 375, 114, 206]]</td>\n      <td>[]</td>\n      <td>[]</td>\n    </tr>\n    <tr>\n      <th>7</th>\n      <td>0022073f-cec8-42ec-ab5f-bc2314649235</td>\n      <td>[[575, 232, 246, 528], [161, 230, 223, 486]]</td>\n      <td>[]</td>\n      <td>[]</td>\n    </tr>\n    <tr>\n      <th>8</th>\n      <td>0022995a-45eb-4cfa-9a59-cd15f5196c64</td>\n      <td>[]</td>\n      <td>[]</td>\n      <td>[]</td>\n    </tr>\n    <tr>\n      <th>9</th>\n      <td>0025d2de-bd78-4d36-9f72-e15a5e22ca82</td>\n      <td>[]</td>\n      <td>[]</td>\n      <td>[]</td>\n    </tr>\n    <tr>\n      <th>10</th>\n      <td>00293de0-a530-41dc-9621-0b3def01d06d</td>\n      <td>[]</td>\n      <td>[]</td>\n      <td>[]</td>\n    </tr>\n    <tr>\n      <th>11</th>\n      <td>002c591d-df62-4e34-8eda-838c664430a9</td>\n      <td>[]</td>\n      <td>[]</td>\n      <td>[]</td>\n    </tr>\n    <tr>\n      <th>12</th>\n      <td>002cb550-2e31-42f1-a29d-fbc279977e71</td>\n      <td>[[176, 342, 170, 239], [515, 333, 167, 251]]</td>\n      <td>[]</td>\n      <td>[]</td>\n    </tr>\n    <tr>\n      <th>13</th>\n      <td>00313ee0-9eaa-42f4-b0ab-c148ed3241cd</td>\n      <td>[]</td>\n      <td>[0.800043115296375, 0.7505553153178064]</td>\n      <td>[[141, 332, 282, 309], [601, 383, 271, 271]]</td>\n    </tr>\n    <tr>\n      <th>14</th>\n      <td>00322d4d-1c29-4943-afc9-b6754be640eb</td>\n      <td>[]</td>\n      <td>[0.5847963489402108]</td>\n      <td>[[590, 257, 307, 409]]</td>\n    </tr>\n    <tr>\n      <th>15</th>\n      <td>003d8fa0-6bf1-40ed-b54c-ac657f8495c5</td>\n      <td>[]</td>\n      <td>[]</td>\n      <td>[]</td>\n    </tr>\n    <tr>\n      <th>16</th>\n      <td>00436515-870c-4b36-a041-de91049b9ab4</td>\n      <td>[[264, 152, 213, 379], [562, 152, 256, 453]]</td>\n      <td>[0.6374050954528511, 0.7600946617083165]</td>\n      <td>[[589, 244, 230, 396], [229, 281, 220, 359]]</td>\n    </tr>\n    <tr>\n      <th>17</th>\n      <td>0049f7b2-229b-4a46-91a3-0e321a3ca80a</td>\n      <td>[]</td>\n      <td>[]</td>\n      <td>[]</td>\n    </tr>\n    <tr>\n      <th>18</th>\n      <td>0053ee32-1e03-4dc2-a103-f46ad0448787</td>\n      <td>[]</td>\n      <td>[]</td>\n      <td>[]</td>\n    </tr>\n    <tr>\n      <th>19</th>\n      <td>00569f44-917d-4c86-a842-81832af98c30</td>\n      <td>[]</td>\n      <td>[0.5771302483239992, 0.7037124562892368]</td>\n      <td>[[615, 154, 166, 230], [229, 229, 193, 359]]</td>\n    </tr>\n  </tbody>\n</table>\n</div>"
          },
          "metadata": {}
        }
      ]
    },
    {
      "metadata": {
        "trusted": true,
        "_uuid": "2213344b1af6ef259fe790da786e01c644525fdb"
      },
      "cell_type": "code",
      "source": "#map_iou test, 상위 10개 행만 테스트\nfor row in range(20):\n    print(map_iou(df['bbox_target'][row], df['bbox_preds'][row], df['bbox_scores'][row]))",
      "execution_count": 90,
      "outputs": [
        {
          "output_type": "stream",
          "text": "0\nNone\n0\n0\n0\nNone\n0\n0\nNone\nNone\nNone\nNone\n0\n0\n0\nNone\n0.3333333333333333\nNone\nNone\n0\n",
          "name": "stdout"
        }
      ]
    },
    {
      "metadata": {
        "trusted": true,
        "_uuid": "8ef669b34be8b2e66b91cad868575b94f84b810c"
      },
      "cell_type": "code",
      "source": "#non이 아닐때만 map_iou 계산\nmap_scores = [\n    x for x in [map_iou(df['bbox_target'][row], df['bbox_preds'][row], df['bbox_scores'][row]) for row in range(len(df))] if x is not None]",
      "execution_count": 86,
      "outputs": []
    },
    {
      "metadata": {
        "trusted": true,
        "_uuid": "02407979a332f12667eea6bfab4fdde7c4a2ea12"
      },
      "cell_type": "code",
      "source": "map_scores",
      "execution_count": 88,
      "outputs": [
        {
          "output_type": "execute_result",
          "execution_count": 88,
          "data": {
            "text/plain": "[0,\n 0,\n 0,\n 0,\n 0,\n 0,\n 0,\n 0,\n 0,\n 0.3333333333333333,\n 0,\n 0,\n 0.0,\n 0,\n 0,\n 0,\n 0,\n 0,\n 0.0,\n 0.08333333333333333,\n 0,\n 0,\n 0.24999999999999997,\n 0,\n 0.0,\n 0,\n 0,\n 0.0,\n 0.125,\n 0,\n 0,\n 0.0,\n 0,\n 0.0,\n 0,\n 0,\n 0,\n 0.125,\n 0.0,\n 0.0,\n 0,\n 0.0,\n 0.0,\n 0,\n 0,\n 0,\n 0,\n 0.0,\n 0,\n 0,\n 0.7083333333333333,\n 0,\n 0.0,\n 0,\n 0,\n 0.08333333333333333,\n 0,\n 0,\n 0.0,\n 0.0,\n 0,\n 0.375,\n 0.3125,\n 0,\n 0.0,\n 0,\n 0,\n 0,\n 0.0,\n 0,\n 0,\n 0,\n 0,\n 0,\n 0,\n 0,\n 0,\n 0.0,\n 0,\n 0,\n 0,\n 0.0,\n 0,\n 0,\n 0.0,\n 0.0,\n 0,\n 0,\n 0.0,\n 0.0,\n 0,\n 0,\n 0,\n 0,\n 0.0,\n 0,\n 0.16666666666666666,\n 0.041666666666666664,\n 0,\n 0,\n 0,\n 0.0,\n 0,\n 0.0,\n 0.0,\n 0,\n 0,\n 0,\n 0,\n 0.0,\n 0,\n 0,\n 0,\n 0,\n 0,\n 0,\n 0.0625,\n 0.0,\n 0.0,\n 0,\n 0,\n 0.0,\n 0.0,\n 0,\n 0,\n 0,\n 0,\n 0,\n 0,\n 0,\n 0.0,\n 0,\n 0,\n 0,\n 0,\n 0,\n 0,\n 0,\n 0,\n 0,\n 0,\n 0,\n 0.0,\n 0,\n 0.0,\n 0,\n 0,\n 0,\n 0,\n 0,\n 0.0,\n 0.0,\n 0,\n 0,\n 0,\n 0,\n 0,\n 0,\n 0.0,\n 0.375,\n 0.0,\n 0,\n 0.0,\n 0.0625,\n 0,\n 0,\n 0,\n 0.0,\n 0,\n 0.0,\n 0.0,\n 0,\n 0.125,\n 0,\n 0,\n 0.0,\n 0,\n 0.0,\n 0.0625,\n 0,\n 0,\n 0.875,\n 0.4166666666666667,\n 0.125,\n 0,\n 0,\n 0.0,\n 0.0,\n 0,\n 0.375,\n 0.0,\n 0,\n 0.0,\n 0,\n 0,\n 0,\n 0,\n 0,\n 0.25,\n 0,\n 0,\n 0.375,\n 0,\n 0.020833333333333332,\n 0.0,\n 0,\n 0.25,\n 0,\n 0.5416666666666666,\n 0,\n 0,\n 0,\n 0,\n 0,\n 0,\n 0,\n 0.0,\n 0,\n 0,\n 0,\n 0.37500000000000006,\n 0,\n 0,\n 0.0,\n 0,\n 0,\n 0.875,\n 0,\n 0,\n 0,\n 0.4583333333333334,\n 0.625,\n 0,\n 0,\n 0.0,\n 0,\n 0,\n 0.5,\n 0,\n 0,\n 0.3125,\n 0,\n 0.0,\n 0.25,\n 0.0,\n 0.0,\n 0.125,\n 0.41666666666666674,\n 0.0,\n 0.5833333333333333,\n 0,\n 0,\n 0,\n 0.25,\n 0,\n 0,\n 0.0,\n 0,\n 0.5416666666666666,\n 0,\n 0.0,\n 0,\n 0.0,\n 0,\n 0,\n 0,\n 0.0,\n 0,\n 0.0,\n 0.0,\n 0.9166666666666666,\n 0,\n 0,\n 0,\n 0,\n 0,\n 0,\n 0,\n 0.24999999999999997,\n 0.16666666666666666,\n 0,\n 0.0,\n 0.5416666666666666,\n 0,\n 0,\n 0,\n 0.1875,\n 0,\n 0,\n 0.03125,\n 0,\n 0,\n 0,\n 0.09375,\n 0.9166666666666666,\n 0,\n 0,\n 0,\n 0,\n 0,\n 0,\n 0,\n 0,\n 0,\n 0,\n 0,\n 0.5416666666666666,\n 0,\n 0.1875,\n 0,\n 0,\n 0,\n 0,\n 0,\n 0,\n 0,\n 0,\n 0,\n 0.25,\n 0,\n 0,\n 0,\n 0.0,\n 0,\n 0,\n 0,\n 0,\n 0.0,\n 0.5,\n 0,\n 0.375,\n 0,\n 0,\n 0,\n 0.0,\n 0,\n 0,\n 0.0,\n 0,\n 0,\n 0,\n 0.09375,\n 0,\n 0,\n 0,\n 0,\n 0,\n 0,\n 0,\n 0,\n 0.0,\n 0,\n 0,\n 0,\n 0.375,\n 0,\n 0,\n 0.0,\n 0.041666666666666664,\n 0.0,\n 0,\n 0,\n 0,\n 0,\n 0,\n 0,\n 0,\n 0.5,\n 0.0625,\n 0.0,\n 0,\n 0,\n 0.0,\n 0,\n 0,\n 0.8333333333333333,\n 0.0,\n 0.1,\n 0,\n 0.0,\n 0,\n 0.375,\n 0,\n 0,\n 0.0,\n 0,\n 0,\n 0,\n 0.0,\n 0,\n 0,\n 0.75,\n 0,\n 0,\n 0,\n 0,\n 0.0,\n 0.0,\n 0,\n 0.125,\n 0,\n 0,\n 0,\n 0,\n 0,\n 0.0,\n 0,\n 0.0625,\n 0.125,\n 0.5104166666666666,\n 0,\n 0,\n 0,\n 0.16666666666666666,\n 0,\n 0,\n 0,\n 0,\n 0.0625,\n 0.0,\n 0,\n 0,\n 0,\n 0.0,\n 0,\n 0.0,\n 0.0,\n 0.0,\n 0.0,\n 0.125,\n 0,\n 0,\n 0.0,\n 0,\n 0.8333333333333333,\n 0,\n 0,\n 0,\n 0,\n 0.7499999999999999,\n 0.0,\n 0,\n 0.875,\n 0.0,\n 0,\n 0,\n 0.0,\n 0,\n 0,\n 0.0,\n 0,\n 0,\n 0.0,\n 0.0,\n 0.0,\n 0,\n 0,\n 0,\n 0.0,\n 0,\n 0.03125,\n 0.0,\n 0,\n 0,\n 0,\n 0.08333333333333333,\n 0.0,\n 0,\n 0,\n 0,\n 0,\n 0.0,\n 0,\n 0.0,\n 0,\n 0,\n 0.08333333333333333,\n 0,\n 0.0,\n 0,\n 0,\n 0,\n 0.0,\n 0.0,\n 0,\n 0,\n 0,\n 0,\n 0.0,\n 0.5833333333333333,\n 0,\n 0,\n 0.32291666666666663,\n 0,\n 0,\n 0,\n 0.16666666666666666,\n 0,\n 0.0,\n 0,\n 0.0,\n 0.0,\n 0.0,\n 0,\n 0,\n 0.0,\n 0,\n 0.125,\n 0,\n 0,\n 0,\n 0.21875,\n 0.0,\n 0,\n 0,\n 0.0625,\n 0.08333333333333333,\n 0,\n 0,\n 0,\n 0,\n 0,\n 0,\n 0.0,\n 0.0,\n 0,\n 0,\n 0,\n 0.0,\n 0,\n 0,\n 0,\n 0,\n 0.5833333333333333,\n 0,\n 0,\n 0,\n 0,\n 0.0,\n 0.0,\n 0,\n 0,\n 0.0,\n 0,\n 0.08333333333333333,\n 0,\n 0,\n 0,\n 0,\n 0.0,\n 0,\n 0.25,\n 0,\n 0,\n 0,\n 0.08333333333333333,\n 0,\n 0.0,\n 0,\n 0.0,\n 0,\n 0,\n 0,\n 0,\n 0,\n 0,\n 0.0,\n 0,\n 0,\n 0,\n 0,\n 0,\n 0.0,\n 0,\n 0.08333333333333333,\n 0,\n 0.9166666666666666,\n 0,\n 0,\n 0,\n 0.0,\n 0.0,\n 0,\n 0,\n 0.0,\n 0,\n 0,\n 0,\n 0,\n 0,\n 0,\n 0,\n 0,\n 0,\n 0.0,\n 0,\n 0.0,\n 0.24999999999999997,\n 0,\n 0,\n 0,\n 0.0625,\n 0,\n 0.08333333333333333,\n 0,\n 0,\n 0.125,\n 0,\n 0,\n 0,\n 0,\n 0,\n 0,\n 0,\n 0.0,\n 0.0,\n 0.0,\n 0,\n 0.0,\n 0.0,\n 0,\n 0,\n 0,\n 0,\n 0,\n 0,\n 0,\n 0,\n 0,\n 0,\n 0,\n 0,\n 0,\n 0,\n 0,\n 0.5,\n 0,\n 0,\n 0,\n 0,\n 0,\n 0,\n 0,\n 0,\n 0,\n 0,\n 0,\n 0.5,\n 0,\n 0.125,\n 0,\n 0,\n 0,\n 0,\n 0,\n 0,\n 0.20833333333333331,\n 0.0,\n 0,\n 0,\n 0,\n 0,\n 0,\n 0.08333333333333333,\n 0,\n 0,\n 0,\n 0,\n 0,\n 0,\n 0,\n 0.041666666666666664,\n 0.3125,\n 0,\n 0,\n 0,\n 0,\n 0,\n 0,\n 0.7499999999999999,\n 0,\n 0,\n 0,\n 0,\n 0,\n 0,\n 0,\n 0,\n 0.0,\n 0.0,\n 0.0,\n 0,\n 0,\n 0,\n 0.0,\n 0.0,\n 0,\n 0,\n 0,\n 0,\n 0,\n 0,\n 0,\n 0.8333333333333333,\n 0.0,\n 0,\n 0,\n 0,\n 0.1875,\n 0.0,\n 0,\n 0,\n 0,\n 0,\n 0,\n 0,\n 0.0,\n 0,\n 0,\n 0,\n 0,\n 0.5,\n 0.0,\n 0,\n 0.0,\n 0,\n 0,\n 0,\n 0.0,\n 0,\n 0,\n 0,\n 0,\n 0,\n 0,\n 0.5,\n 0,\n 0,\n 0,\n 0,\n 0.0,\n 0,\n 0,\n 0.5,\n 0.8333333333333333,\n 0,\n 0.0,\n 0.0,\n 0,\n 0,\n 0,\n 0,\n 0,\n 0,\n 0.0,\n 1.0,\n 0,\n 0,\n 0,\n 0.0,\n 0,\n 0,\n 0,\n 0.25,\n 0,\n 0.0,\n 0.041666666666666664,\n 0.125,\n 0,\n 0.125,\n 0.25,\n 0,\n 0,\n 0,\n 0.0,\n 0.03125,\n 0,\n 0.0,\n 0,\n 0,\n 0,\n 0.0,\n 0,\n 0,\n 0,\n 0,\n 0,\n 0.0,\n 0,\n 0.0,\n 0,\n 0,\n 0,\n 0,\n 0.0,\n 0,\n 0,\n 0,\n 0,\n 0,\n 0.0,\n 0,\n 0,\n 0,\n 0,\n 0,\n 0,\n 0.0,\n 0,\n 0,\n 0,\n 0,\n 0,\n 0,\n 0,\n 0,\n 0,\n 0,\n 0.0,\n 0,\n 0.0,\n 0,\n 0.0,\n 0.0,\n 0.0,\n 0,\n 0,\n 0,\n 0,\n 0.0,\n 0,\n 0.0625,\n 0,\n 0.0,\n 0,\n 0,\n 0,\n 0.0,\n 0.0,\n 0,\n 0,\n 0,\n 0,\n 0,\n 0,\n 0,\n 0.0,\n 0,\n 0.0,\n 0.1875,\n 0,\n 0,\n 0,\n 0,\n 0,\n 0.0,\n 0,\n 0,\n 0.16666666666666666,\n 0,\n 0,\n 0,\n 0,\n 0,\n 0,\n 0,\n 0,\n 0.375,\n 0,\n 0,\n 0,\n 0,\n 0.09375,\n 0,\n 0,\n 0,\n 0,\n 0,\n 0,\n 0,\n 0.0,\n 0,\n 0.0,\n 0,\n 0.0,\n 0,\n 0,\n 0,\n 0,\n 0,\n 0.0,\n 0,\n 0.0,\n 0.0,\n 0.0,\n 0,\n 0,\n 0,\n 0,\n 0.0,\n 0,\n 0,\n 0,\n 0,\n 0,\n 0,\n 0,\n 0,\n 0,\n 0.5,\n 0,\n 0.1875,\n 0,\n 0,\n 0,\n 0.0,\n 0,\n 0,\n 0,\n 0,\n 0,\n 0.6666666666666665,\n 0,\n 0,\n 0,\n 0,\n 0,\n 0,\n 0.0,\n 0,\n 0,\n 0,\n 0,\n 0,\n 0.0,\n 0,\n 0,\n 0.0,\n 0,\n 0.0,\n 0,\n 0.0,\n 0,\n 0.0,\n 0,\n 0,\n 0.0,\n 0,\n 0,\n 0,\n 0,\n 0,\n 0,\n 0.0,\n 0.0,\n 0,\n 0.0,\n 0,\n 0,\n 0,\n 0,\n 0,\n 0,\n 0,\n 0.0,\n 0,\n 0,\n 0.8333333333333333,\n 0,\n 0,\n 0.025,\n 0.0625,\n 0,\n 0.0,\n 0,\n 0,\n 0,\n 0,\n 0,\n 0,\n 0.0,\n 0.0,\n 0.0,\n 0.0,\n 0.0,\n 0,\n 0,\n 0,\n 0,\n 0,\n 0,\n 0,\n 0,\n 0,\n 0,\n 0,\n 0,\n 0.0,\n 0.0,\n 0.0,\n ...]"
          },
          "metadata": {}
        }
      ]
    },
    {
      "metadata": {
        "trusted": true,
        "_uuid": "b47765ae333aa3dcae70c2130a0376b99ad64af6"
      },
      "cell_type": "code",
      "source": "np.mean(map_scores)",
      "execution_count": 91,
      "outputs": [
        {
          "output_type": "execute_result",
          "execution_count": 91,
          "data": {
            "text/plain": "0.06666053129339654"
          },
          "metadata": {}
        }
      ]
    },
    {
      "metadata": {
        "trusted": true,
        "_uuid": "9227ed44db37c4d5200ec0a6c2f16299b4e5ca09"
      },
      "cell_type": "code",
      "source": "",
      "execution_count": null,
      "outputs": []
    }
  ],
  "metadata": {
    "kernelspec": {
      "display_name": "Python 3",
      "language": "python",
      "name": "python3"
    },
    "language_info": {
      "name": "python",
      "version": "3.6.6",
      "mimetype": "text/x-python",
      "codemirror_mode": {
        "name": "ipython",
        "version": 3
      },
      "pygments_lexer": "ipython3",
      "nbconvert_exporter": "python",
      "file_extension": ".py"
    }
  },
  "nbformat": 4,
  "nbformat_minor": 1
}
