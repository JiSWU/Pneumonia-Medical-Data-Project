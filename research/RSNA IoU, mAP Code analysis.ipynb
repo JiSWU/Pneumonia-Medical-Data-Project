{
  "cells": [
    {
      "metadata": {
        "_uuid": "bc462c04aa4d250e862280e207d25444b18ae7bc"
      },
      "cell_type": "markdown",
      "source": "### reference1: https://www.kaggle.com/chenyc15/mean-average-precision-metric and edited herein\n### reference2: https://www.kaggle.com/cchadha/mean-average-precision-iou-on-cnn-oof-preds"
    },
    {
      "metadata": {
        "_uuid": "c8fdbf9aeda28b00dd79d3956574b703fc8716f3"
      },
      "cell_type": "markdown",
      "source": "### RSNA Competition은 IoU 임계치에 따른 mAP를 구해서 submission.csv 평가한다. IoU는 두 bounding box가 일치하는 정도를 나타내며 IoU 각 임계치(0.4 to 0.75까지 0.05 단위, (0.4, 0.45, 0.5, 0.55, 0.6, 0.65, 0.7, 0.75))에서 mAP를 구한다.\n\n### 1.  Bbox, image, model과 AP, mAP 관계\n#### - bounding box의 임계치 별 IoU를 구해서 n개의 Precision 구함\n#### - image 1개는 임계치 별 IoU의 Precision 평균인 AP 1개 출력\n#### - 모든 사진의 AP를 평균 낸 값으로 모델의 mAP를 계산\n\n### 2. AP계산방법\n#### - ground truth와 prediction box 둘 다 값이 없으면 그냥 패스\n#### -  ground truth와 prediction box 둘 중 하나가 0이면 그 image의 FP가 0이므로 AP도 0이므로 return 0\n#### - ground truth와 prediction box 모두 양수이면 prediction box들을 score에 대해 내림차순으로 정렬한 후 차례대로 truth box랑 매칭해서 tp,tn,fp 구함.\n#### (iou> threshold) ->  TP(정탐)\n#### (iou< threshold) ->  FP(미탐)\n#### (예측한 bbox - 찾은 bbox) -> FN(오탐)\n#### 이후, 각 threshold에서 (tp/tp+fp+tn) 구한 후 thresholds 개수로 나눠서 AP 구한다.\n\n##### iou()는 두개의 바운딩 박스를 비교해서 일치정도를 계산하는 함수이다.\n##### map_iou()는 RSNA Validation 방식을 코드로 구현한 함수이다."
    },
    {
      "metadata": {
        "trusted": true,
        "_uuid": "5194314ded5199dad9ea8725ff428f2102d8ac5f"
      },
      "cell_type": "code",
      "source": "# helper function to calculate IoU\ndef iou(box1, box2):\n    x11, y11, w1, h1 = box1\n    x21, y21, w2, h2 = box2\n    assert w1 * h1 > 0\n    assert w2 * h2 > 0\n    x12, y12 = x11 + w1, y11 + h1\n    x22, y22 = x21 + w2, y21 + h2\n\n    area1, area2 = w1 * h1, w2 * h2\n    xi1, yi1, xi2, yi2 = max([x11, x21]), max([y11, y21]), min([x12, x22]), min([y12, y22])\n    \n    if xi2 <= xi1 or yi2 <= yi1:\n        return 0\n    else:\n        intersect = (xi2-xi1) * (yi2-yi1)\n        union = area1 + area2 - intersect\n        return intersect / union",
      "execution_count": null,
      "outputs": []
    },
    {
      "metadata": {
        "trusted": true,
        "_uuid": "0589be0aee106c1369a4dce22d750958b34a2d57"
      },
      "cell_type": "code",
      "source": "# 한 사진에 대해서 mAP 값을 구하는 함수이다.\ndef map_iou(boxes_true, boxes_pred, scores, thresholds = [0.4, 0.45, 0.5, 0.55, 0.6, 0.65, 0.7, 0.75]):\n    \"\"\"\n    Mean average precision at differnet intersection over union (IoU) threshold\n    \n    input:\n        boxes_true: Mx4 numpy array of ground true bounding boxes of one image. \n                    bbox format: (x1, y1, w, h)\n                    ground truth BBox 배열 or 배열들 (x, y, w, h) \n        boxes_pred: Nx4 numpy array of predicted bounding boxes of one image. \n                    bbox format: (x1, y1, w, h)\n                    예측한 bbox 배열 or 배열들 (x, y, w, h)\n        scores:     length N numpy array of scores associated with predicted bboxes\n        thresholds: IoU shresholds to evaluate mean average precision on\n    output: \n        map: mean average precision of the image\n    \"\"\"\n    \n    # According to the introduction, images with no ground truth bboxes will not be \n    # included in the map score unless there is a false positive detection (?)\n        \n    # return None if both are empty, don't count the image in final evaluation (?)\n    \"\"\"\n    모두 0이면 dont count\n    하나는 0이고 하나는 0이 아니면, TP가 0이므로 return 0을 한다.\n    둘 다 하나 이상의 값이 있으면 TP, FN, FP 계산이 필요하다.\n    \"\"\"\n    if len(boxes_true) == 0 and len(boxes_pred) == 0:     \n        return None\n    elif len(boxes_true) == 0 and len(boxes_pred) > 0:  \n        return 0\n    elif len(boxes_true) > 0 and len(boxes_pred) == 0:\n        return 0\n    elif len(boxes_true) > 0 and len(boxes_pred) > 0:\n        assert boxes_true.shape[1] == 4 or boxes_pred.shape[1] == 4, \"boxes should be 2D arrays with shape[1]=4\"\n        if len(boxes_pred):\n            assert len(scores) == len(boxes_pred), \"boxes_pred and scores should be same length\"\n            # sort boxes_pred by scores in decreasing order, bbox를 scores에 따른 내림차순 정렬 \n            boxes_pred = boxes_pred[np.argsort(scores)[::-1], :] \n\n        map_total = 0\n\n        # loop over thresholds\n        for t in thresholds:\n            matched_bt = set()\n            tp, fn = 0, 0\n            for i, bt in enumerate(boxes_true):\n                matched = False\n                for j, bp in enumerate(boxes_pred):\n                    miou = iou(bt, bp)\n                    if miou >= t and not matched and j not in matched_bt:\n                        matched = True # IoU가 t임계치를 넘었으므로 정탐\n                        tp += 1 # bt is matched for the first time, count as TP\n                        matched_bt.add(j)\n                if not matched: # 모든 bbox t임계치를 넘지 못했으므로 미탐\n                    fn += 1 # bt has no match, count as FN\n                    \n            # 예측한 bbox 중에 정탐한 bbox를 제외하면 나머지 bbox는 오탐으로 간주\n            fp = len(boxes_pred) - len(matched_bt) # FP is the bp that not matched to any bt\n            m = tp / (tp + fn + fp)\n            map_total += m # 모든 임계치에 대해서 m 값을 계산\n    \n    return map_total / len(thresholds) #kaggle validation function",
      "execution_count": null,
      "outputs": []
    }
  ],
  "metadata": {
    "kernelspec": {
      "display_name": "Python 3",
      "language": "python",
      "name": "python3"
    },
    "language_info": {
      "name": "python",
      "version": "3.6.6",
      "mimetype": "text/x-python",
      "codemirror_mode": {
        "name": "ipython",
        "version": 3
      },
      "pygments_lexer": "ipython3",
      "nbconvert_exporter": "python",
      "file_extension": ".py"
    }
  },
  "nbformat": 4,
  "nbformat_minor": 1
}
